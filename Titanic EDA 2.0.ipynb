{
 "cells": [
  {
   "cell_type": "code",
   "execution_count": 1,
   "id": "c3bae6c1",
   "metadata": {},
   "outputs": [],
   "source": [
    "import pandas as pd\n",
    "import numpy as np\n",
    "\n",
    "import matplotlib.pyplot as plt\n",
    "import seaborn as sns\n",
    "\n",
    "import missingno as msno\n",
    "from sklearn.experimental import enable_iterative_imputer\n",
    "from sklearn.impute import (SimpleImputer, IterativeImputer)\n",
    "from sklearn.preprocessing import (OneHotEncoder, StandardScaler)\n",
    "from sklearn.model_selection import (GridSearchCV, cross_val_score)\n",
    "from sklearn.cluster import KMeans\n",
    "from catboost import CatBoostClassifier\n",
    "from sklearn.ensemble import RandomForestClassifier\n",
    "from sklearn.svm import SVC"
   ]
  },
  {
   "cell_type": "code",
   "execution_count": 2,
   "id": "fae9a38a",
   "metadata": {},
   "outputs": [],
   "source": [
    "# pip install catboost"
   ]
  },
  {
   "cell_type": "code",
   "execution_count": 3,
   "id": "57577622",
   "metadata": {},
   "outputs": [
    {
     "data": {
      "text/plain": [
       "'C:\\\\Users\\\\Nandy\\\\PycharmProjects\\\\TitanicProject'"
      ]
     },
     "execution_count": 3,
     "metadata": {},
     "output_type": "execute_result"
    }
   ],
   "source": [
    "pwd"
   ]
  },
  {
   "cell_type": "code",
   "execution_count": 4,
   "id": "ff37ad5b",
   "metadata": {},
   "outputs": [
    {
     "name": "stdout",
     "output_type": "stream",
     "text": [
      "   PassengerId  Survived  Pclass  \\\n",
      "0            1         0       3   \n",
      "1            2         1       1   \n",
      "2            3         1       3   \n",
      "3            4         1       1   \n",
      "4            5         0       3   \n",
      "\n",
      "                                                Name     Sex   Age  SibSp  \\\n",
      "0                            Braund, Mr. Owen Harris    male  22.0      1   \n",
      "1  Cumings, Mrs. John Bradley (Florence Briggs Th...  female  38.0      1   \n",
      "2                             Heikkinen, Miss. Laina  female  26.0      0   \n",
      "3       Futrelle, Mrs. Jacques Heath (Lily May Peel)  female  35.0      1   \n",
      "4                           Allen, Mr. William Henry    male  35.0      0   \n",
      "\n",
      "   Parch            Ticket     Fare Cabin Embarked  \n",
      "0      0         A/5 21171   7.2500   NaN        S  \n",
      "1      0          PC 17599  71.2833   C85        C  \n",
      "2      0  STON/O2. 3101282   7.9250   NaN        S  \n",
      "3      0            113803  53.1000  C123        S  \n",
      "4      0            373450   8.0500   NaN        S  \n"
     ]
    }
   ],
   "source": [
    "#Load data\n",
    "\n",
    "train_df = pd.read_csv(\"./Data/train.csv\")\n",
    "test_df = pd.read_csv(\"./Data/test.csv\")\n",
    "print(train_df.head())"
   ]
  },
  {
   "cell_type": "markdown",
   "id": "7c9bd206",
   "metadata": {},
   "source": [
    "Analyze Data"
   ]
  },
  {
   "cell_type": "code",
   "execution_count": 5,
   "id": "eb963009",
   "metadata": {},
   "outputs": [
    {
     "data": {
      "text/html": [
       "<div>\n",
       "<style scoped>\n",
       "    .dataframe tbody tr th:only-of-type {\n",
       "        vertical-align: middle;\n",
       "    }\n",
       "\n",
       "    .dataframe tbody tr th {\n",
       "        vertical-align: top;\n",
       "    }\n",
       "\n",
       "    .dataframe thead th {\n",
       "        text-align: right;\n",
       "    }\n",
       "</style>\n",
       "<table border=\"1\" class=\"dataframe\">\n",
       "  <thead>\n",
       "    <tr style=\"text-align: right;\">\n",
       "      <th></th>\n",
       "      <th>PassengerId</th>\n",
       "      <th>Survived</th>\n",
       "      <th>Pclass</th>\n",
       "      <th>Name</th>\n",
       "      <th>Sex</th>\n",
       "      <th>Age</th>\n",
       "      <th>SibSp</th>\n",
       "      <th>Parch</th>\n",
       "      <th>Ticket</th>\n",
       "      <th>Fare</th>\n",
       "      <th>Cabin</th>\n",
       "      <th>Embarked</th>\n",
       "    </tr>\n",
       "  </thead>\n",
       "  <tbody>\n",
       "    <tr>\n",
       "      <th>0</th>\n",
       "      <td>1</td>\n",
       "      <td>0</td>\n",
       "      <td>3</td>\n",
       "      <td>Braund, Mr. Owen Harris</td>\n",
       "      <td>male</td>\n",
       "      <td>22.0</td>\n",
       "      <td>1</td>\n",
       "      <td>0</td>\n",
       "      <td>A/5 21171</td>\n",
       "      <td>7.2500</td>\n",
       "      <td>NaN</td>\n",
       "      <td>S</td>\n",
       "    </tr>\n",
       "    <tr>\n",
       "      <th>1</th>\n",
       "      <td>2</td>\n",
       "      <td>1</td>\n",
       "      <td>1</td>\n",
       "      <td>Cumings, Mrs. John Bradley (Florence Briggs Th...</td>\n",
       "      <td>female</td>\n",
       "      <td>38.0</td>\n",
       "      <td>1</td>\n",
       "      <td>0</td>\n",
       "      <td>PC 17599</td>\n",
       "      <td>71.2833</td>\n",
       "      <td>C85</td>\n",
       "      <td>C</td>\n",
       "    </tr>\n",
       "    <tr>\n",
       "      <th>2</th>\n",
       "      <td>3</td>\n",
       "      <td>1</td>\n",
       "      <td>3</td>\n",
       "      <td>Heikkinen, Miss. Laina</td>\n",
       "      <td>female</td>\n",
       "      <td>26.0</td>\n",
       "      <td>0</td>\n",
       "      <td>0</td>\n",
       "      <td>STON/O2. 3101282</td>\n",
       "      <td>7.9250</td>\n",
       "      <td>NaN</td>\n",
       "      <td>S</td>\n",
       "    </tr>\n",
       "    <tr>\n",
       "      <th>3</th>\n",
       "      <td>4</td>\n",
       "      <td>1</td>\n",
       "      <td>1</td>\n",
       "      <td>Futrelle, Mrs. Jacques Heath (Lily May Peel)</td>\n",
       "      <td>female</td>\n",
       "      <td>35.0</td>\n",
       "      <td>1</td>\n",
       "      <td>0</td>\n",
       "      <td>113803</td>\n",
       "      <td>53.1000</td>\n",
       "      <td>C123</td>\n",
       "      <td>S</td>\n",
       "    </tr>\n",
       "    <tr>\n",
       "      <th>4</th>\n",
       "      <td>5</td>\n",
       "      <td>0</td>\n",
       "      <td>3</td>\n",
       "      <td>Allen, Mr. William Henry</td>\n",
       "      <td>male</td>\n",
       "      <td>35.0</td>\n",
       "      <td>0</td>\n",
       "      <td>0</td>\n",
       "      <td>373450</td>\n",
       "      <td>8.0500</td>\n",
       "      <td>NaN</td>\n",
       "      <td>S</td>\n",
       "    </tr>\n",
       "  </tbody>\n",
       "</table>\n",
       "</div>"
      ],
      "text/plain": [
       "   PassengerId  Survived  Pclass  \\\n",
       "0            1         0       3   \n",
       "1            2         1       1   \n",
       "2            3         1       3   \n",
       "3            4         1       1   \n",
       "4            5         0       3   \n",
       "\n",
       "                                                Name     Sex   Age  SibSp  \\\n",
       "0                            Braund, Mr. Owen Harris    male  22.0      1   \n",
       "1  Cumings, Mrs. John Bradley (Florence Briggs Th...  female  38.0      1   \n",
       "2                             Heikkinen, Miss. Laina  female  26.0      0   \n",
       "3       Futrelle, Mrs. Jacques Heath (Lily May Peel)  female  35.0      1   \n",
       "4                           Allen, Mr. William Henry    male  35.0      0   \n",
       "\n",
       "   Parch            Ticket     Fare Cabin Embarked  \n",
       "0      0         A/5 21171   7.2500   NaN        S  \n",
       "1      0          PC 17599  71.2833   C85        C  \n",
       "2      0  STON/O2. 3101282   7.9250   NaN        S  \n",
       "3      0            113803  53.1000  C123        S  \n",
       "4      0            373450   8.0500   NaN        S  "
      ]
     },
     "execution_count": 5,
     "metadata": {},
     "output_type": "execute_result"
    }
   ],
   "source": [
    "train_df.head()"
   ]
  },
  {
   "cell_type": "code",
   "execution_count": 6,
   "id": "ea7ec299",
   "metadata": {},
   "outputs": [
    {
     "data": {
      "text/plain": [
       "0    892\n",
       "1    893\n",
       "2    894\n",
       "3    895\n",
       "4    896\n",
       "Name: PassengerId, dtype: int64"
      ]
     },
     "execution_count": 6,
     "metadata": {},
     "output_type": "execute_result"
    }
   ],
   "source": [
    "#Separate test_df with passenger_id, will need for submission\n",
    "test_id = test_df.pop(\"PassengerId\")\n",
    "\n",
    "test_id.head()"
   ]
  },
  {
   "cell_type": "code",
   "execution_count": 7,
   "id": "d3316aac",
   "metadata": {},
   "outputs": [
    {
     "name": "stdout",
     "output_type": "stream",
     "text": [
      "891\n"
     ]
    }
   ],
   "source": [
    "# Keep max index that will be used to back split training and test data\n",
    "X_max_idx = train_df.shape[0]\n",
    "\n",
    "print(X_max_idx)"
   ]
  },
  {
   "cell_type": "code",
   "execution_count": 8,
   "id": "21b58e32",
   "metadata": {},
   "outputs": [
    {
     "name": "stdout",
     "output_type": "stream",
     "text": [
      "<class 'pandas.core.frame.DataFrame'>\n",
      "RangeIndex: 1309 entries, 0 to 1308\n",
      "Data columns (total 10 columns):\n",
      " #   Column    Non-Null Count  Dtype  \n",
      "---  ------    --------------  -----  \n",
      " 0   Pclass    1309 non-null   int64  \n",
      " 1   Name      1309 non-null   object \n",
      " 2   Sex       1309 non-null   object \n",
      " 3   Age       1046 non-null   float64\n",
      " 4   SibSp     1309 non-null   int64  \n",
      " 5   Parch     1309 non-null   int64  \n",
      " 6   Ticket    1309 non-null   object \n",
      " 7   Fare      1308 non-null   float64\n",
      " 8   Cabin     295 non-null    object \n",
      " 9   Embarked  1307 non-null   object \n",
      "dtypes: float64(2), int64(3), object(5)\n",
      "memory usage: 102.4+ KB\n"
     ]
    }
   ],
   "source": [
    "# Separate the target variable\n",
    "y = train_df.Survived\n",
    "\n",
    "df = train_df.drop(['Survived', 'PassengerId'], axis=1)\n",
    "df = pd.concat([df, test_df], axis=0).reset_index(drop=True)\n",
    "\n",
    "df.info()"
   ]
  },
  {
   "cell_type": "markdown",
   "id": "4eb3ba5e",
   "metadata": {},
   "source": [
    "## Visualization"
   ]
  },
  {
   "cell_type": "code",
   "execution_count": 9,
   "id": "889fdd7b",
   "metadata": {},
   "outputs": [
    {
     "name": "stdout",
     "output_type": "stream",
     "text": [
      "PassengerId      0\n",
      "Survived         0\n",
      "Pclass           0\n",
      "Name             0\n",
      "Sex              0\n",
      "Age            177\n",
      "SibSp            0\n",
      "Parch            0\n",
      "Ticket           0\n",
      "Fare             0\n",
      "Cabin          687\n",
      "Embarked         2\n",
      "dtype: int64\n"
     ]
    },
    {
     "data": {
      "text/plain": [
       "Text(0.5, 1.0, 'Train set')"
      ]
     },
     "execution_count": 9,
     "metadata": {},
     "output_type": "execute_result"
    },
    {
     "data": {
      "image/png": "[encoded data removed]",
      "text/plain": [
       "<Figure size 2500x1000 with 2 Axes>"
      ]
     },
     "metadata": {},
     "output_type": "display_data"
    }
   ],
   "source": [
    "print(train_df.isnull().sum())\n",
    "msno.matrix(train_df).set_title(\"Train set\", fontsize=20) #Matrix to display data sparsity;exploratory visualization of missing data"
   ]
  },
  {
   "cell_type": "code",
   "execution_count": 10,
   "id": "0c056219",
   "metadata": {},
   "outputs": [
    {
     "name": "stdout",
     "output_type": "stream",
     "text": [
      "Pclass        0\n",
      "Name          0\n",
      "Sex           0\n",
      "Age          86\n",
      "SibSp         0\n",
      "Parch         0\n",
      "Ticket        0\n",
      "Fare          1\n",
      "Cabin       327\n",
      "Embarked      0\n",
      "dtype: int64\n"
     ]
    },
    {
     "data": {
      "text/plain": [
       "Text(0.5, 1.0, 'Test set')"
      ]
     },
     "execution_count": 10,
     "metadata": {},
     "output_type": "execute_result"
    },
    {
     "data": {
      "image/png": "[encoded data removed]",
      "text/plain": [
       "<Figure size 2500x1000 with 2 Axes>"
      ]
     },
     "metadata": {},
     "output_type": "display_data"
    }
   ],
   "source": [
    "print(test_df.isnull().sum())\n",
    "msno.matrix(test_df).set_title(\"Test set\", fontsize=20)"
   ]
  },
  {
   "cell_type": "code",
   "execution_count": 11,
   "id": "d6f0d588",
   "metadata": {},
   "outputs": [
    {
     "data": {
      "image/png": "[encoded data removed]",
      "text/plain": [
       "<Figure size 2000x700 with 1 Axes>"
      ]
     },
     "metadata": {},
     "output_type": "display_data"
    },
    {
     "data": {
      "image/png": "[encoded data removed]",
      "text/plain": [
       "<Figure size 2000x700 with 1 Axes>"
      ]
     },
     "metadata": {},
     "output_type": "display_data"
    },
    {
     "data": {
      "image/png": "[encoded data removed]",
      "text/plain": [
       "<Figure size 2000x700 with 1 Axes>"
      ]
     },
     "metadata": {},
     "output_type": "display_data"
    }
   ],
   "source": [
    "def bar_chart(feature):\n",
    "    survived = train_df[train_df[\"Survived\"]==1][feature].value_counts()\n",
    "    dead = train_df[train_df[\"Survived\"]==0][feature].value_counts()\n",
    "    df = pd.DataFrame([survived, dead])\n",
    "    df.index = [\"Survived\", \"Dead\"]\n",
    "    df.plot(kind=\"bar\", stacked = True, figsize=(20,7), title=feature, fontsize=20)\n",
    "    \n",
    "for a in [\"Sex\", \"Pclass\", \"SibSp\"]:\n",
    "    bar_chart(a)"
   ]
  },
  {
   "cell_type": "markdown",
   "id": "ed3ec9b1",
   "metadata": {},
   "source": [
    "-Some features need imputations\n",
    "-Cabin column has lot of missing values, so we will derive a new column using cabin and drop cabin\n",
    "-We will derive a new column called deck_level, using correlation between pclass and information derived from cabin. Using this information, it would indicate the survivability of the people as the lifeboats were at top deck\n",
    "-We will extract last name from name and use it as a new column\n",
    "-We will extract title from name and use it as a new column"
   ]
  },
  {
   "cell_type": "markdown",
   "id": "a1f7e400",
   "metadata": {},
   "source": [
    "Unprocessed data correlation"
   ]
  },
  {
   "cell_type": "code",
   "execution_count": 12,
   "id": "28156d05",
   "metadata": {},
   "outputs": [
    {
     "data": {
      "text/plain": [
       "Survived       1.000000\n",
       "Fare           0.257307\n",
       "Parch          0.081629\n",
       "PassengerId   -0.005007\n",
       "SibSp         -0.035322\n",
       "Age           -0.077221\n",
       "Pclass        -0.338481\n",
       "Name: Survived, dtype: float64"
      ]
     },
     "execution_count": 12,
     "metadata": {},
     "output_type": "execute_result"
    }
   ],
   "source": [
    "train_df.corr()['Survived'].sort_values(ascending=False)"
   ]
  },
  {
   "cell_type": "markdown",
   "id": "8dbf5b0e",
   "metadata": {},
   "source": [
    "The above correlations show that the fare and Pclass columns have good impact on survivability. Higher the fare, higher the class and better chances of survivability. Pclass has 3 classes, 1,2,3 with 1 being the highest class (higher chance of survival) and 3 being the lowest class (lower chance of survival), as it is negatively correlated to Survived."
   ]
  },
  {
   "cell_type": "markdown",
   "id": "16708263",
   "metadata": {},
   "source": [
    "Feature instances"
   ]
  },
  {
   "cell_type": "code",
   "execution_count": 13,
   "id": "7aca252c",
   "metadata": {},
   "outputs": [
    {
     "data": {
      "image/png": "[encoded data removed]",
      "text/plain": [
       "<Figure size 1200x800 with 6 Axes>"
      ]
     },
     "metadata": {},
     "output_type": "display_data"
    }
   ],
   "source": [
    "df.hist(bins=30, figsize=(12,8))\n",
    "plt.show()"
   ]
  },
  {
   "cell_type": "markdown",
   "id": "a2eee26f",
   "metadata": {},
   "source": [
    "The above histograms show that Sibsp, Parch and Fare are right skewed. Many Fare values are 0, which should not be the case, considering them as invalid or NULL data. "
   ]
  },
  {
   "cell_type": "code",
   "execution_count": 14,
   "id": "46a26c45",
   "metadata": {},
   "outputs": [],
   "source": [
    "#Replace 0 values in Fare with NaN\n",
    "df.loc[df['Fare']==0, 'Fare'] = np.NAN"
   ]
  },
  {
   "cell_type": "code",
   "execution_count": 15,
   "id": "3ef3c895",
   "metadata": {},
   "outputs": [
    {
     "data": {
      "image/png": "[encoded data removed]",
      "text/plain": [
       "<Figure size 1200x800 with 6 Axes>"
      ]
     },
     "metadata": {},
     "output_type": "display_data"
    }
   ],
   "source": [
    "df.hist(bins=30, figsize=(12,8))\n",
    "plt.show()"
   ]
  },
  {
   "cell_type": "code",
   "execution_count": 16,
   "id": "d129c644",
   "metadata": {},
   "outputs": [
    {
     "data": {
      "text/plain": [
       "Andersson    11\n",
       "Sage         11\n",
       "Goodwin       8\n",
       "Asplund       8\n",
       "Davies        7\n",
       "             ..\n",
       "Milling       1\n",
       "Maisner       1\n",
       "Goncalves     1\n",
       "Campbell      1\n",
       "Saether       1\n",
       "Name: Lastname, Length: 875, dtype: int64"
      ]
     },
     "execution_count": 16,
     "metadata": {},
     "output_type": "execute_result"
    }
   ],
   "source": [
    "#Create lastname feature from name\n",
    "df['Lastname'] = df.Name.str.split(', ').str[0]\n",
    "df['Lastname'].value_counts()"
   ]
  },
  {
   "cell_type": "code",
   "execution_count": 17,
   "id": "0780ad57",
   "metadata": {},
   "outputs": [
    {
     "data": {
      "text/plain": [
       "Mr          757\n",
       "Miss        260\n",
       "Mrs         197\n",
       "Master       61\n",
       "Rev           8\n",
       "Dr            8\n",
       "Col           4\n",
       "Mlle          2\n",
       "Major         2\n",
       "Ms            2\n",
       "Lady          1\n",
       "Sir           1\n",
       "Mme           1\n",
       "Don           1\n",
       "Capt          1\n",
       "th            1\n",
       "Jonkheer      1\n",
       "Dona          1\n",
       "Name: Title, dtype: int64"
      ]
     },
     "execution_count": 17,
     "metadata": {},
     "output_type": "execute_result"
    }
   ],
   "source": [
    "#Create title feature from name\n",
    "df['Title'] = df.Name.str.split(', ').str[1]\n",
    "df['Title'] = df.Title.str.split('. ').str[0]\n",
    "df['Title'].value_counts()"
   ]
  },
  {
   "cell_type": "code",
   "execution_count": 18,
   "id": "abcdcc58",
   "metadata": {},
   "outputs": [
    {
     "data": {
      "text/plain": [
       "count    581.000000\n",
       "mean      32.252151\n",
       "std       12.422089\n",
       "min       11.000000\n",
       "25%       23.000000\n",
       "50%       29.000000\n",
       "75%       39.000000\n",
       "max       80.000000\n",
       "Name: Age, dtype: float64"
      ]
     },
     "execution_count": 18,
     "metadata": {},
     "output_type": "execute_result"
    }
   ],
   "source": [
    "#There are some titles which are the same, so we can join them together. There are few titles which are occuring once or twice,\n",
    "# so combining these titles under other\n",
    "\n",
    "#Analyze the title \"Mr\" age\n",
    "df[df.Title == \"Mr\"].Age.describe()"
   ]
  },
  {
   "cell_type": "code",
   "execution_count": 19,
   "id": "047a9d3c",
   "metadata": {},
   "outputs": [
    {
     "data": {
      "text/plain": [
       "count    53.000000\n",
       "mean      5.482642\n",
       "std       4.161554\n",
       "min       0.330000\n",
       "25%       2.000000\n",
       "50%       4.000000\n",
       "75%       9.000000\n",
       "max      14.500000\n",
       "Name: Age, dtype: float64"
      ]
     },
     "execution_count": 19,
     "metadata": {},
     "output_type": "execute_result"
    }
   ],
   "source": [
    "#Analyze the title \"Master\" age\n",
    "df[df.Title == \"Master\"].Age.describe()"
   ]
  },
  {
   "cell_type": "markdown",
   "id": "0725be0d",
   "metadata": {},
   "source": [
    "It is observed that the title Mr has min value as 11, and title Master has max value as 14. So combining both the titles, and \n",
    "putting people under 18 as Master and people above 18 as Mr. Similarly, we perform this on Miss and Mrs"
   ]
  },
  {
   "cell_type": "code",
   "execution_count": 20,
   "id": "abb32e6a",
   "metadata": {},
   "outputs": [
    {
     "data": {
      "text/plain": [
       "Mr        736\n",
       "Mrs       390\n",
       "Master     82\n",
       "Miss       72\n",
       "Others     29\n",
       "Name: Title, dtype: int64"
      ]
     },
     "execution_count": 20,
     "metadata": {},
     "output_type": "execute_result"
    }
   ],
   "source": [
    "#Convert all Miss and equivalent title (for young, underage and unmarried) to Mrs; convert back Mrs with age<18 to Miss\n",
    "females = ['Miss', 'Ms', 'Mme', 'Mlle', 'Mrs']\n",
    "df.loc[df.Title.isin(females), 'Title'] = 'Mrs'\n",
    "\n",
    "males = ['Mr', 'Master']\n",
    "df.loc[df.Title.isin(males), 'Title'] = 'Mr'\n",
    "\n",
    "#Change titles for underage females and males to Miss and Master respectively\n",
    "df.loc[((df['Age']<18) & (df['Title'] == 'Mrs')), 'Title'] = 'Miss'\n",
    "df.loc[((df['Age']<18) & (df['Title'] == 'Mr')), 'Title'] = 'Master'\n",
    "\n",
    "df.loc[((~df.Title.isin(females)) & (~df.Title.isin(males))), 'Title'] = 'Others'\n",
    "\n",
    "df['Title'].value_counts()"
   ]
  },
  {
   "cell_type": "markdown",
   "id": "29178bb7",
   "metadata": {},
   "source": [
    "Create Price feature\n",
    "\n",
    "Price = Fare divided by number of Passengers on the same ticket"
   ]
  },
  {
   "cell_type": "code",
   "execution_count": 21,
   "id": "b96e2504",
   "metadata": {},
   "outputs": [
    {
     "data": {
      "text/plain": [
       "1"
      ]
     },
     "execution_count": 21,
     "metadata": {},
     "output_type": "execute_result"
    }
   ],
   "source": [
    "#Analyze Fare by ticket number, assuming fare is total ticket price and not price per person\n",
    "\n",
    "# Split Ticket by series and number\n",
    "df['Ticket_SL'] = [i[0] if len(i) > 1 else 0 for i in df.Ticket.str.split()]\n",
    "df['Ticket_No'] = [i[-1] for i in df.Ticket.str.split()]\n",
    "\n",
    "# Check if Fare min and Fare max of the same ticket number are the same\n",
    "df_fare = df[~df.Fare.isna()]\n",
    "multi_tickets = df_fare.groupby(df_fare.Ticket_No[df_fare.Ticket_No.duplicated()])\n",
    "(multi_tickets.Fare.min() != multi_tickets.Fare.max()).sum()"
   ]
  },
  {
   "cell_type": "markdown",
   "id": "3667dde5",
   "metadata": {},
   "source": [
    "There is only one ticket that corresponds to min and max fare being not same for the same ticket number. We will ignore this as a mistake"
   ]
  },
  {
   "cell_type": "code",
   "execution_count": 22,
   "id": "8a9b39ef",
   "metadata": {},
   "outputs": [
    {
     "data": {
      "text/plain": [
       "1     705\n",
       "2     268\n",
       "3     147\n",
       "4      68\n",
       "5      35\n",
       "7      35\n",
       "6      24\n",
       "8      16\n",
       "11     11\n",
       "Name: Psgr_ticket, dtype: int64"
      ]
     },
     "execution_count": 22,
     "metadata": {},
     "output_type": "execute_result"
    }
   ],
   "source": [
    "# Create a column with the passengers number by ticket \n",
    "ticket_dict = df.groupby('Ticket_No').Lastname.count().to_dict()\n",
    "\n",
    "# print(ticket_dict)\n",
    "\n",
    "df['Psgr_ticket'] = df.Ticket_No.map(ticket_dict)\n",
    "\n",
    "# Create Price column\n",
    "df['Price'] = (df.Fare / df.Psgr_ticket).round()\n",
    "\n",
    "df['Psgr_ticket'].value_counts()"
   ]
  },
  {
   "cell_type": "markdown",
   "id": "62557dfa",
   "metadata": {},
   "source": [
    "Create Deck feature"
   ]
  },
  {
   "cell_type": "code",
   "execution_count": 23,
   "id": "458b563e",
   "metadata": {},
   "outputs": [
    {
     "data": {
      "text/plain": [
       "1014"
      ]
     },
     "execution_count": 23,
     "metadata": {},
     "output_type": "execute_result"
    }
   ],
   "source": [
    "# Extract Deck letter from Cabin column\n",
    "df['Deck'] = df.Cabin.str[0]\n",
    "\n",
    "# Check how many missing values we have at this step\n",
    "df.Deck.isna().sum()"
   ]
  },
  {
   "cell_type": "code",
   "execution_count": 24,
   "id": "35b7472c",
   "metadata": {},
   "outputs": [
    {
     "data": {
      "text/plain": [
       "Pclass  Deck\n",
       "1       C       94\n",
       "        B       65\n",
       "        D       40\n",
       "        E       34\n",
       "        A       22\n",
       "        T        1\n",
       "2       F       13\n",
       "        D        6\n",
       "        E        4\n",
       "3       F        8\n",
       "        G        5\n",
       "        E        3\n",
       "Name: Deck, dtype: int64"
      ]
     },
     "execution_count": 24,
     "metadata": {},
     "output_type": "execute_result"
    }
   ],
   "source": [
    "# Deck distribution by Pclass\n",
    "df.groupby('Pclass').Deck.value_counts()"
   ]
  },
  {
   "cell_type": "code",
   "execution_count": 25,
   "id": "e107cf26",
   "metadata": {},
   "outputs": [
    {
     "data": {
      "text/plain": [
       "3    693\n",
       "2    254\n",
       "1     67\n",
       "Name: Pclass, dtype: int64"
      ]
     },
     "execution_count": 25,
     "metadata": {},
     "output_type": "execute_result"
    }
   ],
   "source": [
    "# Deck missing values by Pclass\n",
    "df.loc[df.Deck.isna(), 'Pclass'].value_counts()"
   ]
  },
  {
   "cell_type": "markdown",
   "id": "4ebe85cf",
   "metadata": {},
   "source": [
    "On the 1st step we will impute the Deck letter based on Ticket_No, if the same Ticket_No has already an available value for Deck in other rows\n",
    "\n",
    "On the 2nd step we will impute based on Lastname using the same method as in the first step, but to be sure that the passengers are not from different families with the same Lastname we will use some filters in the process.\n",
    "\n",
    "On the 3rd step we will impute based on Pclass, as every Pclass was on separate Deck with some intersections between (some googling confirms that class-deck distribution corresponds to our Deck distribution by Pclass analysis). To improve the accuracy we will check also the mean Price for each Pclass-Deck group to determine the Deck."
   ]
  },
  {
   "cell_type": "code",
   "execution_count": 26,
   "id": "76261d5b",
   "metadata": {},
   "outputs": [],
   "source": [
    "# Function for imputing Deck\n",
    "def impute_deck_by(feature):\n",
    "    for pclass in range(1, 4):\n",
    "        # Create a mapping dictionary\n",
    "        map_dic = (df[~df.Deck.isna() \n",
    "                      & (df.Pclass == pclass)]\n",
    "                       .groupby(feature)\n",
    "                       .Deck.unique()\n",
    "                       .apply(list).to_dict())\n",
    "        print(map_dic)\n",
    "        # Keep just the keys with a single deck to avoid \n",
    "        # the same key on different decks\n",
    "        map_dic = {i:j[0] for i, j in map_dic.items() \n",
    "                   if len(j) == 1}\n",
    "        \n",
    "        print(map_dic)\n",
    "\n",
    "        # Imputing Deck from map_dic\n",
    "        df.loc[df.Deck.isna() & (df.Pclass == pclass), \n",
    "               'Deck'] = df[feature].map(map_dic)\n",
    "\n",
    "    # Check how many missing values we have at this step\n",
    "    print(df.Deck.isna().sum())"
   ]
  },
  {
   "cell_type": "code",
   "execution_count": 27,
   "id": "e25cafd0",
   "metadata": {},
   "outputs": [
    {
     "name": "stdout",
     "output_type": "stream",
     "text": [
      "{'110152': ['B'], '110413': ['E'], '110465': ['C', 'A'], '110469': ['C'], '110489': ['D'], '110564': ['C'], '110813': ['D'], '111240': ['B'], '111320': ['E'], '111361': ['B'], '111369': ['C'], '112050': ['A'], '112053': ['B'], '112058': ['B'], '112059': ['B'], '112277': ['A'], '112901': ['B'], '113028': ['C'], '113038': ['B'], '113043': ['C'], '113044': ['E'], '113050': ['B'], '113051': ['C'], '113054': ['A'], '113055': ['E'], '113056': ['A'], '113501': ['D'], '113503': ['C'], '113505': ['E'], '113509': ['B'], '113510': ['C'], '113514': ['C'], '113572': ['B'], '113760': ['B'], '113767': ['A'], '113773': ['D'], '113776': ['C'], '113778': ['D'], '113780': ['C'], '113781': ['C'], '113783': ['C'], '113784': ['T'], '113786': ['C'], '113787': ['C'], '113788': ['A'], '113803': ['C'], '113806': ['E'], '11751': ['D'], '11752': ['D'], '11753': ['D'], '11755': ['A'], '11765': ['E'], '11767': ['C'], '11769': ['C'], '11770': ['C'], '11771': ['B'], '11774': ['C'], '11778': ['C'], '11813': ['D'], '11967': ['B'], '12749': ['B'], '12750': ['B'], '13049': ['A'], '13050': ['C'], '13213': ['A'], '13214': ['B'], '13236': ['C'], '13502': ['D'], '13507': ['E'], '13508': ['C'], '13509': ['E'], '13567': ['B'], '13568': ['B'], '13695': ['C'], '16966': ['E'], '16988': ['D'], '17421': ['C'], '17453': ['C'], '17463': ['E'], '17464': ['D'], '17465': ['D'], '17466': ['D'], '17473': ['E'], '17474': ['E', 'B'], '17475': ['E'], '17476': ['E'], '17477': ['B'], '17482': ['C'], '17483': ['C'], '17485': ['E', 'A'], '17531': ['A'], '17558': ['B'], '17562': ['D'], '17569': ['B'], '17572': ['D'], '17580': ['A'], '17582': ['C'], '17590': ['A'], '17591': ['B'], '17592': ['D'], '17593': ['B'], '17594': ['A'], '17595': ['C'], '17596': ['C'], '17599': ['C'], '17608': ['B'], '17610': ['B'], '17613': ['A'], '17754': ['A'], '17755': ['B'], '17756': ['E'], '17757': ['C'], '17758': ['C'], '17759': ['D'], '17760': ['C'], '17761': ['C'], '17764': ['A'], '17765': ['D'], '19877': ['C'], '19928': ['C'], '19943': ['C'], '19947': ['C'], '19950': ['C'], '19952': ['E'], '19988': ['C'], '19996': ['C'], '21228': ['B'], '24160': ['B'], '2543': ['C'], '27042': ['A'], '33638': ['A'], '35273': ['D'], '35281': ['D'], '36928': ['C'], '36947': ['D'], '36963': ['D'], '36967': ['D'], '36973': ['C'], '5727': ['E'], '5734': ['E'], '5735': ['B'], '680': ['C'], '695': ['B']}\n",
      "{'110152': 'B', '110413': 'E', '110469': 'C', '110489': 'D', '110564': 'C', '110813': 'D', '111240': 'B', '111320': 'E', '111361': 'B', '111369': 'C', '112050': 'A', '112053': 'B', '112058': 'B', '112059': 'B', '112277': 'A', '112901': 'B', '113028': 'C', '113038': 'B', '113043': 'C', '113044': 'E', '113050': 'B', '113051': 'C', '113054': 'A', '113055': 'E', '113056': 'A', '113501': 'D', '113503': 'C', '113505': 'E', '113509': 'B', '113510': 'C', '113514': 'C', '113572': 'B', '113760': 'B', '113767': 'A', '113773': 'D', '113776': 'C', '113778': 'D', '113780': 'C', '113781': 'C', '113783': 'C', '113784': 'T', '113786': 'C', '113787': 'C', '113788': 'A', '113803': 'C', '113806': 'E', '11751': 'D', '11752': 'D', '11753': 'D', '11755': 'A', '11765': 'E', '11767': 'C', '11769': 'C', '11770': 'C', '11771': 'B', '11774': 'C', '11778': 'C', '11813': 'D', '11967': 'B', '12749': 'B', '12750': 'B', '13049': 'A', '13050': 'C', '13213': 'A', '13214': 'B', '13236': 'C', '13502': 'D', '13507': 'E', '13508': 'C', '13509': 'E', '13567': 'B', '13568': 'B', '13695': 'C', '16966': 'E', '16988': 'D', '17421': 'C', '17453': 'C', '17463': 'E', '17464': 'D', '17465': 'D', '17466': 'D', '17473': 'E', '17475': 'E', '17476': 'E', '17477': 'B', '17482': 'C', '17483': 'C', '17531': 'A', '17558': 'B', '17562': 'D', '17569': 'B', '17572': 'D', '17580': 'A', '17582': 'C', '17590': 'A', '17591': 'B', '17592': 'D', '17593': 'B', '17594': 'A', '17595': 'C', '17596': 'C', '17599': 'C', '17608': 'B', '17610': 'B', '17613': 'A', '17754': 'A', '17755': 'B', '17756': 'E', '17757': 'C', '17758': 'C', '17759': 'D', '17760': 'C', '17761': 'C', '17764': 'A', '17765': 'D', '19877': 'C', '19928': 'C', '19943': 'C', '19947': 'C', '19950': 'C', '19952': 'E', '19988': 'C', '19996': 'C', '21228': 'B', '24160': 'B', '2543': 'C', '27042': 'A', '33638': 'A', '35273': 'D', '35281': 'D', '36928': 'C', '36947': 'D', '36963': 'D', '36967': 'D', '36973': 'C', '5727': 'E', '5734': 'E', '5735': 'B', '680': 'C', '695': 'B'}\n",
      "{'14266': ['F'], '2163': ['D'], '2166': ['D'], '226593': ['E'], '230080': ['F'], '230136': ['F'], '237735': ['D'], '244368': ['F'], '248698': ['D'], '248733': ['F'], '248734': ['F'], '27267': ['E'], '28551': ['D'], '29395': ['F'], '3': ['E'], '34218': ['E'], '34260': ['F'], '541': ['D']}\n",
      "{'14266': 'F', '2163': 'D', '2166': 'D', '226593': 'E', '230080': 'F', '230136': 'F', '237735': 'D', '244368': 'F', '248698': 'D', '248733': 'F', '248734': 'F', '27267': 'E', '28551': 'D', '29395': 'F', '3': 'E', '34218': 'E', '34260': 'F', '541': 'D'}\n",
      "{'2654': ['F'], '2655': ['F'], '2668': ['F'], '347054': ['G'], '348121': ['F'], '348122': ['F'], '348123': ['F'], '348124': ['F'], '383121': ['F'], '392078': ['E'], '392096': ['E'], '9549': ['G']}\n",
      "{'2654': 'F', '2655': 'F', '2668': 'F', '347054': 'G', '348121': 'F', '348122': 'F', '348123': 'F', '348124': 'F', '383121': 'F', '392078': 'E', '392096': 'E', '9549': 'G'}\n",
      "997\n"
     ]
    }
   ],
   "source": [
    "impute_deck_by('Ticket_No')"
   ]
  },
  {
   "cell_type": "code",
   "execution_count": 28,
   "id": "9ce344b5",
   "metadata": {},
   "outputs": [
    {
     "name": "stdout",
     "output_type": "stream",
     "text": [
      "{'Allen': ['B'], 'Allison': ['C'], 'Anderson': ['E'], 'Andrews': ['D', 'A'], 'Appleton': ['C'], 'Astor': ['C'], 'Aubart': ['B'], 'Barber': ['C'], 'Barkworth': ['A'], 'Baxter': ['B'], 'Bazzani': ['D'], 'Beattie': ['C'], 'Beckwith': ['D'], 'Behr': ['C'], 'Bidois': ['C'], 'Bird': ['C'], 'Bishop': ['B'], 'Bissette': ['C'], 'Bjornstrom-Steffansson': ['C'], 'Blackwell': ['T'], 'Blank': ['A'], 'Bonnell': ['C'], 'Borebank': ['D'], 'Bowen': ['B'], 'Bowerman': ['E'], 'Brady': ['A'], 'Brandeis': ['B'], 'Brown': ['B', 'C'], 'Bucknell': ['D'], 'Burns': ['E'], 'Butt': ['B'], 'Calderhead': ['E'], 'Cardeza': ['B'], 'Carlsson': ['B'], 'Carter': ['B'], 'Cavendish': ['C'], 'Chaffee': ['E'], 'Chambers': ['E'], 'Chaudanson': ['B'], 'Cherry': ['B'], 'Chevre': ['A'], 'Chibnall': ['E'], 'Clark': ['C'], 'Cleaver': ['C'], 'Clifford': ['A'], 'Colley': ['E'], 'Compton': ['E'], 'Cornell': ['C'], 'Crosby': ['B'], 'Cumings': ['C'], 'Daly': ['E'], 'Daniels': ['C'], 'Davidson': ['B'], 'Dick': ['B'], 'Dodge': ['A'], 'Douglas': ['C', 'B'], 'Duff Gordon': ['A'], 'Dulles': ['A'], 'Earnshaw': ['C'], 'Endres': ['C'], 'Eustis': ['D'], 'Evans': ['A'], 'Farthing': ['C'], 'Fleming': ['C'], 'Flynn': ['E'], 'Foreman': ['C'], 'Fortune': ['C'], 'Francatelli': ['E'], 'Franklin': ['D'], 'Frauenthal': ['D'], 'Frolicher': ['B'], 'Frolicher-Stehli': ['B'], 'Fry': ['B'], 'Futrelle': ['C'], 'Gee': ['E'], 'Geiger': ['C'], 'Giglio': ['B'], 'Goldenberg': ['C'], 'Goldschmidt': ['A'], 'Gracie': ['C'], 'Graham': ['C', 'B'], 'Greenfield': ['D'], 'Guggenheim': ['B'], 'Harder': ['E'], 'Harper': ['D'], 'Harris': ['C'], 'Harrison': ['B'], 'Hassab': ['D'], 'Hawksford': ['D'], 'Hays': ['C', 'B'], 'Head': ['B'], 'Hilliard': ['E'], 'Hipkins': ['C'], 'Hippach': ['B'], 'Hogeboom': ['D'], 'Hoyt': ['C'], 'Icard': ['B'], 'Isham': ['C'], 'Ismay': ['B'], 'Julian': ['E'], 'Keeping': ['C'], 'Kent': ['B'], 'Kenyon': ['D'], 'Kimball': ['D'], 'Klaber': ['C'], 'Kreuchen': ['B'], 'LeRoy': ['C'], 'Leader': ['D'], 'Lesurer': ['B'], 'Lindeberg-Lind': ['E'], 'Lines': ['D'], 'Long': ['D'], 'Longley': ['D'], 'Lurette': ['B'], 'Madill': ['B'], 'Maguire': ['C'], 'Maioni': ['B'], 'Marechal': ['C'], 'Marvin': ['D'], 'Mayne': ['C'], 'McCaffry': ['C'], 'McCarthy': ['E'], 'McGough': ['E'], 'Millet': ['E'], 'Minahan': ['C'], 'Mock': ['C'], 'Molson': ['C'], 'Natsch': ['C'], 'Newell': ['D'], 'Newsom': ['D'], 'Oliva y Ocana': ['C'], 'Ostby': ['B'], 'Ovies y Rodriguez': ['D'], 'Partner': ['C'], 'Payne': ['B'], 'Pears': ['C'], 'Penasco y Castellana': ['C'], 'Perreault': ['B'], 'Peuchen': ['C'], 'Porter': ['C'], 'Potter': ['C'], 'Ringhini': ['C'], 'Robbins': ['C'], 'Robert': ['B'], 'Roebling': ['A'], 'Rood': ['A'], 'Rosenbaum': ['A'], 'Ross': ['A'], 'Rothes': ['B'], 'Ryerson': ['B'], 'Saalfeld': ['C'], 'Sagesser': ['B'], 'Schabert': ['C'], 'Shutes': ['C'], 'Silverthorne': ['E'], 'Silvey': ['E'], 'Simonius-Blumer': ['A'], 'Sloper': ['A'], 'Smith': ['A', 'C'], 'Snyder': ['B'], 'Spedden': ['E'], 'Spencer': ['B'], 'Stahelin-Maeglin': ['B'], 'Stead': ['C'], 'Stengel': ['C'], 'Stephenson': ['D'], 'Stone': ['B'], 'Straus': ['C'], 'Sutton': ['D'], 'Swift': ['D'], 'Taussig': ['E'], 'Taylor': ['C'], 'Thayer': ['C'], 'Tucker': ['C'], 'Van der hoef': ['B'], 'Walker': ['D'], 'Ward': ['B'], 'Warren': ['D'], 'White': ['D', 'C'], 'Wick': ['C'], 'Widener': ['C'], 'Williams-Lambert': ['C'], 'Wilson': ['E'], 'Woolner': ['C'], 'Young': ['C']}\n",
      "{'Allen': 'B', 'Allison': 'C', 'Anderson': 'E', 'Appleton': 'C', 'Astor': 'C', 'Aubart': 'B', 'Barber': 'C', 'Barkworth': 'A', 'Baxter': 'B', 'Bazzani': 'D', 'Beattie': 'C', 'Beckwith': 'D', 'Behr': 'C', 'Bidois': 'C', 'Bird': 'C', 'Bishop': 'B', 'Bissette': 'C', 'Bjornstrom-Steffansson': 'C', 'Blackwell': 'T', 'Blank': 'A', 'Bonnell': 'C', 'Borebank': 'D', 'Bowen': 'B', 'Bowerman': 'E', 'Brady': 'A', 'Brandeis': 'B', 'Bucknell': 'D', 'Burns': 'E', 'Butt': 'B', 'Calderhead': 'E', 'Cardeza': 'B', 'Carlsson': 'B', 'Carter': 'B', 'Cavendish': 'C', 'Chaffee': 'E', 'Chambers': 'E', 'Chaudanson': 'B', 'Cherry': 'B', 'Chevre': 'A', 'Chibnall': 'E', 'Clark': 'C', 'Cleaver': 'C', 'Clifford': 'A', 'Colley': 'E', 'Compton': 'E', 'Cornell': 'C', 'Crosby': 'B', 'Cumings': 'C', 'Daly': 'E', 'Daniels': 'C', 'Davidson': 'B', 'Dick': 'B', 'Dodge': 'A', 'Duff Gordon': 'A', 'Dulles': 'A', 'Earnshaw': 'C', 'Endres': 'C', 'Eustis': 'D', 'Evans': 'A', 'Farthing': 'C', 'Fleming': 'C', 'Flynn': 'E', 'Foreman': 'C', 'Fortune': 'C', 'Francatelli': 'E', 'Franklin': 'D', 'Frauenthal': 'D', 'Frolicher': 'B', 'Frolicher-Stehli': 'B', 'Fry': 'B', 'Futrelle': 'C', 'Gee': 'E', 'Geiger': 'C', 'Giglio': 'B', 'Goldenberg': 'C', 'Goldschmidt': 'A', 'Gracie': 'C', 'Greenfield': 'D', 'Guggenheim': 'B', 'Harder': 'E', 'Harper': 'D', 'Harris': 'C', 'Harrison': 'B', 'Hassab': 'D', 'Hawksford': 'D', 'Head': 'B', 'Hilliard': 'E', 'Hipkins': 'C', 'Hippach': 'B', 'Hogeboom': 'D', 'Hoyt': 'C', 'Icard': 'B', 'Isham': 'C', 'Ismay': 'B', 'Julian': 'E', 'Keeping': 'C', 'Kent': 'B', 'Kenyon': 'D', 'Kimball': 'D', 'Klaber': 'C', 'Kreuchen': 'B', 'LeRoy': 'C', 'Leader': 'D', 'Lesurer': 'B', 'Lindeberg-Lind': 'E', 'Lines': 'D', 'Long': 'D', 'Longley': 'D', 'Lurette': 'B', 'Madill': 'B', 'Maguire': 'C', 'Maioni': 'B', 'Marechal': 'C', 'Marvin': 'D', 'Mayne': 'C', 'McCaffry': 'C', 'McCarthy': 'E', 'McGough': 'E', 'Millet': 'E', 'Minahan': 'C', 'Mock': 'C', 'Molson': 'C', 'Natsch': 'C', 'Newell': 'D', 'Newsom': 'D', 'Oliva y Ocana': 'C', 'Ostby': 'B', 'Ovies y Rodriguez': 'D', 'Partner': 'C', 'Payne': 'B', 'Pears': 'C', 'Penasco y Castellana': 'C', 'Perreault': 'B', 'Peuchen': 'C', 'Porter': 'C', 'Potter': 'C', 'Ringhini': 'C', 'Robbins': 'C', 'Robert': 'B', 'Roebling': 'A', 'Rood': 'A', 'Rosenbaum': 'A', 'Ross': 'A', 'Rothes': 'B', 'Ryerson': 'B', 'Saalfeld': 'C', 'Sagesser': 'B', 'Schabert': 'C', 'Shutes': 'C', 'Silverthorne': 'E', 'Silvey': 'E', 'Simonius-Blumer': 'A', 'Sloper': 'A', 'Snyder': 'B', 'Spedden': 'E', 'Spencer': 'B', 'Stahelin-Maeglin': 'B', 'Stead': 'C', 'Stengel': 'C', 'Stephenson': 'D', 'Stone': 'B', 'Straus': 'C', 'Sutton': 'D', 'Swift': 'D', 'Taussig': 'E', 'Taylor': 'C', 'Thayer': 'C', 'Tucker': 'C', 'Van der hoef': 'B', 'Walker': 'D', 'Ward': 'B', 'Warren': 'D', 'Wick': 'C', 'Widener': 'C', 'Williams-Lambert': 'C', 'Wilson': 'E', 'Woolner': 'C', 'Young': 'C'}\n",
      "{'Ball': ['D'], 'Becker': ['F'], 'Beesley': ['D'], 'Brown': ['F'], 'Cook': ['F'], 'Jerwan': ['D'], 'Keane': ['E'], 'Lemore': ['F'], 'Levy': ['D'], 'Mack': ['E'], 'Malachard': ['D'], 'Mudd': ['E'], 'Navratil': ['F'], 'Nesson': ['F'], 'Nourney': ['D'], 'Nye': ['F'], 'Swane': ['F'], 'Troutt': ['E'], 'Webber': ['E']}\n",
      "{'Ball': 'D', 'Becker': 'F', 'Beesley': 'D', 'Brown': 'F', 'Cook': 'F', 'Jerwan': 'D', 'Keane': 'E', 'Lemore': 'F', 'Levy': 'D', 'Mack': 'E', 'Malachard': 'D', 'Mudd': 'E', 'Navratil': 'F', 'Nesson': 'F', 'Nourney': 'D', 'Nye': 'F', 'Swane': 'F', 'Troutt': 'E', 'Webber': 'E'}\n",
      "{'Abelseth': ['F'], 'Humblen': ['F'], 'Krekorian': ['F'], 'Mardirosian': ['F'], 'Moen': ['F'], 'Moor': ['E'], 'Peter': ['F'], 'Pickard': ['E'], 'Sandstrom': ['G'], 'Soholt': ['F'], 'Strom': ['G'], 'Tobin': ['F']}\n",
      "{'Abelseth': 'F', 'Humblen': 'F', 'Krekorian': 'F', 'Mardirosian': 'F', 'Moen': 'F', 'Moor': 'E', 'Peter': 'F', 'Pickard': 'E', 'Sandstrom': 'G', 'Soholt': 'F', 'Strom': 'G', 'Tobin': 'F'}\n",
      "989\n"
     ]
    }
   ],
   "source": [
    "impute_deck_by('Lastname')"
   ]
  },
  {
   "cell_type": "markdown",
   "id": "14f4507b",
   "metadata": {},
   "source": [
    "We have recovered 25 values, not much, but they correspond to reality, the rest we will impute later based on Pclass and Price as mentioned earlier."
   ]
  },
  {
   "cell_type": "markdown",
   "id": "1088bd0b",
   "metadata": {},
   "source": [
    "Analyze and impute missing prices\n",
    "\n",
    "We impute prices first as there are less missing values in Price than in Deck and we use them both for imputation"
   ]
  },
  {
   "cell_type": "code",
   "execution_count": 29,
   "id": "7ac7b29f",
   "metadata": {},
   "outputs": [
    {
     "data": {
      "text/html": [
       "<div>\n",
       "<style scoped>\n",
       "    .dataframe tbody tr th:only-of-type {\n",
       "        vertical-align: middle;\n",
       "    }\n",
       "\n",
       "    .dataframe tbody tr th {\n",
       "        vertical-align: top;\n",
       "    }\n",
       "\n",
       "    .dataframe thead th {\n",
       "        text-align: right;\n",
       "    }\n",
       "</style>\n",
       "<table border=\"1\" class=\"dataframe\">\n",
       "  <thead>\n",
       "    <tr style=\"text-align: right;\">\n",
       "      <th></th>\n",
       "      <th></th>\n",
       "      <th>count</th>\n",
       "      <th>mean</th>\n",
       "      <th>std</th>\n",
       "      <th>min</th>\n",
       "      <th>25%</th>\n",
       "      <th>50%</th>\n",
       "      <th>75%</th>\n",
       "      <th>max</th>\n",
       "    </tr>\n",
       "    <tr>\n",
       "      <th>Pclass</th>\n",
       "      <th>Deck</th>\n",
       "      <th></th>\n",
       "      <th></th>\n",
       "      <th></th>\n",
       "      <th></th>\n",
       "      <th></th>\n",
       "      <th></th>\n",
       "      <th></th>\n",
       "      <th></th>\n",
       "    </tr>\n",
       "  </thead>\n",
       "  <tbody>\n",
       "    <tr>\n",
       "      <th rowspan=\"6\" valign=\"top\">1</th>\n",
       "      <th>A</th>\n",
       "      <td>21.0</td>\n",
       "      <td>32.857143</td>\n",
       "      <td>7.066015</td>\n",
       "      <td>26.0</td>\n",
       "      <td>28.00</td>\n",
       "      <td>30.0</td>\n",
       "      <td>36.0</td>\n",
       "      <td>50.0</td>\n",
       "    </tr>\n",
       "    <tr>\n",
       "      <th>B</th>\n",
       "      <td>65.0</td>\n",
       "      <td>43.030769</td>\n",
       "      <td>25.892789</td>\n",
       "      <td>5.0</td>\n",
       "      <td>29.00</td>\n",
       "      <td>37.0</td>\n",
       "      <td>46.0</td>\n",
       "      <td>128.0</td>\n",
       "    </tr>\n",
       "    <tr>\n",
       "      <th>C</th>\n",
       "      <td>105.0</td>\n",
       "      <td>35.809524</td>\n",
       "      <td>9.686524</td>\n",
       "      <td>25.0</td>\n",
       "      <td>28.00</td>\n",
       "      <td>34.0</td>\n",
       "      <td>42.0</td>\n",
       "      <td>68.0</td>\n",
       "    </tr>\n",
       "    <tr>\n",
       "      <th>D</th>\n",
       "      <td>42.0</td>\n",
       "      <td>31.904762</td>\n",
       "      <td>9.714986</td>\n",
       "      <td>20.0</td>\n",
       "      <td>26.00</td>\n",
       "      <td>27.5</td>\n",
       "      <td>38.0</td>\n",
       "      <td>67.0</td>\n",
       "    </tr>\n",
       "    <tr>\n",
       "      <th>E</th>\n",
       "      <td>35.0</td>\n",
       "      <td>26.342857</td>\n",
       "      <td>5.058149</td>\n",
       "      <td>9.0</td>\n",
       "      <td>26.50</td>\n",
       "      <td>27.0</td>\n",
       "      <td>28.0</td>\n",
       "      <td>38.0</td>\n",
       "    </tr>\n",
       "    <tr>\n",
       "      <th>T</th>\n",
       "      <td>1.0</td>\n",
       "      <td>36.000000</td>\n",
       "      <td>NaN</td>\n",
       "      <td>36.0</td>\n",
       "      <td>36.00</td>\n",
       "      <td>36.0</td>\n",
       "      <td>36.0</td>\n",
       "      <td>36.0</td>\n",
       "    </tr>\n",
       "    <tr>\n",
       "      <th rowspan=\"3\" valign=\"top\">2</th>\n",
       "      <th>D</th>\n",
       "      <td>6.0</td>\n",
       "      <td>13.666667</td>\n",
       "      <td>0.816497</td>\n",
       "      <td>13.0</td>\n",
       "      <td>13.00</td>\n",
       "      <td>13.5</td>\n",
       "      <td>14.0</td>\n",
       "      <td>15.0</td>\n",
       "    </tr>\n",
       "    <tr>\n",
       "      <th>E</th>\n",
       "      <td>6.0</td>\n",
       "      <td>9.500000</td>\n",
       "      <td>3.619392</td>\n",
       "      <td>5.0</td>\n",
       "      <td>6.25</td>\n",
       "      <td>11.0</td>\n",
       "      <td>12.0</td>\n",
       "      <td>13.0</td>\n",
       "    </tr>\n",
       "    <tr>\n",
       "      <th>F</th>\n",
       "      <td>16.0</td>\n",
       "      <td>10.937500</td>\n",
       "      <td>1.691892</td>\n",
       "      <td>9.0</td>\n",
       "      <td>10.00</td>\n",
       "      <td>10.0</td>\n",
       "      <td>13.0</td>\n",
       "      <td>13.0</td>\n",
       "    </tr>\n",
       "    <tr>\n",
       "      <th rowspan=\"3\" valign=\"top\">3</th>\n",
       "      <th>E</th>\n",
       "      <td>3.0</td>\n",
       "      <td>6.666667</td>\n",
       "      <td>1.154701</td>\n",
       "      <td>6.0</td>\n",
       "      <td>6.00</td>\n",
       "      <td>6.0</td>\n",
       "      <td>7.0</td>\n",
       "      <td>8.0</td>\n",
       "    </tr>\n",
       "    <tr>\n",
       "      <th>F</th>\n",
       "      <td>11.0</td>\n",
       "      <td>7.545455</td>\n",
       "      <td>0.522233</td>\n",
       "      <td>7.0</td>\n",
       "      <td>7.00</td>\n",
       "      <td>8.0</td>\n",
       "      <td>8.0</td>\n",
       "      <td>8.0</td>\n",
       "    </tr>\n",
       "    <tr>\n",
       "      <th>G</th>\n",
       "      <td>5.0</td>\n",
       "      <td>5.600000</td>\n",
       "      <td>0.547723</td>\n",
       "      <td>5.0</td>\n",
       "      <td>5.00</td>\n",
       "      <td>6.0</td>\n",
       "      <td>6.0</td>\n",
       "      <td>6.0</td>\n",
       "    </tr>\n",
       "  </tbody>\n",
       "</table>\n",
       "</div>"
      ],
      "text/plain": [
       "             count       mean        std   min    25%   50%   75%    max\n",
       "Pclass Deck                                                             \n",
       "1      A      21.0  32.857143   7.066015  26.0  28.00  30.0  36.0   50.0\n",
       "       B      65.0  43.030769  25.892789   5.0  29.00  37.0  46.0  128.0\n",
       "       C     105.0  35.809524   9.686524  25.0  28.00  34.0  42.0   68.0\n",
       "       D      42.0  31.904762   9.714986  20.0  26.00  27.5  38.0   67.0\n",
       "       E      35.0  26.342857   5.058149   9.0  26.50  27.0  28.0   38.0\n",
       "       T       1.0  36.000000        NaN  36.0  36.00  36.0  36.0   36.0\n",
       "2      D       6.0  13.666667   0.816497  13.0  13.00  13.5  14.0   15.0\n",
       "       E       6.0   9.500000   3.619392   5.0   6.25  11.0  12.0   13.0\n",
       "       F      16.0  10.937500   1.691892   9.0  10.00  10.0  13.0   13.0\n",
       "3      E       3.0   6.666667   1.154701   6.0   6.00   6.0   7.0    8.0\n",
       "       F      11.0   7.545455   0.522233   7.0   7.00   8.0   8.0    8.0\n",
       "       G       5.0   5.600000   0.547723   5.0   5.00   6.0   6.0    6.0"
      ]
     },
     "execution_count": 29,
     "metadata": {},
     "output_type": "execute_result"
    }
   ],
   "source": [
    "# Analyze Price by Deck and Pclass\n",
    "df.groupby(['Pclass', 'Deck']).Price.describe()"
   ]
  },
  {
   "cell_type": "markdown",
   "id": "13a71761",
   "metadata": {},
   "source": [
    "Very large standard deviation of Pclass 1, deck B, and this needs to be analysed"
   ]
  },
  {
   "cell_type": "code",
   "execution_count": 30,
   "id": "b7ca770a",
   "metadata": {},
   "outputs": [],
   "source": [
    "#Cabin T has only single value, so will merge this with Cabin A (2nd lowest value)\n",
    "df.loc[df.Deck == 'T', 'Deck'] = 'A'"
   ]
  },
  {
   "cell_type": "code",
   "execution_count": 31,
   "id": "74a94a19",
   "metadata": {},
   "outputs": [
    {
     "data": {
      "text/html": [
       "<div>\n",
       "<style scoped>\n",
       "    .dataframe tbody tr th:only-of-type {\n",
       "        vertical-align: middle;\n",
       "    }\n",
       "\n",
       "    .dataframe tbody tr th {\n",
       "        vertical-align: top;\n",
       "    }\n",
       "\n",
       "    .dataframe thead th {\n",
       "        text-align: right;\n",
       "    }\n",
       "</style>\n",
       "<table border=\"1\" class=\"dataframe\">\n",
       "  <thead>\n",
       "    <tr style=\"text-align: right;\">\n",
       "      <th></th>\n",
       "      <th>Pclass</th>\n",
       "      <th>Name</th>\n",
       "      <th>Sex</th>\n",
       "      <th>Age</th>\n",
       "      <th>SibSp</th>\n",
       "      <th>Parch</th>\n",
       "      <th>Ticket</th>\n",
       "      <th>Fare</th>\n",
       "      <th>Cabin</th>\n",
       "      <th>Embarked</th>\n",
       "      <th>Lastname</th>\n",
       "      <th>Title</th>\n",
       "      <th>Ticket_SL</th>\n",
       "      <th>Ticket_No</th>\n",
       "      <th>Psgr_ticket</th>\n",
       "      <th>Price</th>\n",
       "      <th>Deck</th>\n",
       "    </tr>\n",
       "  </thead>\n",
       "  <tbody>\n",
       "    <tr>\n",
       "      <th>872</th>\n",
       "      <td>1</td>\n",
       "      <td>Carlsson, Mr. Frans Olof</td>\n",
       "      <td>male</td>\n",
       "      <td>33.0</td>\n",
       "      <td>0</td>\n",
       "      <td>0</td>\n",
       "      <td>695</td>\n",
       "      <td>5.0</td>\n",
       "      <td>B51 B53 B55</td>\n",
       "      <td>S</td>\n",
       "      <td>Carlsson</td>\n",
       "      <td>Mr</td>\n",
       "      <td>0</td>\n",
       "      <td>695</td>\n",
       "      <td>1</td>\n",
       "      <td>5.0</td>\n",
       "      <td>B</td>\n",
       "    </tr>\n",
       "    <tr>\n",
       "      <th>690</th>\n",
       "      <td>1</td>\n",
       "      <td>Dick, Mr. Albert Adrian</td>\n",
       "      <td>male</td>\n",
       "      <td>31.0</td>\n",
       "      <td>1</td>\n",
       "      <td>0</td>\n",
       "      <td>17474</td>\n",
       "      <td>57.0</td>\n",
       "      <td>B20</td>\n",
       "      <td>S</td>\n",
       "      <td>Dick</td>\n",
       "      <td>Mr</td>\n",
       "      <td>0</td>\n",
       "      <td>17474</td>\n",
       "      <td>3</td>\n",
       "      <td>19.0</td>\n",
       "      <td>B</td>\n",
       "    </tr>\n",
       "    <tr>\n",
       "      <th>781</th>\n",
       "      <td>1</td>\n",
       "      <td>Dick, Mrs. Albert Adrian (Vera Gillespie)</td>\n",
       "      <td>female</td>\n",
       "      <td>17.0</td>\n",
       "      <td>1</td>\n",
       "      <td>0</td>\n",
       "      <td>17474</td>\n",
       "      <td>57.0</td>\n",
       "      <td>B20</td>\n",
       "      <td>S</td>\n",
       "      <td>Dick</td>\n",
       "      <td>Miss</td>\n",
       "      <td>0</td>\n",
       "      <td>17474</td>\n",
       "      <td>3</td>\n",
       "      <td>19.0</td>\n",
       "      <td>B</td>\n",
       "    </tr>\n",
       "    <tr>\n",
       "      <th>1199</th>\n",
       "      <td>1</td>\n",
       "      <td>Hays, Mr. Charles Melville</td>\n",
       "      <td>male</td>\n",
       "      <td>55.0</td>\n",
       "      <td>1</td>\n",
       "      <td>1</td>\n",
       "      <td>12749</td>\n",
       "      <td>93.5</td>\n",
       "      <td>B69</td>\n",
       "      <td>S</td>\n",
       "      <td>Hays</td>\n",
       "      <td>Mr</td>\n",
       "      <td>0</td>\n",
       "      <td>12749</td>\n",
       "      <td>4</td>\n",
       "      <td>23.0</td>\n",
       "      <td>B</td>\n",
       "    </tr>\n",
       "    <tr>\n",
       "      <th>1281</th>\n",
       "      <td>1</td>\n",
       "      <td>Payne, Mr. Vivian Ponsonby</td>\n",
       "      <td>male</td>\n",
       "      <td>23.0</td>\n",
       "      <td>0</td>\n",
       "      <td>0</td>\n",
       "      <td>12749</td>\n",
       "      <td>93.5</td>\n",
       "      <td>B24</td>\n",
       "      <td>S</td>\n",
       "      <td>Payne</td>\n",
       "      <td>Mr</td>\n",
       "      <td>0</td>\n",
       "      <td>12749</td>\n",
       "      <td>4</td>\n",
       "      <td>23.0</td>\n",
       "      <td>B</td>\n",
       "    </tr>\n",
       "  </tbody>\n",
       "</table>\n",
       "</div>"
      ],
      "text/plain": [
       "      Pclass                                       Name     Sex   Age  SibSp  \\\n",
       "872        1                   Carlsson, Mr. Frans Olof    male  33.0      0   \n",
       "690        1                    Dick, Mr. Albert Adrian    male  31.0      1   \n",
       "781        1  Dick, Mrs. Albert Adrian (Vera Gillespie)  female  17.0      1   \n",
       "1199       1                 Hays, Mr. Charles Melville    male  55.0      1   \n",
       "1281       1                 Payne, Mr. Vivian Ponsonby    male  23.0      0   \n",
       "\n",
       "      Parch Ticket  Fare        Cabin Embarked  Lastname Title Ticket_SL  \\\n",
       "872       0    695   5.0  B51 B53 B55        S  Carlsson    Mr         0   \n",
       "690       0  17474  57.0          B20        S      Dick    Mr         0   \n",
       "781       0  17474  57.0          B20        S      Dick  Miss         0   \n",
       "1199      1  12749  93.5          B69        S      Hays    Mr         0   \n",
       "1281      0  12749  93.5          B24        S     Payne    Mr         0   \n",
       "\n",
       "     Ticket_No  Psgr_ticket  Price Deck  \n",
       "872        695            1    5.0    B  \n",
       "690      17474            3   19.0    B  \n",
       "781      17474            3   19.0    B  \n",
       "1199     12749            4   23.0    B  \n",
       "1281     12749            4   23.0    B  "
      ]
     },
     "execution_count": 31,
     "metadata": {},
     "output_type": "execute_result"
    }
   ],
   "source": [
    "# Outlier treatment of Deck B\n",
    "# Check the cheapest prices for Deck B\n",
    "df[df.Deck == 'B'].sort_values('Price').head()"
   ]
  },
  {
   "cell_type": "code",
   "execution_count": 32,
   "id": "a499cf12",
   "metadata": {},
   "outputs": [],
   "source": [
    "# Maybe Mr Carlsson paid just 5 pounds for that 1st class ticket, \n",
    "# but this value is an outlier that we will replace with the next min\n",
    "df.loc[(df.Ticket_No == '695'), 'Price'] = 19"
   ]
  },
  {
   "cell_type": "code",
   "execution_count": 33,
   "id": "7ff27d59",
   "metadata": {},
   "outputs": [
    {
     "data": {
      "text/html": [
       "<div>\n",
       "<style scoped>\n",
       "    .dataframe tbody tr th:only-of-type {\n",
       "        vertical-align: middle;\n",
       "    }\n",
       "\n",
       "    .dataframe tbody tr th {\n",
       "        vertical-align: top;\n",
       "    }\n",
       "\n",
       "    .dataframe thead th {\n",
       "        text-align: right;\n",
       "    }\n",
       "</style>\n",
       "<table border=\"1\" class=\"dataframe\">\n",
       "  <thead>\n",
       "    <tr style=\"text-align: right;\">\n",
       "      <th></th>\n",
       "      <th>Pclass</th>\n",
       "      <th>Name</th>\n",
       "      <th>Sex</th>\n",
       "      <th>Age</th>\n",
       "      <th>SibSp</th>\n",
       "      <th>Parch</th>\n",
       "      <th>Ticket</th>\n",
       "      <th>Fare</th>\n",
       "      <th>Cabin</th>\n",
       "      <th>Embarked</th>\n",
       "      <th>Lastname</th>\n",
       "      <th>Title</th>\n",
       "      <th>Ticket_SL</th>\n",
       "      <th>Ticket_No</th>\n",
       "      <th>Psgr_ticket</th>\n",
       "      <th>Price</th>\n",
       "      <th>Deck</th>\n",
       "    </tr>\n",
       "  </thead>\n",
       "  <tbody>\n",
       "    <tr>\n",
       "      <th>1234</th>\n",
       "      <td>1</td>\n",
       "      <td>Cardeza, Mrs. James Warburton Martinez (Charlo...</td>\n",
       "      <td>female</td>\n",
       "      <td>58.0</td>\n",
       "      <td>0</td>\n",
       "      <td>1</td>\n",
       "      <td>PC 17755</td>\n",
       "      <td>512.3292</td>\n",
       "      <td>B51 B53 B55</td>\n",
       "      <td>C</td>\n",
       "      <td>Cardeza</td>\n",
       "      <td>Mrs</td>\n",
       "      <td>PC</td>\n",
       "      <td>17755</td>\n",
       "      <td>4</td>\n",
       "      <td>128.0</td>\n",
       "      <td>B</td>\n",
       "    </tr>\n",
       "    <tr>\n",
       "      <th>258</th>\n",
       "      <td>1</td>\n",
       "      <td>Ward, Miss. Anna</td>\n",
       "      <td>female</td>\n",
       "      <td>35.0</td>\n",
       "      <td>0</td>\n",
       "      <td>0</td>\n",
       "      <td>PC 17755</td>\n",
       "      <td>512.3292</td>\n",
       "      <td>NaN</td>\n",
       "      <td>C</td>\n",
       "      <td>Ward</td>\n",
       "      <td>Mrs</td>\n",
       "      <td>PC</td>\n",
       "      <td>17755</td>\n",
       "      <td>4</td>\n",
       "      <td>128.0</td>\n",
       "      <td>B</td>\n",
       "    </tr>\n",
       "    <tr>\n",
       "      <th>737</th>\n",
       "      <td>1</td>\n",
       "      <td>Lesurer, Mr. Gustave J</td>\n",
       "      <td>male</td>\n",
       "      <td>35.0</td>\n",
       "      <td>0</td>\n",
       "      <td>0</td>\n",
       "      <td>PC 17755</td>\n",
       "      <td>512.3292</td>\n",
       "      <td>B101</td>\n",
       "      <td>C</td>\n",
       "      <td>Lesurer</td>\n",
       "      <td>Mr</td>\n",
       "      <td>PC</td>\n",
       "      <td>17755</td>\n",
       "      <td>4</td>\n",
       "      <td>128.0</td>\n",
       "      <td>B</td>\n",
       "    </tr>\n",
       "    <tr>\n",
       "      <th>679</th>\n",
       "      <td>1</td>\n",
       "      <td>Cardeza, Mr. Thomas Drake Martinez</td>\n",
       "      <td>male</td>\n",
       "      <td>36.0</td>\n",
       "      <td>0</td>\n",
       "      <td>1</td>\n",
       "      <td>PC 17755</td>\n",
       "      <td>512.3292</td>\n",
       "      <td>B51 B53 B55</td>\n",
       "      <td>C</td>\n",
       "      <td>Cardeza</td>\n",
       "      <td>Mr</td>\n",
       "      <td>PC</td>\n",
       "      <td>17755</td>\n",
       "      <td>4</td>\n",
       "      <td>128.0</td>\n",
       "      <td>B</td>\n",
       "    </tr>\n",
       "    <tr>\n",
       "      <th>118</th>\n",
       "      <td>1</td>\n",
       "      <td>Baxter, Mr. Quigg Edmond</td>\n",
       "      <td>male</td>\n",
       "      <td>24.0</td>\n",
       "      <td>0</td>\n",
       "      <td>1</td>\n",
       "      <td>PC 17558</td>\n",
       "      <td>247.5208</td>\n",
       "      <td>B58 B60</td>\n",
       "      <td>C</td>\n",
       "      <td>Baxter</td>\n",
       "      <td>Mr</td>\n",
       "      <td>PC</td>\n",
       "      <td>17558</td>\n",
       "      <td>3</td>\n",
       "      <td>83.0</td>\n",
       "      <td>B</td>\n",
       "    </tr>\n",
       "    <tr>\n",
       "      <th>1075</th>\n",
       "      <td>1</td>\n",
       "      <td>Douglas, Mrs. Frederick Charles (Mary Helene B...</td>\n",
       "      <td>female</td>\n",
       "      <td>27.0</td>\n",
       "      <td>1</td>\n",
       "      <td>1</td>\n",
       "      <td>PC 17558</td>\n",
       "      <td>247.5208</td>\n",
       "      <td>B58 B60</td>\n",
       "      <td>C</td>\n",
       "      <td>Douglas</td>\n",
       "      <td>Mrs</td>\n",
       "      <td>PC</td>\n",
       "      <td>17558</td>\n",
       "      <td>3</td>\n",
       "      <td>83.0</td>\n",
       "      <td>B</td>\n",
       "    </tr>\n",
       "    <tr>\n",
       "      <th>299</th>\n",
       "      <td>1</td>\n",
       "      <td>Baxter, Mrs. James (Helene DeLaudeniere Chaput)</td>\n",
       "      <td>female</td>\n",
       "      <td>50.0</td>\n",
       "      <td>0</td>\n",
       "      <td>1</td>\n",
       "      <td>PC 17558</td>\n",
       "      <td>247.5208</td>\n",
       "      <td>B58 B60</td>\n",
       "      <td>C</td>\n",
       "      <td>Baxter</td>\n",
       "      <td>Mrs</td>\n",
       "      <td>PC</td>\n",
       "      <td>17558</td>\n",
       "      <td>3</td>\n",
       "      <td>83.0</td>\n",
       "      <td>B</td>\n",
       "    </tr>\n",
       "    <tr>\n",
       "      <th>730</th>\n",
       "      <td>1</td>\n",
       "      <td>Allen, Miss. Elisabeth Walton</td>\n",
       "      <td>female</td>\n",
       "      <td>29.0</td>\n",
       "      <td>0</td>\n",
       "      <td>0</td>\n",
       "      <td>24160</td>\n",
       "      <td>211.3375</td>\n",
       "      <td>B5</td>\n",
       "      <td>S</td>\n",
       "      <td>Allen</td>\n",
       "      <td>Mrs</td>\n",
       "      <td>0</td>\n",
       "      <td>24160</td>\n",
       "      <td>4</td>\n",
       "      <td>53.0</td>\n",
       "      <td>B</td>\n",
       "    </tr>\n",
       "    <tr>\n",
       "      <th>1215</th>\n",
       "      <td>1</td>\n",
       "      <td>Kreuchen, Miss. Emilie</td>\n",
       "      <td>female</td>\n",
       "      <td>39.0</td>\n",
       "      <td>0</td>\n",
       "      <td>0</td>\n",
       "      <td>24160</td>\n",
       "      <td>211.3375</td>\n",
       "      <td>NaN</td>\n",
       "      <td>S</td>\n",
       "      <td>Kreuchen</td>\n",
       "      <td>Mrs</td>\n",
       "      <td>0</td>\n",
       "      <td>24160</td>\n",
       "      <td>4</td>\n",
       "      <td>53.0</td>\n",
       "      <td>B</td>\n",
       "    </tr>\n",
       "    <tr>\n",
       "      <th>779</th>\n",
       "      <td>1</td>\n",
       "      <td>Robert, Mrs. Edward Scott (Elisabeth Walton Mc...</td>\n",
       "      <td>female</td>\n",
       "      <td>43.0</td>\n",
       "      <td>0</td>\n",
       "      <td>1</td>\n",
       "      <td>24160</td>\n",
       "      <td>211.3375</td>\n",
       "      <td>B3</td>\n",
       "      <td>S</td>\n",
       "      <td>Robert</td>\n",
       "      <td>Mrs</td>\n",
       "      <td>0</td>\n",
       "      <td>24160</td>\n",
       "      <td>4</td>\n",
       "      <td>53.0</td>\n",
       "      <td>B</td>\n",
       "    </tr>\n",
       "  </tbody>\n",
       "</table>\n",
       "</div>"
      ],
      "text/plain": [
       "      Pclass                                               Name     Sex   Age  \\\n",
       "1234       1  Cardeza, Mrs. James Warburton Martinez (Charlo...  female  58.0   \n",
       "258        1                                   Ward, Miss. Anna  female  35.0   \n",
       "737        1                             Lesurer, Mr. Gustave J    male  35.0   \n",
       "679        1                 Cardeza, Mr. Thomas Drake Martinez    male  36.0   \n",
       "118        1                           Baxter, Mr. Quigg Edmond    male  24.0   \n",
       "1075       1  Douglas, Mrs. Frederick Charles (Mary Helene B...  female  27.0   \n",
       "299        1    Baxter, Mrs. James (Helene DeLaudeniere Chaput)  female  50.0   \n",
       "730        1                      Allen, Miss. Elisabeth Walton  female  29.0   \n",
       "1215       1                             Kreuchen, Miss. Emilie  female  39.0   \n",
       "779        1  Robert, Mrs. Edward Scott (Elisabeth Walton Mc...  female  43.0   \n",
       "\n",
       "      SibSp  Parch    Ticket      Fare        Cabin Embarked  Lastname Title  \\\n",
       "1234      0      1  PC 17755  512.3292  B51 B53 B55        C   Cardeza   Mrs   \n",
       "258       0      0  PC 17755  512.3292          NaN        C      Ward   Mrs   \n",
       "737       0      0  PC 17755  512.3292         B101        C   Lesurer    Mr   \n",
       "679       0      1  PC 17755  512.3292  B51 B53 B55        C   Cardeza    Mr   \n",
       "118       0      1  PC 17558  247.5208      B58 B60        C    Baxter    Mr   \n",
       "1075      1      1  PC 17558  247.5208      B58 B60        C   Douglas   Mrs   \n",
       "299       0      1  PC 17558  247.5208      B58 B60        C    Baxter   Mrs   \n",
       "730       0      0     24160  211.3375           B5        S     Allen   Mrs   \n",
       "1215      0      0     24160  211.3375          NaN        S  Kreuchen   Mrs   \n",
       "779       0      1     24160  211.3375           B3        S    Robert   Mrs   \n",
       "\n",
       "     Ticket_SL Ticket_No  Psgr_ticket  Price Deck  \n",
       "1234        PC     17755            4  128.0    B  \n",
       "258         PC     17755            4  128.0    B  \n",
       "737         PC     17755            4  128.0    B  \n",
       "679         PC     17755            4  128.0    B  \n",
       "118         PC     17558            3   83.0    B  \n",
       "1075        PC     17558            3   83.0    B  \n",
       "299         PC     17558            3   83.0    B  \n",
       "730          0     24160            4   53.0    B  \n",
       "1215         0     24160            4   53.0    B  \n",
       "779          0     24160            4   53.0    B  "
      ]
     },
     "execution_count": 33,
     "metadata": {},
     "output_type": "execute_result"
    }
   ],
   "source": [
    "# Check the most expensive prices for Deck B\n",
    "df[df.Deck == 'B'].sort_values('Price', ascending=False).head(10)"
   ]
  },
  {
   "cell_type": "code",
   "execution_count": 34,
   "id": "6224ba18",
   "metadata": {},
   "outputs": [],
   "source": [
    "# Two most expensive tickets are outliers,\n",
    "# we will cap them at the next overall highest Price \n",
    "df.loc[(df.Ticket_No == '17755'), 'Price'] = 53\n",
    "df.loc[(df.Ticket_No == '17558'), 'Price'] = 53"
   ]
  },
  {
   "cell_type": "code",
   "execution_count": 35,
   "id": "27a13846",
   "metadata": {},
   "outputs": [
    {
     "name": "stdout",
     "output_type": "stream",
     "text": [
      "    Pclass Deck  Price\n",
      "0        1    A  33.00\n",
      "1        1    B  37.25\n",
      "2        1    C  35.81\n",
      "3        1    D  31.90\n",
      "4        1    E  26.34\n",
      "5        2    D  13.67\n",
      "6        2    E   9.50\n",
      "7        2    F  10.94\n",
      "8        3    E   6.67\n",
      "9        3    F   7.55\n",
      "10       3    G   5.60\n"
     ]
    }
   ],
   "source": [
    "# To fix the NULL values of price; Create a data frame of mean prices by Pclass and Deck \n",
    "class_deck_price = pd.DataFrame(df.groupby(['Pclass', 'Deck'])\n",
    "                                .Price.mean().round(2)).reset_index()\n",
    "print(class_deck_price)\n",
    "\n",
    "# Impute missing prices \n",
    "# Where Deck is missing we will use the mean price by Pclass only\n",
    "for index, row in df.loc[df.Price.isna(), \n",
    "                         ['Pclass', 'Deck']].iterrows():\n",
    "    if not pd.isna(row.Deck):\n",
    "        new_price = class_deck_price.loc[\n",
    "            ((class_deck_price.Pclass == row.Pclass) \n",
    "            & (class_deck_price.Deck == row.Deck)), 'Price'].mean()\n",
    "    else:\n",
    "        new_price = class_deck_price[\n",
    "            class_deck_price.Pclass == row.Pclass].Price.mean()\n",
    "\n",
    "    df.loc[[index], 'Price'] = new_price"
   ]
  },
  {
   "cell_type": "markdown",
   "id": "285ad836",
   "metadata": {},
   "source": [
    "Analyze and impute missing deck values"
   ]
  },
  {
   "cell_type": "code",
   "execution_count": 36,
   "id": "1e26d6ec",
   "metadata": {},
   "outputs": [],
   "source": [
    "# Create dictionaries with approximate price ranges by deck \n",
    "# concluded from previous analysis\n",
    "first_cl = {'A': [25, 30],\n",
    "            'B': [35, 70],\n",
    "            'C': [30, 35],\n",
    "            'D': [19, 25],\n",
    "            'E': [9, 19]}\n",
    "\n",
    "second_cl = {'D': [13, 17],\n",
    "             'E': [5, 9],\n",
    "             'F': [9, 13]}\n",
    "\n",
    "third_cl = {'E': [8, 9],\n",
    "            'F': [9, 21],\n",
    "            'G': [0, 8]}\n",
    "\n",
    "# Create a dictionary pairing Pclass and respective price dictionary\n",
    "class_dict = {1: first_cl,\n",
    "              2: second_cl,\n",
    "              3: third_cl}\n",
    "\n",
    "# Impute missing Deck values \n",
    "for index, row in df.loc[df.Deck.isna(), ['Pclass', 'Price']].iterrows():\n",
    "    for c, d in class_dict.items():\n",
    "        if row.Pclass == c:\n",
    "            for i, j in d.items():\n",
    "                if max(j) > row.Price >= min(j):\n",
    "                    df.loc[[index], 'Deck'] = i\n",
    "\n",
    "# Encode Deck with it's deck level number counting from the bottom\n",
    "deck_level = {'G': 1, 'F': 2, 'E': 3, 'D': 4, 'C': 5, 'B': 6, 'A': 7}\n",
    "\n",
    "df.Deck = df.Deck.replace(deck_level)"
   ]
  },
  {
   "cell_type": "markdown",
   "id": "9f4071e4",
   "metadata": {},
   "source": [
    "Create 'Escape_density' feature\n",
    "\n",
    "Crowded decks could lead to jams and chaos when everybody wanted to go to the upper deck as the lifeboats were there. This feature will show through which amount of people each deck passenger needed to pass to arrive on top. Basically for each deck we will have a number of people equal to the sum of its own value and all the decks that are upper from it."
   ]
  },
  {
   "cell_type": "code",
   "execution_count": 37,
   "id": "3968c681",
   "metadata": {},
   "outputs": [
    {
     "data": {
      "text/plain": [
       "{1: 283, 2: 202, 3: 408, 4: 176, 5: 116, 6: 76, 7: 48}"
      ]
     },
     "execution_count": 37,
     "metadata": {},
     "output_type": "execute_result"
    }
   ],
   "source": [
    "# Analyse how many people were on each deck.\n",
    "# Many values were imputed with approximation,but at least we'll have an approximate crowd mass each passenger has to pass going up\n",
    "deck_people = df.Deck.value_counts().sort_index().to_dict()\n",
    "deck_people"
   ]
  },
  {
   "cell_type": "code",
   "execution_count": 38,
   "id": "de1fa309",
   "metadata": {},
   "outputs": [
    {
     "data": {
      "text/plain": [
       "{1: 1309, 2: 1026, 3: 824, 4: 416, 5: 240, 6: 124, 7: 48}"
      ]
     },
     "execution_count": 38,
     "metadata": {},
     "output_type": "execute_result"
    }
   ],
   "source": [
    "# Create an escape density dictionary from which we will impute data to our new feature\n",
    "escape_density = {}\n",
    "for i in range(1, 8):\n",
    "    escape_density[i] = sum(deck_people.values())\n",
    "    del deck_people[i]\n",
    "    \n",
    "escape_density"
   ]
  },
  {
   "cell_type": "code",
   "execution_count": 39,
   "id": "f050cc3e",
   "metadata": {},
   "outputs": [],
   "source": [
    "# Create Escape_density column\n",
    "df['Escape_density'] = df.Deck.replace(escape_density)"
   ]
  },
  {
   "cell_type": "markdown",
   "id": "6d7599df",
   "metadata": {},
   "source": [
    "Create Family_size feature\n",
    "\n",
    "It will represent how big the family was"
   ]
  },
  {
   "cell_type": "code",
   "execution_count": 40,
   "id": "e8b1aa8d",
   "metadata": {},
   "outputs": [],
   "source": [
    "# We add together the person and his SibSp and Parch\n",
    "df['Family_size'] = 1 + df.SibSp + df.Parch"
   ]
  },
  {
   "cell_type": "markdown",
   "id": "7c665d1b",
   "metadata": {},
   "source": [
    "Create Family_survivers\n",
    "\n",
    "This feature can't be used for modeling as it will provide target leakage, but by analysing it later we can separate families that could have higher surviving chance"
   ]
  },
  {
   "cell_type": "code",
   "execution_count": 41,
   "id": "be7dba89",
   "metadata": {},
   "outputs": [
    {
     "name": "stdout",
     "output_type": "stream",
     "text": [
      "{'Abbing': 0.0, 'Abbott': 0.5, 'Abelson': 0.5, 'Adahl': 0.0, 'Adams': 0.0, 'Ahlin': 0.0, 'Aks': 1.0, 'Albimona': 1.0, 'Alexander': 0.0, 'Alhomaki': 0.0, 'Ali': 0.0, 'Allen': 0.5, 'Allison': 0.33, 'Allum': 0.0, 'Andersen-Jensen': 1.0, 'Anderson': 1.0, 'Andersson': 0.22, 'Andreasson': 0.0, 'Andrew': 0.0, 'Andrews': 0.5, 'Angle': 1.0, 'Appleton': 1.0, 'Arnold-Franchi': 0.0, 'Artagaveytia': 0.0, 'Asim': 0.0, 'Asplund': 0.75, 'Astor': 1.0, 'Attalah': 0.0, 'Aubart': 1.0, 'Augustsson': 0.0, 'Ayoub': 1.0, 'Backstrom': 0.5, 'Baclini': 1.0, 'Badt': 0.0, 'Bailey': 0.0, 'Balkic': 0.0, 'Ball': 1.0, 'Banfield': 0.0, 'Barah': 1.0, 'Barbara': 0.0, 'Barber': 1.0, 'Barkworth': 1.0, 'Barton': 0.0, 'Bateman': 0.0, 'Baumann': 0.0, 'Baxter': 0.5, 'Bazzani': 1.0, 'Beane': 1.0, 'Beavan': 0.0, 'Becker': 1.0, 'Beckwith': 1.0, 'Beesley': 1.0, 'Behr': 1.0, 'Bengtsson': 0.0, 'Berglund': 0.0, 'Berriman': 0.0, 'Betros': 0.0, 'Bidois': 1.0, 'Bing': 1.0, 'Birkeland': 0.0, 'Bishop': 1.0, 'Bissette': 1.0, 'Bjornstrom-Steffansson': 1.0, 'Blackwell': 0.0, 'Blank': 1.0, 'Bonnell': 1.0, 'Bostandyeff': 0.0, 'Boulos': 0.0, 'Bourke': 0.0, 'Bowen': 0.0, 'Bowerman': 1.0, 'Bracken': 0.0, 'Bradley': 1.0, 'Braund': 0.0, 'Brewe': 0.0, 'Brocklebank': 0.0, 'Brown': 0.75, 'Bryhl': 0.0, 'Burke': 0.0, 'Burns': 1.0, 'Buss': 1.0, 'Butler': 0.0, 'Butt': 0.0, 'Byles': 0.0, 'Bystrom': 1.0, 'Cacic': 0.0, 'Cairns': 0.0, 'Calderhead': 1.0, 'Caldwell': 1.0, 'Calic': 0.0, 'Cameron': 1.0, 'Campbell': 0.0, 'Canavan': 0.0, 'Cann': 0.0, 'Caram': 0.0, 'Carbines': 0.0, 'Cardeza': 1.0, 'Carlsson': 0.0, 'Carr': 1.0, 'Carrau': 0.0, 'Carter': 0.67, 'Cavendish': 0.0, 'Celotti': 0.0, 'Chaffee': 0.0, 'Chambers': 1.0, 'Chapman': 0.0, 'Charters': 0.0, 'Cherry': 1.0, 'Chibnall': 1.0, 'Chip': 1.0, 'Christmann': 0.0, 'Christy': 1.0, 'Chronopoulos': 0.0, 'Clarke': 1.0, 'Cleaver': 1.0, 'Clifford': 0.0, 'Coelho': 0.0, 'Cohen': 1.0, 'Coleff': 0.0, 'Coleridge': 0.0, 'Collander': 0.0, 'Colley': 0.0, 'Collyer': 0.67, 'Compton': 1.0, 'Connaghton': 0.0, 'Connolly': 1.0, 'Connors': 0.0, 'Cook': 0.0, 'Cor': 0.0, 'Corn': 0.0, 'Coutts': 1.0, 'Coxon': 0.0, 'Crease': 0.0, 'Cribb': 0.0, 'Crosby': 0.5, 'Culumovic': 0.0, 'Cumings': 1.0, 'Cunningham': 0.0, 'Dahl': 1.0, 'Dahlberg': 0.0, 'Dakic': 0.0, 'Daly': 1.0, 'Danbom': 0.0, 'Daniel': 1.0, 'Danoff': 0.0, 'Dantcheff': 0.0, 'Davidson': 0.0, 'Davies': 0.33, 'Davis': 1.0, 'Davison': 1.0, 'Dean': 0.5, 'Denkoff': 0.0, 'Dennis': 0.0, 'Devaney': 1.0, 'Dick': 1.0, 'Dimic': 0.0, 'Dodge': 1.0, 'Doharr': 0.0, 'Doling': 1.0, 'Dooley': 0.0, 'Dorking': 1.0, 'Douglas': 0.0, 'Dowdell': 1.0, 'Downton': 0.0, 'Drazenoic': 0.0, 'Drew': 1.0, 'Duane': 0.0, 'Duff Gordon': 1.0, 'Duran y More': 1.0, 'Edvardsson': 0.0, 'Eitemiller': 0.0, 'Eklund': 0.0, 'Ekstrom': 0.0, 'Elias': 0.0, 'Elsbury': 0.0, 'Emanuel': 1.0, 'Emir': 0.0, 'Endres': 1.0, 'Eustis': 1.0, 'Fahlstrom': 0.0, 'Farrell': 0.0, 'Farthing': 0.0, 'Faunthorpe': 1.0, 'Fischer': 0.0, 'Fleming': 1.0, 'Flynn': 0.33, 'Foo': 1.0, 'Ford': 0.0, 'Foreman': 0.0, 'Fortune': 0.5, 'Fox': 0.0, 'Francatelli': 1.0, 'Frauenthal': 1.0, 'Frolicher': 1.0, 'Frolicher-Stehli': 1.0, 'Frost': 0.0, 'Fry': 0.0, 'Funk': 0.0, 'Futrelle': 0.5, 'Fynney': 0.0, 'Gale': 0.0, 'Gallagher': 0.0, 'Garfirth': 0.0, 'Garside': 1.0, 'Gaskell': 0.0, 'Gavey': 0.0, 'Gee': 0.0, 'Gheorgheff': 0.0, 'Giglio': 0.0, 'Giles': 0.0, 'Gilinski': 0.0, 'Gill': 0.0, 'Gillespie': 0.0, 'Gilnagh': 1.0, 'Givard': 0.0, 'Glynn': 1.0, 'Goldenberg': 1.0, 'Goldschmidt': 0.0, 'Goldsmith': 0.67, 'Goncalves': 0.0, 'Goodwin': 0.0, 'Graham': 0.67, 'Green': 0.0, 'Greenberg': 0.0, 'Greenfield': 1.0, 'Gronnestad': 0.0, 'Guggenheim': 0.0, 'Gustafsson': 0.0, 'Haas': 0.0, 'Hagland': 0.0, 'Hakkarainen': 0.5, 'Hale': 0.0, 'Hamalainen': 1.0, 'Hampe': 0.0, 'Hanna': 0.0, 'Hansen': 0.0, 'Harder': 1.0, 'Harknett': 0.0, 'Harmer': 0.0, 'Harper': 0.75, 'Harrington': 0.0, 'Harris': 0.5, 'Harrison': 0.0, 'Hart': 0.5, 'Hassab': 1.0, 'Hassan': 0.0, 'Hawksford': 1.0, 'Hays': 1.0, 'Healy': 1.0, 'Hedman': 1.0, 'Hegarty': 0.0, 'Heikkinen': 1.0, 'Heininen': 0.0, 'Hendekovic': 0.0, 'Henry': 0.0, 'Herman': 1.0, 'Hewlett': 1.0, 'Hickman': 0.0, 'Hippach': 1.0, 'Hirvonen': 1.0, 'Hocking': 0.5, 'Hodges': 0.0, 'Hogeboom': 1.0, 'Hold': 0.0, 'Holm': 0.0, 'Holverson': 0.5, 'Homer': 1.0, 'Honkanen': 1.0, 'Hood': 0.0, 'Horgan': 0.0, 'Hosono': 1.0, 'Hoyt': 0.67, 'Humblen': 0.0, 'Hunt': 0.0, 'Ibrahim Shawah': 0.0, 'Icard': 1.0, 'Ilett': 1.0, 'Ilmakangas': 0.0, 'Isham': 0.0, 'Ivanoff': 0.0, 'Jacobsohn': 0.5, 'Jalsevac': 1.0, 'Jansson': 1.0, 'Jardin': 0.0, 'Jarvis': 0.0, 'Jenkin': 0.0, 'Jensen': 0.0, 'Jermyn': 1.0, 'Jerwan': 1.0, 'Johannesen-Bratthammer': 1.0, 'Johanson': 0.0, 'Johansson': 0.0, 'Johnson': 0.5, 'Johnston': 0.0, 'Jonkoff': 0.0, 'Jonsson': 1.0, 'Jussila': 0.33, 'Kallio': 0.0, 'Kalvik': 0.0, 'Kantor': 0.5, 'Karaic': 0.0, 'Karlsson': 0.0, 'Karun': 1.0, 'Kassem': 0.0, 'Keane': 0.5, 'Keefe': 0.0, 'Kelly': 0.75, 'Kent': 0.0, 'Kenyon': 1.0, 'Kiernan': 0.0, 'Kilgannon': 0.0, 'Kimball': 1.0, 'Kink': 0.0, 'Kink-Heilmann': 1.0, 'Kirkland': 0.0, 'Klaber': 0.0, 'Klasen': 0.0, 'Knight': 0.0, 'Kraeff': 0.0, 'Kvillner': 0.0, 'Lahoud': 0.0, 'Lahtinen': 0.0, 'Laitinen': 0.0, 'Laleff': 0.0, 'Lam': 0.5, 'Landergren': 1.0, 'Lang': 1.0, 'Laroche': 0.67, 'Larsson': 0.0, 'LeRoy': 1.0, 'Leader': 1.0, 'Leeni': 1.0, 'Lefebre': 0.0, 'Lehmann': 1.0, 'Leinonen': 0.0, 'Leitch': 1.0, 'Lemberopolous': 0.0, 'Lemore': 1.0, 'Lennon': 0.0, 'Leonard': 0.0, 'Lester': 0.0, 'Lesurer': 1.0, 'Levy': 0.0, 'Lewy': 0.0, 'Leyson': 0.0, 'Lievens': 0.0, 'Lindahl': 0.0, 'Lindblom': 0.0, 'Lindell': 0.0, 'Lindqvist': 1.0, 'Lines': 1.0, 'Ling': 0.0, 'Lobb': 0.0, 'Long': 0.0, 'Longley': 1.0, 'Louch': 1.0, 'Lovell': 0.0, 'Lulic': 1.0, 'Lundahl': 0.0, 'Lurette': 1.0, 'Mack': 0.0, 'Madigan': 1.0, 'Madill': 1.0, 'Madsen': 1.0, 'Maenpaa': 0.0, 'Maioni': 1.0, 'Maisner': 0.0, 'Mallet': 0.5, 'Mamee': 1.0, 'Mangan': 0.0, 'Mannion': 1.0, 'Marechal': 1.0, 'Markoff': 0.0, 'Markun': 0.0, 'Marvin': 0.0, 'Masselmani': 1.0, 'Matthews': 0.0, 'Mayne': 1.0, 'McCarthy': 0.0, 'McCormack': 1.0, 'McCoy': 1.0, 'McDermott': 1.0, 'McEvoy': 0.0, 'McGough': 1.0, 'McGovern': 1.0, 'McGowan': 1.0, 'McKane': 0.0, 'McMahon': 0.0, 'McNamee': 0.0, 'Meanwell': 0.0, 'Meek': 0.0, 'Mellinger': 1.0, 'Mellors': 1.0, 'Meo': 0.0, 'Mernagh': 0.0, 'Meyer': 0.33, 'Millet': 0.0, 'Milling': 0.0, 'Minahan': 0.5, 'Mineff': 0.0, 'Mionoff': 0.0, 'Mitchell': 0.0, 'Mitkoff': 0.0, 'Mockler': 1.0, 'Moen': 0.0, 'Molson': 0.0, 'Montvila': 0.0, 'Moor': 1.0, 'Moore': 0.0, 'Moran': 0.33, 'Moraweck': 0.0, 'Morley': 0.0, 'Morrow': 0.0, 'Moss': 1.0, 'Moubarek': 1.0, 'Moussa': 1.0, 'Moutal': 0.0, 'Mudd': 0.0, 'Mullens': 1.0, 'Murdlin': 0.0, 'Murphy': 1.0, 'Myhrman': 0.0, 'Naidenoff': 0.0, 'Najib': 1.0, 'Nakid': 1.0, 'Nankoff': 0.0, 'Nasser': 0.5, 'Natsch': 0.0, 'Navratil': 0.67, 'Nenkoff': 0.0, 'Newell': 0.67, 'Newsom': 1.0, 'Nicholls': 0.0, 'Nicholson': 0.0, 'Nicola-Yarred': 1.0, 'Nilsson': 1.0, 'Nirva': 0.0, 'Niskanen': 1.0, 'Norman': 0.0, 'Nosworthy': 0.0, 'Novel': 0.0, 'Nye': 1.0, 'Nysten': 1.0, 'Nysveen': 0.0, \"O'Brien\": 0.33, \"O'Connell\": 0.0, \"O'Connor\": 0.0, \"O'Driscoll\": 1.0, \"O'Dwyer\": 1.0, \"O'Leary\": 1.0, \"O'Sullivan\": 0.0, 'Odahl': 0.0, 'Ohman': 1.0, 'Olsen': 0.0, 'Olsson': 0.0, 'Olsvigen': 0.0, 'Oreskovic': 0.0, 'Osen': 0.0, 'Osman': 1.0, 'Ostby': 0.0, 'Otter': 0.0, 'Padro y Manent': 1.0, 'Pain': 0.0, 'Palsson': 0.0, 'Panula': 0.0, 'Parkes': 0.0, 'Parr': 0.0, 'Parrish': 1.0, 'Partner': 0.0, 'Pasic': 0.0, 'Patchett': 0.0, 'Paulner': 0.0, 'Pavlovic': 0.0, 'Pears': 0.5, 'Peduzzi': 0.0, 'Pekoniemi': 0.0, 'Penasco y Castellana': 0.5, 'Pengelly': 0.0, 'Perkin': 0.0, 'Pernot': 0.0, 'Perreault': 1.0, 'Persson': 1.0, 'Peter': 1.0, 'Peters': 0.0, 'Petranec': 0.0, 'Petroff': 0.0, 'Petterson': 0.0, 'Pettersson': 0.0, 'Peuchen': 1.0, 'Phillips': 1.0, 'Pickard': 1.0, 'Pinsky': 1.0, 'Plotcharsky': 0.0, 'Ponesell': 0.0, 'Porter': 0.0, 'Potter': 1.0, 'Quick': 1.0, 'Radeff': 0.0, 'Razi': 0.0, 'Reed': 0.0, 'Reeves': 0.0, 'Rekic': 0.0, 'Renouf': 0.5, 'Reuchlin': 0.0, 'Reynaldo': 1.0, 'Rice': 0.0, 'Richard': 0.0, 'Richards': 1.0, 'Ridsdale': 1.0, 'Ringhini': 0.0, 'Rintamaki': 0.0, 'Risien': 0.0, 'Robbins': 0.0, 'Robert': 1.0, 'Robins': 0.0, 'Roebling': 0.0, 'Rogers': 0.0, 'Romaine': 1.0, 'Rommetvedt': 0.0, 'Rood': 0.0, 'Rosblom': 0.0, 'Ross': 0.0, 'Rothes': 1.0, 'Rothschild': 1.0, 'Rouse': 0.0, 'Rugg': 1.0, 'Rush': 0.0, 'Ryan': 0.0, 'Ryerson': 1.0, 'Saad': 0.0, 'Saalfeld': 1.0, 'Sadlier': 0.0, 'Sage': 0.0, 'Sagesser': 1.0, 'Salkjelsvik': 1.0, 'Salonen': 0.0, 'Samaan': 0.0, 'Sandstrom': 1.0, 'Saundercock': 0.0, 'Sawyer': 0.0, 'Scanlan': 0.0, 'Sdycoff': 0.0, 'Sedgwick': 0.0, 'Serepeca': 1.0, 'Seward': 1.0, 'Sharp': 0.0, 'Sheerlinck': 1.0, 'Shellard': 0.0, 'Shelley': 1.0, 'Shorney': 0.0, 'Shutes': 1.0, 'Silven': 1.0, 'Silverthorne': 1.0, 'Silvey': 0.5, 'Simmons': 0.0, 'Simonius-Blumer': 1.0, 'Sinkkonen': 1.0, 'Sirayanian': 0.0, 'Sirota': 0.0, 'Sivic': 0.0, 'Sivola': 0.0, 'Sjoblom': 1.0, 'Sjostedt': 0.0, 'Skoog': 0.0, 'Slabenoff': 0.0, 'Slayter': 1.0, 'Slemen': 0.0, 'Slocovski': 0.0, 'Sloper': 1.0, 'Smart': 0.0, 'Smiljanic': 0.0, 'Smith': 0.25, 'Sobey': 0.0, 'Soholt': 0.0, 'Somerton': 0.0, 'Spedden': 1.0, 'Spencer': 1.0, 'Stahelin-Maeglin': 1.0, 'Staneff': 0.0, 'Stankovic': 0.0, 'Stanley': 0.5, 'Stead': 0.0, 'Stephenson': 1.0, 'Stewart': 0.0, 'Stone': 1.0, 'Stoytcheff': 0.0, 'Strandberg': 0.0, 'Stranden': 1.0, 'Strom': 0.0, 'Sunderland': 1.0, 'Sundman': 1.0, 'Sutehall': 0.0, 'Sutton': 0.0, 'Svensson': 0.0, 'Swift': 1.0, 'Taussig': 0.67, 'Taylor': 1.0, 'Thayer': 0.67, 'Theobald': 0.0, 'Thomas': 1.0, 'Thorne': 1.0, 'Thorneycroft': 0.5, 'Tikkanen': 0.0, 'Tobin': 0.0, 'Todoroff': 0.0, 'Tomlin': 0.0, 'Toomey': 1.0, 'Torber': 0.0, 'Tornquist': 1.0, 'Toufik': 0.0, 'Touma': 1.0, 'Troupiansky': 0.0, 'Trout': 1.0, 'Troutt': 1.0, 'Turcin': 0.0, 'Turja': 1.0, 'Turkula': 1.0, 'Turpin': 0.0, 'Uruchurtu': 0.0, 'Van Impe': 0.0, 'Van der hoef': 0.0, 'Vande Velde': 0.0, 'Vande Walle': 0.0, 'Vanden Steen': 0.0, 'Vander Cruyssen': 0.0, 'Vander Planke': 0.0, 'Vestrom': 0.0, 'Vovk': 0.0, 'Waelens': 0.0, 'Walker': 0.0, 'Ward': 1.0, 'Warren': 1.0, 'Watson': 0.0, 'Watt': 1.0, 'Webber': 0.5, 'Weir': 0.0, 'Weisz': 1.0, 'Wells': 1.0, 'West': 0.67, 'Wheadon': 0.0, 'White': 0.0, 'Wick': 1.0, 'Widegren': 0.0, 'Widener': 0.0, 'Wiklund': 0.0, 'Wilhelms': 1.0, 'Willey': 0.0, 'Williams': 0.25, 'Williams-Lambert': 0.0, 'Windelov': 0.0, 'Wiseman': 0.0, 'Woolner': 1.0, 'Wright': 0.0, 'Yasbeck': 0.5, 'Young': 1.0, 'Youseff': 0.0, 'Yousif': 0.0, 'Yousseff': 0.0, 'Yrois': 0.0, 'Zabour': 0.0, 'Zimmerman': 0.0, 'de Messemaeker': 1.0, 'de Mulder': 1.0, 'de Pelsmaeker': 0.0, 'del Carlo': 0.0, 'van Billiard': 0.0, 'van Melkebeke': 0.0}\n",
      "          Lastname  Survived\n",
      "0           Abbing       0.0\n",
      "1           Abbott       0.5\n",
      "2          Abelson       0.5\n",
      "3            Adahl       0.0\n",
      "4            Adams       0.0\n",
      "..             ...       ...\n",
      "662      de Mulder       1.0\n",
      "663  de Pelsmaeker       0.0\n",
      "664      del Carlo       0.0\n",
      "665   van Billiard       0.0\n",
      "666  van Melkebeke       0.0\n",
      "\n",
      "[667 rows x 2 columns]\n",
      "{'Abbott': 0.5, 'Aks': 1.0, 'Allison': 0.33, 'Andersson': 0.22, 'Andrew': 0.0, 'Angle': 1.0, 'Asplund': 0.75, 'Astor': 1.0, 'Becker': 1.0, 'Betros': 0.0, 'Bonnell': 1.0, 'Boulos': 0.0, 'Bowen': 0.0, 'Bradley': 1.0, 'Brown': 0.75, 'Bryhl': 0.0, 'Burns': 1.0, 'Cacic': 0.0, 'Caldwell': 1.0, 'Canavan': 0.0, 'Caram': 0.0, 'Cardeza': 1.0, 'Carlsson': 0.0, 'Carr': 1.0, 'Carrau': 0.0, 'Cavendish': 0.0, 'Chaffee': 0.0, 'Chapman': 0.0, 'Christy': 1.0, 'Chronopoulos': 0.0, 'Clarke': 1.0, 'Compton': 1.0, 'Connolly': 1.0, 'Cook': 0.0, 'Cor': 0.0, 'Coutts': 1.0, 'Cribb': 0.0, 'Crosby': 0.5, 'Cumings': 1.0, 'Daly': 1.0, 'Danbom': 0.0, 'Davidson': 0.0, 'Davies': 0.33, 'Davison': 1.0, 'Dean': 0.5, 'Dennis': 0.0, 'Dodge': 1.0, 'Douglas': 0.0, 'Drew': 1.0, 'Duran y More': 1.0, 'Elias': 0.0, 'Faunthorpe': 1.0, 'Fleming': 1.0, 'Ford': 0.0, 'Fortune': 0.5, 'Fox': 0.0, 'Frauenthal': 1.0, 'Frolicher-Stehli': 1.0, 'Gale': 0.0, 'Giles': 0.0, 'Goldsmith': 0.67, 'Goodwin': 0.0, 'Greenfield': 1.0, 'Hansen': 0.0, 'Harder': 1.0, 'Hays': 1.0, 'Herman': 1.0, 'Hirvonen': 1.0, 'Hocking': 0.5, 'Hold': 0.0, 'Ilmakangas': 0.0, 'Johansson': 0.0, 'Johnston': 0.0, 'Jonsson': 1.0, 'Karlsson': 0.0, 'Karun': 1.0, 'Keane': 0.5, 'Kelly': 0.75, 'Kenyon': 1.0, 'Kiernan': 0.0, 'Kimball': 1.0, 'Kink': 0.0, 'Kink-Heilmann': 1.0, 'Klasen': 0.0, 'Lahtinen': 0.0, 'Laroche': 0.67, 'Lefebre': 0.0, 'Lennon': 0.0, 'Lindell': 0.0, 'Lines': 1.0, 'Louch': 1.0, 'Mallet': 0.5, 'Marvin': 0.0, 'McCarthy': 0.0, 'McCoy': 1.0, 'McGowan': 1.0, 'McNamee': 0.0, 'Minahan': 0.5, 'Moore': 0.0, 'Moubarek': 1.0, 'Murphy': 1.0, 'Nakid': 1.0, 'Nilsson': 1.0, \"O'Connor\": 0.0, 'Olsen': 0.0, 'Olsson': 0.0, 'Oreskovic': 0.0, 'Ostby': 0.0, 'Palsson': 0.0, 'Peter': 1.0, 'Phillips': 1.0, 'Quick': 1.0, 'Rice': 0.0, 'Risien': 0.0, 'Robins': 0.0, 'Rogers': 0.0, 'Rosblom': 0.0, 'Rothschild': 1.0, 'Ryan': 0.0, 'Ryerson': 1.0, 'Sage': 0.0, 'Samaan': 0.0, 'Sandstrom': 1.0, 'Smith': 0.25, 'Spedden': 1.0, 'Spencer': 1.0, 'Svensson': 0.0, 'Thomas': 1.0, 'Touma': 1.0, 'Vander Planke': 0.0, 'Warren': 1.0, 'Watt': 1.0, 'Weisz': 1.0, 'Wells': 1.0, 'West': 0.67, 'White': 0.0, 'Wick': 1.0, 'Widener': 0.0, 'Wiklund': 0.0, 'Williams': 0.25, 'Wright': 0.0, 'de Messemaeker': 1.0, 'del Carlo': 0.0, 'van Billiard': 0.0}\n"
     ]
    }
   ],
   "source": [
    "# Create full data frame for analysis\n",
    "X = df[:X_max_idx]\n",
    "test_df = df[X_max_idx:].copy()\n",
    "train_df = pd.concat([X, y], axis=1).copy()\n",
    "\n",
    "# Check for families that has survivors and create a dictionary with mean value of their family survivability\n",
    "family_survivors = train_df[['Lastname', 'Survived']].groupby('Lastname').mean().round(2).reset_index()\n",
    "family_survivors_dict = dict(zip(family_survivors.Lastname, family_survivors.Survived))\n",
    "\n",
    "print(family_survivors_dict)\n",
    "print(family_survivors)\n",
    "\n",
    "# Reduce the dictionary to the list of families that are both in train and test data\n",
    "common_survivors = {}\n",
    "for lastname, survived in family_survivors_dict.items():\n",
    "    if lastname in list(test_df['Lastname'].unique()):\n",
    "        common_survivors[lastname] = survived\n",
    "\n",
    "print(common_survivors)\n",
    "\n",
    "# Create Family_surviveos feature\n",
    "test_df['family_survivors'] = test_df.Lastname.map(common_survivors)\n",
    "train_df['family_survivors'] = train_df.Lastname.map(common_survivors)\n",
    "\n",
    "# For the families that are not present in both train and test we will impute the overall mean value\n",
    "test_df.family_survivors = test_df.family_survivors.fillna(test_df.family_survivors.mean())\n",
    "train_df.family_survivors = train_df.family_survivors.fillna(train_df.family_survivors.mean())\n",
    "\n",
    "# Separate back features and target\n",
    "y = train_df.Survived\n",
    "\n",
    "df = train_df.drop('Survived', axis=1)\n",
    "df = pd.concat([df, test_df], axis=0).reset_index(drop=True)"
   ]
  },
  {
   "cell_type": "markdown",
   "id": "6ca7b0dc",
   "metadata": {},
   "source": [
    "Clean Data"
   ]
  },
  {
   "cell_type": "code",
   "execution_count": 42,
   "id": "8b1b7c95",
   "metadata": {},
   "outputs": [],
   "source": [
    "# Change Pclass dtype to category as it's a classification feature\n",
    "df.Pclass = df.Pclass.astype('category')"
   ]
  },
  {
   "cell_type": "code",
   "execution_count": 43,
   "id": "95cc30e9",
   "metadata": {},
   "outputs": [],
   "source": [
    "# Drop further unused columns\n",
    "col_drop = ['Name', 'Ticket', 'Fare', 'Cabin', 'Lastname','Ticket_No',  \n",
    "            'Ticket_SL', 'Psgr_ticket']\n",
    "df = df.drop(col_drop, axis=1)"
   ]
  },
  {
   "cell_type": "markdown",
   "id": "42f71180",
   "metadata": {},
   "source": [
    "Impute Categorical features"
   ]
  },
  {
   "cell_type": "code",
   "execution_count": 44,
   "id": "d18e3cec",
   "metadata": {},
   "outputs": [],
   "source": [
    "# List of categorical columns\n",
    "categ_cols = list(df.select_dtypes(['object', 'category']).columns)\n",
    "\n",
    "# Impute categoricals with most frequent value\n",
    "cat_imputer = SimpleImputer(strategy='most_frequent')\n",
    "\n",
    "df_cat = cat_imputer.fit_transform(df[categ_cols])\n",
    "df_cat = pd.DataFrame(df_cat, columns=df[categ_cols].columns)\n"
   ]
  },
  {
   "cell_type": "code",
   "execution_count": 45,
   "id": "12c7f8db",
   "metadata": {},
   "outputs": [
    {
     "data": {
      "text/html": [
       "<div>\n",
       "<style scoped>\n",
       "    .dataframe tbody tr th:only-of-type {\n",
       "        vertical-align: middle;\n",
       "    }\n",
       "\n",
       "    .dataframe tbody tr th {\n",
       "        vertical-align: top;\n",
       "    }\n",
       "\n",
       "    .dataframe thead th {\n",
       "        text-align: right;\n",
       "    }\n",
       "</style>\n",
       "<table border=\"1\" class=\"dataframe\">\n",
       "  <thead>\n",
       "    <tr style=\"text-align: right;\">\n",
       "      <th></th>\n",
       "      <th>Pclass</th>\n",
       "      <th>Sex</th>\n",
       "      <th>Embarked</th>\n",
       "      <th>Title</th>\n",
       "    </tr>\n",
       "  </thead>\n",
       "  <tbody>\n",
       "    <tr>\n",
       "      <th>0</th>\n",
       "      <td>3</td>\n",
       "      <td>male</td>\n",
       "      <td>S</td>\n",
       "      <td>Mr</td>\n",
       "    </tr>\n",
       "    <tr>\n",
       "      <th>1</th>\n",
       "      <td>1</td>\n",
       "      <td>female</td>\n",
       "      <td>C</td>\n",
       "      <td>Mrs</td>\n",
       "    </tr>\n",
       "    <tr>\n",
       "      <th>2</th>\n",
       "      <td>3</td>\n",
       "      <td>female</td>\n",
       "      <td>S</td>\n",
       "      <td>Mrs</td>\n",
       "    </tr>\n",
       "    <tr>\n",
       "      <th>3</th>\n",
       "      <td>1</td>\n",
       "      <td>female</td>\n",
       "      <td>S</td>\n",
       "      <td>Mrs</td>\n",
       "    </tr>\n",
       "    <tr>\n",
       "      <th>4</th>\n",
       "      <td>3</td>\n",
       "      <td>male</td>\n",
       "      <td>S</td>\n",
       "      <td>Mr</td>\n",
       "    </tr>\n",
       "    <tr>\n",
       "      <th>...</th>\n",
       "      <td>...</td>\n",
       "      <td>...</td>\n",
       "      <td>...</td>\n",
       "      <td>...</td>\n",
       "    </tr>\n",
       "    <tr>\n",
       "      <th>1304</th>\n",
       "      <td>3</td>\n",
       "      <td>male</td>\n",
       "      <td>S</td>\n",
       "      <td>Mr</td>\n",
       "    </tr>\n",
       "    <tr>\n",
       "      <th>1305</th>\n",
       "      <td>1</td>\n",
       "      <td>female</td>\n",
       "      <td>C</td>\n",
       "      <td>Others</td>\n",
       "    </tr>\n",
       "    <tr>\n",
       "      <th>1306</th>\n",
       "      <td>3</td>\n",
       "      <td>male</td>\n",
       "      <td>S</td>\n",
       "      <td>Mr</td>\n",
       "    </tr>\n",
       "    <tr>\n",
       "      <th>1307</th>\n",
       "      <td>3</td>\n",
       "      <td>male</td>\n",
       "      <td>S</td>\n",
       "      <td>Mr</td>\n",
       "    </tr>\n",
       "    <tr>\n",
       "      <th>1308</th>\n",
       "      <td>3</td>\n",
       "      <td>male</td>\n",
       "      <td>C</td>\n",
       "      <td>Mr</td>\n",
       "    </tr>\n",
       "  </tbody>\n",
       "</table>\n",
       "<p>1309 rows × 4 columns</p>\n",
       "</div>"
      ],
      "text/plain": [
       "     Pclass     Sex Embarked   Title\n",
       "0         3    male        S      Mr\n",
       "1         1  female        C     Mrs\n",
       "2         3  female        S     Mrs\n",
       "3         1  female        S     Mrs\n",
       "4         3    male        S      Mr\n",
       "...     ...     ...      ...     ...\n",
       "1304      3    male        S      Mr\n",
       "1305      1  female        C  Others\n",
       "1306      3    male        S      Mr\n",
       "1307      3    male        S      Mr\n",
       "1308      3    male        C      Mr\n",
       "\n",
       "[1309 rows x 4 columns]"
      ]
     },
     "execution_count": 45,
     "metadata": {},
     "output_type": "execute_result"
    }
   ],
   "source": [
    "df_cat"
   ]
  },
  {
   "cell_type": "markdown",
   "id": "f05ea736",
   "metadata": {},
   "source": [
    "Encode categorical features"
   ]
  },
  {
   "cell_type": "code",
   "execution_count": 46,
   "id": "59ac083f",
   "metadata": {},
   "outputs": [],
   "source": [
    "# Encode categoricals with One Hot Encoding\n",
    "ohe = OneHotEncoder(sparse=False)\n",
    "\n",
    "df_cat = pd.DataFrame(ohe.fit_transform(df_cat),\n",
    "                  columns=ohe.get_feature_names_out())"
   ]
  },
  {
   "cell_type": "code",
   "execution_count": 47,
   "id": "0112556f",
   "metadata": {},
   "outputs": [
    {
     "data": {
      "text/html": [
       "<div>\n",
       "<style scoped>\n",
       "    .dataframe tbody tr th:only-of-type {\n",
       "        vertical-align: middle;\n",
       "    }\n",
       "\n",
       "    .dataframe tbody tr th {\n",
       "        vertical-align: top;\n",
       "    }\n",
       "\n",
       "    .dataframe thead th {\n",
       "        text-align: right;\n",
       "    }\n",
       "</style>\n",
       "<table border=\"1\" class=\"dataframe\">\n",
       "  <thead>\n",
       "    <tr style=\"text-align: right;\">\n",
       "      <th></th>\n",
       "      <th>Pclass_1</th>\n",
       "      <th>Pclass_2</th>\n",
       "      <th>Pclass_3</th>\n",
       "      <th>Sex_female</th>\n",
       "      <th>Sex_male</th>\n",
       "      <th>Embarked_C</th>\n",
       "      <th>Embarked_Q</th>\n",
       "      <th>Embarked_S</th>\n",
       "      <th>Title_Master</th>\n",
       "      <th>Title_Miss</th>\n",
       "      <th>Title_Mr</th>\n",
       "      <th>Title_Mrs</th>\n",
       "      <th>Title_Others</th>\n",
       "    </tr>\n",
       "  </thead>\n",
       "  <tbody>\n",
       "    <tr>\n",
       "      <th>0</th>\n",
       "      <td>0.0</td>\n",
       "      <td>0.0</td>\n",
       "      <td>1.0</td>\n",
       "      <td>0.0</td>\n",
       "      <td>1.0</td>\n",
       "      <td>0.0</td>\n",
       "      <td>0.0</td>\n",
       "      <td>1.0</td>\n",
       "      <td>0.0</td>\n",
       "      <td>0.0</td>\n",
       "      <td>1.0</td>\n",
       "      <td>0.0</td>\n",
       "      <td>0.0</td>\n",
       "    </tr>\n",
       "    <tr>\n",
       "      <th>1</th>\n",
       "      <td>1.0</td>\n",
       "      <td>0.0</td>\n",
       "      <td>0.0</td>\n",
       "      <td>1.0</td>\n",
       "      <td>0.0</td>\n",
       "      <td>1.0</td>\n",
       "      <td>0.0</td>\n",
       "      <td>0.0</td>\n",
       "      <td>0.0</td>\n",
       "      <td>0.0</td>\n",
       "      <td>0.0</td>\n",
       "      <td>1.0</td>\n",
       "      <td>0.0</td>\n",
       "    </tr>\n",
       "    <tr>\n",
       "      <th>2</th>\n",
       "      <td>0.0</td>\n",
       "      <td>0.0</td>\n",
       "      <td>1.0</td>\n",
       "      <td>1.0</td>\n",
       "      <td>0.0</td>\n",
       "      <td>0.0</td>\n",
       "      <td>0.0</td>\n",
       "      <td>1.0</td>\n",
       "      <td>0.0</td>\n",
       "      <td>0.0</td>\n",
       "      <td>0.0</td>\n",
       "      <td>1.0</td>\n",
       "      <td>0.0</td>\n",
       "    </tr>\n",
       "    <tr>\n",
       "      <th>3</th>\n",
       "      <td>1.0</td>\n",
       "      <td>0.0</td>\n",
       "      <td>0.0</td>\n",
       "      <td>1.0</td>\n",
       "      <td>0.0</td>\n",
       "      <td>0.0</td>\n",
       "      <td>0.0</td>\n",
       "      <td>1.0</td>\n",
       "      <td>0.0</td>\n",
       "      <td>0.0</td>\n",
       "      <td>0.0</td>\n",
       "      <td>1.0</td>\n",
       "      <td>0.0</td>\n",
       "    </tr>\n",
       "    <tr>\n",
       "      <th>4</th>\n",
       "      <td>0.0</td>\n",
       "      <td>0.0</td>\n",
       "      <td>1.0</td>\n",
       "      <td>0.0</td>\n",
       "      <td>1.0</td>\n",
       "      <td>0.0</td>\n",
       "      <td>0.0</td>\n",
       "      <td>1.0</td>\n",
       "      <td>0.0</td>\n",
       "      <td>0.0</td>\n",
       "      <td>1.0</td>\n",
       "      <td>0.0</td>\n",
       "      <td>0.0</td>\n",
       "    </tr>\n",
       "    <tr>\n",
       "      <th>...</th>\n",
       "      <td>...</td>\n",
       "      <td>...</td>\n",
       "      <td>...</td>\n",
       "      <td>...</td>\n",
       "      <td>...</td>\n",
       "      <td>...</td>\n",
       "      <td>...</td>\n",
       "      <td>...</td>\n",
       "      <td>...</td>\n",
       "      <td>...</td>\n",
       "      <td>...</td>\n",
       "      <td>...</td>\n",
       "      <td>...</td>\n",
       "    </tr>\n",
       "    <tr>\n",
       "      <th>1304</th>\n",
       "      <td>0.0</td>\n",
       "      <td>0.0</td>\n",
       "      <td>1.0</td>\n",
       "      <td>0.0</td>\n",
       "      <td>1.0</td>\n",
       "      <td>0.0</td>\n",
       "      <td>0.0</td>\n",
       "      <td>1.0</td>\n",
       "      <td>0.0</td>\n",
       "      <td>0.0</td>\n",
       "      <td>1.0</td>\n",
       "      <td>0.0</td>\n",
       "      <td>0.0</td>\n",
       "    </tr>\n",
       "    <tr>\n",
       "      <th>1305</th>\n",
       "      <td>1.0</td>\n",
       "      <td>0.0</td>\n",
       "      <td>0.0</td>\n",
       "      <td>1.0</td>\n",
       "      <td>0.0</td>\n",
       "      <td>1.0</td>\n",
       "      <td>0.0</td>\n",
       "      <td>0.0</td>\n",
       "      <td>0.0</td>\n",
       "      <td>0.0</td>\n",
       "      <td>0.0</td>\n",
       "      <td>0.0</td>\n",
       "      <td>1.0</td>\n",
       "    </tr>\n",
       "    <tr>\n",
       "      <th>1306</th>\n",
       "      <td>0.0</td>\n",
       "      <td>0.0</td>\n",
       "      <td>1.0</td>\n",
       "      <td>0.0</td>\n",
       "      <td>1.0</td>\n",
       "      <td>0.0</td>\n",
       "      <td>0.0</td>\n",
       "      <td>1.0</td>\n",
       "      <td>0.0</td>\n",
       "      <td>0.0</td>\n",
       "      <td>1.0</td>\n",
       "      <td>0.0</td>\n",
       "      <td>0.0</td>\n",
       "    </tr>\n",
       "    <tr>\n",
       "      <th>1307</th>\n",
       "      <td>0.0</td>\n",
       "      <td>0.0</td>\n",
       "      <td>1.0</td>\n",
       "      <td>0.0</td>\n",
       "      <td>1.0</td>\n",
       "      <td>0.0</td>\n",
       "      <td>0.0</td>\n",
       "      <td>1.0</td>\n",
       "      <td>0.0</td>\n",
       "      <td>0.0</td>\n",
       "      <td>1.0</td>\n",
       "      <td>0.0</td>\n",
       "      <td>0.0</td>\n",
       "    </tr>\n",
       "    <tr>\n",
       "      <th>1308</th>\n",
       "      <td>0.0</td>\n",
       "      <td>0.0</td>\n",
       "      <td>1.0</td>\n",
       "      <td>0.0</td>\n",
       "      <td>1.0</td>\n",
       "      <td>1.0</td>\n",
       "      <td>0.0</td>\n",
       "      <td>0.0</td>\n",
       "      <td>0.0</td>\n",
       "      <td>0.0</td>\n",
       "      <td>1.0</td>\n",
       "      <td>0.0</td>\n",
       "      <td>0.0</td>\n",
       "    </tr>\n",
       "  </tbody>\n",
       "</table>\n",
       "<p>1309 rows × 13 columns</p>\n",
       "</div>"
      ],
      "text/plain": [
       "      Pclass_1  Pclass_2  Pclass_3  Sex_female  Sex_male  Embarked_C  \\\n",
       "0          0.0       0.0       1.0         0.0       1.0         0.0   \n",
       "1          1.0       0.0       0.0         1.0       0.0         1.0   \n",
       "2          0.0       0.0       1.0         1.0       0.0         0.0   \n",
       "3          1.0       0.0       0.0         1.0       0.0         0.0   \n",
       "4          0.0       0.0       1.0         0.0       1.0         0.0   \n",
       "...        ...       ...       ...         ...       ...         ...   \n",
       "1304       0.0       0.0       1.0         0.0       1.0         0.0   \n",
       "1305       1.0       0.0       0.0         1.0       0.0         1.0   \n",
       "1306       0.0       0.0       1.0         0.0       1.0         0.0   \n",
       "1307       0.0       0.0       1.0         0.0       1.0         0.0   \n",
       "1308       0.0       0.0       1.0         0.0       1.0         1.0   \n",
       "\n",
       "      Embarked_Q  Embarked_S  Title_Master  Title_Miss  Title_Mr  Title_Mrs  \\\n",
       "0            0.0         1.0           0.0         0.0       1.0        0.0   \n",
       "1            0.0         0.0           0.0         0.0       0.0        1.0   \n",
       "2            0.0         1.0           0.0         0.0       0.0        1.0   \n",
       "3            0.0         1.0           0.0         0.0       0.0        1.0   \n",
       "4            0.0         1.0           0.0         0.0       1.0        0.0   \n",
       "...          ...         ...           ...         ...       ...        ...   \n",
       "1304         0.0         1.0           0.0         0.0       1.0        0.0   \n",
       "1305         0.0         0.0           0.0         0.0       0.0        0.0   \n",
       "1306         0.0         1.0           0.0         0.0       1.0        0.0   \n",
       "1307         0.0         1.0           0.0         0.0       1.0        0.0   \n",
       "1308         0.0         0.0           0.0         0.0       1.0        0.0   \n",
       "\n",
       "      Title_Others  \n",
       "0              0.0  \n",
       "1              0.0  \n",
       "2              0.0  \n",
       "3              0.0  \n",
       "4              0.0  \n",
       "...            ...  \n",
       "1304           0.0  \n",
       "1305           1.0  \n",
       "1306           0.0  \n",
       "1307           0.0  \n",
       "1308           0.0  \n",
       "\n",
       "[1309 rows x 13 columns]"
      ]
     },
     "execution_count": 47,
     "metadata": {},
     "output_type": "execute_result"
    }
   ],
   "source": [
    "df_cat"
   ]
  },
  {
   "cell_type": "markdown",
   "id": "6a49d84f",
   "metadata": {},
   "source": [
    "Impute numericals"
   ]
  },
  {
   "cell_type": "code",
   "execution_count": 48,
   "id": "f0ebea32",
   "metadata": {},
   "outputs": [],
   "source": [
    "# List of numerical columns\n",
    "num_cols = [col for col in df.columns \n",
    "            if df[col].dtype in ['int64', 'float64']]\n",
    "\n",
    "# Impute numericals\n",
    "it_imp = IterativeImputer()\n",
    "\n",
    "df_num = pd.DataFrame(it_imp.fit_transform(df[num_cols]),\n",
    "                      columns=df[num_cols].columns)\n",
    "\n",
    "# Concatenate with encoded categorical columns\n",
    "df = pd.concat([df_cat, df_num], axis=1)"
   ]
  },
  {
   "cell_type": "code",
   "execution_count": 49,
   "id": "33aafec0",
   "metadata": {},
   "outputs": [
    {
     "data": {
      "text/html": [
       "<div>\n",
       "<style scoped>\n",
       "    .dataframe tbody tr th:only-of-type {\n",
       "        vertical-align: middle;\n",
       "    }\n",
       "\n",
       "    .dataframe tbody tr th {\n",
       "        vertical-align: top;\n",
       "    }\n",
       "\n",
       "    .dataframe thead th {\n",
       "        text-align: right;\n",
       "    }\n",
       "</style>\n",
       "<table border=\"1\" class=\"dataframe\">\n",
       "  <thead>\n",
       "    <tr style=\"text-align: right;\">\n",
       "      <th></th>\n",
       "      <th>Age</th>\n",
       "      <th>SibSp</th>\n",
       "      <th>Parch</th>\n",
       "      <th>Price</th>\n",
       "      <th>Deck</th>\n",
       "      <th>Escape_density</th>\n",
       "      <th>Family_size</th>\n",
       "      <th>family_survivors</th>\n",
       "    </tr>\n",
       "  </thead>\n",
       "  <tbody>\n",
       "    <tr>\n",
       "      <th>0</th>\n",
       "      <td>22.000000</td>\n",
       "      <td>1.0</td>\n",
       "      <td>0.0</td>\n",
       "      <td>7.0</td>\n",
       "      <td>1.0</td>\n",
       "      <td>1309.0</td>\n",
       "      <td>2.0</td>\n",
       "      <td>0.421647</td>\n",
       "    </tr>\n",
       "    <tr>\n",
       "      <th>1</th>\n",
       "      <td>38.000000</td>\n",
       "      <td>1.0</td>\n",
       "      <td>0.0</td>\n",
       "      <td>36.0</td>\n",
       "      <td>5.0</td>\n",
       "      <td>240.0</td>\n",
       "      <td>2.0</td>\n",
       "      <td>1.000000</td>\n",
       "    </tr>\n",
       "    <tr>\n",
       "      <th>2</th>\n",
       "      <td>26.000000</td>\n",
       "      <td>0.0</td>\n",
       "      <td>0.0</td>\n",
       "      <td>8.0</td>\n",
       "      <td>3.0</td>\n",
       "      <td>824.0</td>\n",
       "      <td>1.0</td>\n",
       "      <td>0.421647</td>\n",
       "    </tr>\n",
       "    <tr>\n",
       "      <th>3</th>\n",
       "      <td>35.000000</td>\n",
       "      <td>1.0</td>\n",
       "      <td>0.0</td>\n",
       "      <td>27.0</td>\n",
       "      <td>5.0</td>\n",
       "      <td>240.0</td>\n",
       "      <td>2.0</td>\n",
       "      <td>0.421647</td>\n",
       "    </tr>\n",
       "    <tr>\n",
       "      <th>4</th>\n",
       "      <td>35.000000</td>\n",
       "      <td>0.0</td>\n",
       "      <td>0.0</td>\n",
       "      <td>8.0</td>\n",
       "      <td>3.0</td>\n",
       "      <td>824.0</td>\n",
       "      <td>1.0</td>\n",
       "      <td>0.421647</td>\n",
       "    </tr>\n",
       "    <tr>\n",
       "      <th>...</th>\n",
       "      <td>...</td>\n",
       "      <td>...</td>\n",
       "      <td>...</td>\n",
       "      <td>...</td>\n",
       "      <td>...</td>\n",
       "      <td>...</td>\n",
       "      <td>...</td>\n",
       "      <td>...</td>\n",
       "    </tr>\n",
       "    <tr>\n",
       "      <th>1304</th>\n",
       "      <td>28.902015</td>\n",
       "      <td>0.0</td>\n",
       "      <td>0.0</td>\n",
       "      <td>8.0</td>\n",
       "      <td>3.0</td>\n",
       "      <td>824.0</td>\n",
       "      <td>1.0</td>\n",
       "      <td>0.487234</td>\n",
       "    </tr>\n",
       "    <tr>\n",
       "      <th>1305</th>\n",
       "      <td>39.000000</td>\n",
       "      <td>0.0</td>\n",
       "      <td>0.0</td>\n",
       "      <td>36.0</td>\n",
       "      <td>5.0</td>\n",
       "      <td>240.0</td>\n",
       "      <td>1.0</td>\n",
       "      <td>0.487234</td>\n",
       "    </tr>\n",
       "    <tr>\n",
       "      <th>1306</th>\n",
       "      <td>38.500000</td>\n",
       "      <td>0.0</td>\n",
       "      <td>0.0</td>\n",
       "      <td>7.0</td>\n",
       "      <td>1.0</td>\n",
       "      <td>1309.0</td>\n",
       "      <td>1.0</td>\n",
       "      <td>0.487234</td>\n",
       "    </tr>\n",
       "    <tr>\n",
       "      <th>1307</th>\n",
       "      <td>28.902015</td>\n",
       "      <td>0.0</td>\n",
       "      <td>0.0</td>\n",
       "      <td>8.0</td>\n",
       "      <td>3.0</td>\n",
       "      <td>824.0</td>\n",
       "      <td>1.0</td>\n",
       "      <td>0.487234</td>\n",
       "    </tr>\n",
       "    <tr>\n",
       "      <th>1308</th>\n",
       "      <td>23.731397</td>\n",
       "      <td>1.0</td>\n",
       "      <td>1.0</td>\n",
       "      <td>7.0</td>\n",
       "      <td>2.0</td>\n",
       "      <td>1026.0</td>\n",
       "      <td>3.0</td>\n",
       "      <td>1.000000</td>\n",
       "    </tr>\n",
       "  </tbody>\n",
       "</table>\n",
       "<p>1309 rows × 8 columns</p>\n",
       "</div>"
      ],
      "text/plain": [
       "            Age  SibSp  Parch  Price  Deck  Escape_density  Family_size  \\\n",
       "0     22.000000    1.0    0.0    7.0   1.0          1309.0          2.0   \n",
       "1     38.000000    1.0    0.0   36.0   5.0           240.0          2.0   \n",
       "2     26.000000    0.0    0.0    8.0   3.0           824.0          1.0   \n",
       "3     35.000000    1.0    0.0   27.0   5.0           240.0          2.0   \n",
       "4     35.000000    0.0    0.0    8.0   3.0           824.0          1.0   \n",
       "...         ...    ...    ...    ...   ...             ...          ...   \n",
       "1304  28.902015    0.0    0.0    8.0   3.0           824.0          1.0   \n",
       "1305  39.000000    0.0    0.0   36.0   5.0           240.0          1.0   \n",
       "1306  38.500000    0.0    0.0    7.0   1.0          1309.0          1.0   \n",
       "1307  28.902015    0.0    0.0    8.0   3.0           824.0          1.0   \n",
       "1308  23.731397    1.0    1.0    7.0   2.0          1026.0          3.0   \n",
       "\n",
       "      family_survivors  \n",
       "0             0.421647  \n",
       "1             1.000000  \n",
       "2             0.421647  \n",
       "3             0.421647  \n",
       "4             0.421647  \n",
       "...                ...  \n",
       "1304          0.487234  \n",
       "1305          0.487234  \n",
       "1306          0.487234  \n",
       "1307          0.487234  \n",
       "1308          1.000000  \n",
       "\n",
       "[1309 rows x 8 columns]"
      ]
     },
     "execution_count": 49,
     "metadata": {},
     "output_type": "execute_result"
    }
   ],
   "source": [
    "df_num"
   ]
  },
  {
   "cell_type": "markdown",
   "id": "3231e6c9",
   "metadata": {},
   "source": [
    "Feature Engineering"
   ]
  },
  {
   "cell_type": "code",
   "execution_count": 50,
   "id": "b9e5b539",
   "metadata": {},
   "outputs": [],
   "source": [
    "# Create a full data frame for analysis\n",
    "X = df[:X_max_idx]\n",
    "train_df = pd.concat([X, y], axis=1)"
   ]
  },
  {
   "cell_type": "code",
   "execution_count": 51,
   "id": "c22ff9e4",
   "metadata": {},
   "outputs": [],
   "source": [
    "# Function for kde plotting\n",
    "def survive_chance_by(feature, xticks=None, xlim=None):\n",
    "    survived = train_df[train_df.Survived == 1]\n",
    "    not_survived = train_df[train_df.Survived == 0]\n",
    "\n",
    "    plt.figure(figsize=(10, 5))\n",
    "\n",
    "    survived[feature].plot(kind='kde', label='survived')\n",
    "    not_survived[feature].plot(kind='kde', label='not_survived')\n",
    "    \n",
    "    plt.xlim(xlim)\n",
    "    plt.xticks(xticks)\n",
    "    plt.legend()\n",
    "    plt.grid()\n",
    "    plt.xlabel(feature)\n",
    "    plt.show()"
   ]
  },
  {
   "cell_type": "markdown",
   "id": "7cedd58b",
   "metadata": {},
   "source": [
    "Create Age_Group feature"
   ]
  },
  {
   "cell_type": "code",
   "execution_count": 52,
   "id": "542c6fb0",
   "metadata": {},
   "outputs": [
    {
     "data": {
      "image/png": "[encoded data removed]",
      "text/plain": [
       "<Figure size 1000x500 with 1 Axes>"
      ]
     },
     "metadata": {},
     "output_type": "display_data"
    }
   ],
   "source": [
    "# Survivers by Age\n",
    "survive_chance_by('Age', np.arange(0, 81, 5), (0, 80))"
   ]
  },
  {
   "cell_type": "markdown",
   "id": "eb545507",
   "metadata": {},
   "source": [
    "By curves intersection points we can separate 4 age groups:\n",
    "\n",
    "1. 0-15 years old have higher survivability chance\n",
    "2. 15-32 years old low chance\n",
    "3. 32-44 years old better chance\n",
    "4. For the rest the chances are almost equal"
   ]
  },
  {
   "cell_type": "code",
   "execution_count": 53,
   "id": "f659ea78",
   "metadata": {},
   "outputs": [],
   "source": [
    "df['Age_group'] = pd.cut(x=df.Age, bins=[0, 15, 32, 44, df.Age.max()],\n",
    "                         labels=['Child', 'Young', 'Adult', 'Old'])"
   ]
  },
  {
   "cell_type": "markdown",
   "id": "204a1716",
   "metadata": {},
   "source": [
    "Create Family_group feature"
   ]
  },
  {
   "cell_type": "code",
   "execution_count": 54,
   "id": "9677206d",
   "metadata": {},
   "outputs": [
    {
     "data": {
      "image/png": "[encoded data removed]",
      "text/plain": [
       "<Figure size 1000x500 with 1 Axes>"
      ]
     },
     "metadata": {},
     "output_type": "display_data"
    }
   ],
   "source": [
    "# Survivers by Family_size\n",
    "survive_chance_by('Family_size', np.arange(0, 10, 1), (0, 10))"
   ]
  },
  {
   "cell_type": "markdown",
   "id": "b4f31175",
   "metadata": {},
   "source": [
    "Here we can separate 3 groups:\n",
    "\n",
    "1. Single persons had lower chance to survive\n",
    "2. 2-4 members families had higher chances, as they had some priority to safeboats with female and/or 1-2 children with them\n",
    "3. 5 and more members families had almost equal chances"
   ]
  },
  {
   "cell_type": "code",
   "execution_count": 55,
   "id": "a4fb1508",
   "metadata": {},
   "outputs": [],
   "source": [
    "# Create Family_group feature\n",
    "df['Family_group'] = pd.cut(x=df.Family_size, \n",
    "                            bins=[0, 1, 4, df.Family_size.max()],\n",
    "                            labels=['Single', 'Medium', 'Large'])"
   ]
  },
  {
   "cell_type": "markdown",
   "id": "d58f7f80",
   "metadata": {},
   "source": [
    "Create Lucky_family feature\n",
    "\n",
    "To create this feature we analyse earlier created Family_survivers that used by itself would overfit the model"
   ]
  },
  {
   "cell_type": "code",
   "execution_count": 56,
   "id": "771609b3",
   "metadata": {},
   "outputs": [
    {
     "data": {
      "image/png": "[encoded data removed]",
      "text/plain": [
       "<Figure size 1000x500 with 1 Axes>"
      ]
     },
     "metadata": {},
     "output_type": "display_data"
    }
   ],
   "source": [
    "# Survivers by Family_survivors\n",
    "survive_chance_by('family_survivors', np.arange(0, 1.5, 0.1), (0, 1.5))"
   ]
  },
  {
   "cell_type": "code",
   "execution_count": 57,
   "id": "0ffedbd3",
   "metadata": {},
   "outputs": [],
   "source": [
    "# Create Lucky_family feature\n",
    "df['Lucky_family'] = pd.cut(x=df.family_survivors, \n",
    "                            bins=[0, 0.22, 0.35, 0.49, df.family_survivors.max()],\n",
    "                            labels=['Low', 'Medium', 'Very_low', 'High'])"
   ]
  },
  {
   "cell_type": "code",
   "execution_count": 58,
   "id": "17d09452",
   "metadata": {},
   "outputs": [],
   "source": [
    "#Not using Lucky_family - Reduces the scores by 1%. So using it.\n",
    "\n",
    "# cols_to_drop = ['Lucky_family']\n",
    "# df = df.drop(cols_to_drop, axis=1)"
   ]
  },
  {
   "cell_type": "code",
   "execution_count": 59,
   "id": "42b899f7",
   "metadata": {},
   "outputs": [],
   "source": [
    "# Encode categoricals\n",
    "df = pd.get_dummies(df)"
   ]
  },
  {
   "cell_type": "markdown",
   "id": "9e85713f",
   "metadata": {},
   "source": [
    "Standardization"
   ]
  },
  {
   "cell_type": "code",
   "execution_count": 60,
   "id": "2df56eb9",
   "metadata": {},
   "outputs": [],
   "source": [
    "# Apply np.log to normalize the skewed right Price\n",
    "df.Price = df.Price.apply(np.log1p)\n",
    "\n",
    "# Standardize \n",
    "std_scaler = StandardScaler()\n",
    "\n",
    "df_scaled = std_scaler.fit_transform(df)\n",
    "df = pd.DataFrame(df_scaled, columns=df.columns)"
   ]
  },
  {
   "cell_type": "code",
   "execution_count": 61,
   "id": "c7a56b15",
   "metadata": {},
   "outputs": [],
   "source": [
    "# Drop features not used for modeling\n",
    "cols_to_drop = ['family_survivors', 'SibSp', 'Parch', 'Family_size']\n",
    "df = df.drop(cols_to_drop, axis=1)"
   ]
  },
  {
   "cell_type": "code",
   "execution_count": 62,
   "id": "ba0f128d",
   "metadata": {},
   "outputs": [],
   "source": [
    "# Split train and test data\n",
    "\n",
    "X = df[:X_max_idx]\n",
    "test_df = df[X_max_idx:]"
   ]
  },
  {
   "cell_type": "markdown",
   "id": "950a0eb3",
   "metadata": {},
   "source": [
    "Processed data correlation"
   ]
  },
  {
   "cell_type": "code",
   "execution_count": 63,
   "id": "8e91fe97",
   "metadata": {},
   "outputs": [
    {
     "data": {
      "image/png": "[encoded data removed]",
      "text/plain": [
       "<Figure size 1000x500 with 1 Axes>"
      ]
     },
     "metadata": {},
     "output_type": "display_data"
    }
   ],
   "source": [
    "# Concatenate into a full dataset\n",
    "train_df = pd.concat([X, y], axis=1)\n",
    "\n",
    "correlation = train_df.corr()['Survived'].sort_values(ascending=False)\n",
    "\n",
    "# Correlation graph\n",
    "correlation[1:].plot(kind='bar', figsize=(10,5), title='Survivability dependency')\n",
    "plt.show()"
   ]
  },
  {
   "cell_type": "markdown",
   "id": "e80c20ee",
   "metadata": {},
   "source": [
    "Conclusion:\n",
    "\n",
    "On the Titanic is better to not be an usual single adult male on a lower deck and embarked from Southampton with a cheap ticket in the pocket "
   ]
  },
  {
   "cell_type": "code",
   "execution_count": 64,
   "id": "52bbe3c7",
   "metadata": {},
   "outputs": [],
   "source": [
    "score_list = []\n",
    "score_name = []"
   ]
  },
  {
   "cell_type": "markdown",
   "id": "4653d719",
   "metadata": {},
   "source": [
    "CatBoost grid search parameter tuning"
   ]
  },
  {
   "cell_type": "code",
   "execution_count": 65,
   "id": "2e260898",
   "metadata": {},
   "outputs": [
    {
     "name": "stdout",
     "output_type": "stream",
     "text": [
      "Results from Grid Search\n",
      "\n",
      " Best Score:\n",
      " 0.8395061728395062\n",
      "\n",
      " Best parameters:\n",
      " {'depth': 5, 'iterations': 3000, 'learning_rate': 0.0003, 'thread_count': -1, 'verbose': False}\n"
     ]
    }
   ],
   "source": [
    "# Define model\n",
    "cat_model = CatBoostClassifier()\n",
    "\n",
    "# Define parameters' grid\n",
    "grid = {'verbose': [False],\n",
    "        'thread_count': [-1],\n",
    "        'depth': [4, 5],\n",
    "        'iterations': [2000, 3000],\n",
    "        'learning_rate': [0.0001, 0.0003]}\n",
    "\n",
    "# Define GridSearchCV\n",
    "grid_cat = GridSearchCV(estimator=cat_model, param_grid=grid, cv=3, n_jobs=-1)\n",
    "grid_cat.fit(X, y)\n",
    "\n",
    "print('Results from Grid Search')\n",
    "print('\\n Best Score:\\n', grid_cat.best_score_)\n",
    "print('\\n Best parameters:\\n', grid_cat.best_params_)"
   ]
  },
  {
   "cell_type": "code",
   "execution_count": 66,
   "id": "cd5f59a3",
   "metadata": {},
   "outputs": [
    {
     "data": {
      "text/plain": [
       "83.95"
      ]
     },
     "execution_count": 66,
     "metadata": {},
     "output_type": "execute_result"
    }
   ],
   "source": [
    "score_name.append(\"CatBoost\")\n",
    "score = round(np.mean(grid_cat.best_score_)*100, 2)\n",
    "score_list.append(score)\n",
    "score"
   ]
  },
  {
   "cell_type": "markdown",
   "id": "3a1b83a5",
   "metadata": {},
   "source": [
    "CatBoost model test"
   ]
  },
  {
   "cell_type": "code",
   "execution_count": 67,
   "id": "a2b72920",
   "metadata": {},
   "outputs": [
    {
     "name": "stdout",
     "output_type": "stream",
     "text": [
      "count    5.000000\n",
      "mean     0.837223\n",
      "std      0.028027\n",
      "min      0.803371\n",
      "25%      0.820225\n",
      "50%      0.831461\n",
      "75%      0.859551\n",
      "max      0.871508\n",
      "dtype: float64\n",
      "\n",
      "                Feature Id  Importances\n",
      "0       Lucky_family_High    20.465878\n",
      "1                Sex_male    16.496883\n",
      "2              Sex_female    16.124939\n",
      "3                Title_Mr     9.020677\n",
      "4                Pclass_3     6.296449\n",
      "5   Lucky_family_Very_low     6.245410\n",
      "6                   Price     4.347093\n",
      "7      Family_group_Large     3.504851\n",
      "8          Escape_density     2.486686\n",
      "9                     Age     2.470038\n",
      "10                   Deck     2.407854\n",
      "11        Age_group_Child     1.996548\n",
      "12               Pclass_1     1.989909\n",
      "13              Title_Mrs     1.318894\n",
      "14    Family_group_Medium     1.142268\n",
      "15               Pclass_2     0.951267\n",
      "16        Age_group_Young     0.481374\n",
      "17    Family_group_Single     0.468946\n",
      "18           Title_Master     0.402175\n",
      "19        Age_group_Adult     0.331592\n",
      "20           Title_Others     0.209156\n",
      "21             Embarked_C     0.189100\n",
      "22             Embarked_S     0.166244\n",
      "23          Age_group_Old     0.156269\n",
      "24             Title_Miss     0.109568\n",
      "25    Lucky_family_Medium     0.096098\n",
      "26             Embarked_Q     0.072733\n",
      "27       Lucky_family_Low     0.051102\n"
     ]
    }
   ],
   "source": [
    "# Define parameters\n",
    "# They were manualy adjusted after grid search as gave a better leaderboard score\n",
    "params = {'depth': 5, \n",
    "          'iterations': 3000, \n",
    "          'learning_rate': 0.0003, \n",
    "          'thread_count': -1, \n",
    "          'verbose': False}\n",
    "\n",
    "# Define and fit the model\n",
    "cat_model = CatBoostClassifier(**params)\n",
    "cat_model.fit(X, y)\n",
    "\n",
    "# Check accuracy and features importance\n",
    "cat_rmses = cross_val_score(cat_model, X, y, cv=5)\n",
    "\n",
    "print(pd.Series(cat_rmses).describe())\n",
    "print('\\n', cat_model.get_feature_importance(prettified=True))"
   ]
  },
  {
   "cell_type": "markdown",
   "id": "504cda22",
   "metadata": {},
   "source": [
    "Random Forest parameter tuning"
   ]
  },
  {
   "cell_type": "code",
   "execution_count": 68,
   "id": "ab07e44e",
   "metadata": {},
   "outputs": [
    {
     "name": "stdout",
     "output_type": "stream",
     "text": [
      "Results from Grid Search\n",
      "\n",
      " Best Score:\n",
      " 0.8338945005611672\n",
      "\n",
      " Best parameters:\n",
      " {'max_depth': 6, 'n_estimators': 1000, 'verbose': False}\n"
     ]
    }
   ],
   "source": [
    "# Define model\n",
    "RF_model = RandomForestClassifier()\n",
    "\n",
    "# Define parameters' grid\n",
    "grid = {'verbose': [False],\n",
    "        'max_depth': [4, 5, 6],\n",
    "        'n_estimators': [1000, 2000, 3000]\n",
    "        }\n",
    "\n",
    "# Define GridSearchCV\n",
    "grid_RF = GridSearchCV(RF_model, param_grid=grid, cv=3, n_jobs=-1)\n",
    "grid_RF.fit(X, y)\n",
    "\n",
    "# scoring = \"accuracy\"\n",
    "# score = cross_val_score(clf, train_data, target, cv = k_fold, n_jobs = 5, scoring = scoring)\n",
    "# score_name.append(\"Random Forest\")\n",
    "# print(score)\n",
    "\n",
    "print('Results from Grid Search')\n",
    "print('\\n Best Score:\\n', grid_RF.best_score_)\n",
    "print('\\n Best parameters:\\n', grid_RF.best_params_)"
   ]
  },
  {
   "cell_type": "code",
   "execution_count": 69,
   "id": "c5e4e7a2",
   "metadata": {},
   "outputs": [
    {
     "data": {
      "text/plain": [
       "83.39"
      ]
     },
     "execution_count": 69,
     "metadata": {},
     "output_type": "execute_result"
    }
   ],
   "source": [
    "score_name.append(\"RandomForest\")\n",
    "score = round(np.mean(grid_RF.best_score_)*100, 2)\n",
    "score_list.append(score)\n",
    "score"
   ]
  },
  {
   "cell_type": "markdown",
   "id": "8350ada6",
   "metadata": {},
   "source": [
    "Random Forest Model test"
   ]
  },
  {
   "cell_type": "code",
   "execution_count": 70,
   "id": "b27fde7d",
   "metadata": {},
   "outputs": [
    {
     "name": "stdout",
     "output_type": "stream",
     "text": [
      "count    5.000000\n",
      "mean     0.828278\n",
      "std      0.019748\n",
      "min      0.803371\n",
      "25%      0.814607\n",
      "50%      0.832402\n",
      "75%      0.837079\n",
      "max      0.853933\n",
      "dtype: float64\n",
      "\n",
      " [0.028382   0.01416351 0.05466599 0.15180665 0.14380613 0.008265\n",
      " 0.00365693 0.00900399 0.00721442 0.00586024 0.09948103 0.07369448\n",
      " 0.00466353 0.061473   0.06514869 0.03253664 0.0325823  0.01430013\n",
      " 0.00709418 0.00576673 0.00508974 0.01093991 0.02358575 0.02630967\n",
      " 0.00280655 0.00521286 0.01714699 0.08534296]\n"
     ]
    }
   ],
   "source": [
    "# Define parameters\n",
    "# They were manualy adjusted after grid search as gave a better leaderboard score\n",
    "params = {'max_depth': 6, \n",
    "          'n_estimators': 3000, \n",
    "          'verbose': False}\n",
    "\n",
    "# Define and fit the model\n",
    "RF_model = RandomForestClassifier(**params)\n",
    "RF_model.fit(X, y)\n",
    "\n",
    "# Check accuracy and features importance\n",
    "RF_rmses = cross_val_score(RF_model, X, y, cv=5)\n",
    "\n",
    "print(pd.Series(RF_rmses).describe())\n",
    "print('\\n', RF_model.feature_importances_)"
   ]
  },
  {
   "cell_type": "markdown",
   "id": "0aa264f2",
   "metadata": {},
   "source": [
    "Support Vector Machine paramter tuning"
   ]
  },
  {
   "cell_type": "code",
   "execution_count": 71,
   "id": "d84119b0",
   "metadata": {},
   "outputs": [
    {
     "name": "stdout",
     "output_type": "stream",
     "text": [
      "Results from Grid Search\n",
      "\n",
      " Best Score:\n",
      " 0.8383838383838383\n",
      "\n",
      " Best parameters:\n",
      " {'C': 1.0, 'gamma': 'scale', 'kernel': 'rbf'}\n"
     ]
    }
   ],
   "source": [
    "# Define model\n",
    "SV_model = SVC()\n",
    "\n",
    "# Define parameters' grid\n",
    "\n",
    "grid = { \n",
    "    # Regularization parameter.\n",
    "    \"C\": np.logspace(-1, 1, 3),\n",
    "    # Kernel type\n",
    "    \"kernel\": ['rbf', 'poly'],\n",
    "    # Gamma is the Kernel coefficient for ‘rbf’, ‘poly’ and ‘sigmoid’.\n",
    "    \"gamma\": np.logspace(-1, 1, 3).tolist()+['scale', 'auto']\n",
    "    }\n",
    "\n",
    "# Define GridSearchCV\n",
    "grid_SV = GridSearchCV(SV_model, param_grid=grid, cv=3, n_jobs=-1)\n",
    "grid_SV.fit(X, y)\n",
    "\n",
    "print('Results from Grid Search')\n",
    "print('\\n Best Score:\\n', grid_SV.best_score_)\n",
    "print('\\n Best parameters:\\n', grid_SV.best_params_)\n"
   ]
  },
  {
   "cell_type": "code",
   "execution_count": 72,
   "id": "3edb1b54",
   "metadata": {},
   "outputs": [
    {
     "data": {
      "text/plain": [
       "83.84"
      ]
     },
     "execution_count": 72,
     "metadata": {},
     "output_type": "execute_result"
    }
   ],
   "source": [
    "score_name.append(\"SVM\")\n",
    "score = round(np.mean(grid_SV.best_score_)*100, 2)\n",
    "score_list.append(score)\n",
    "score"
   ]
  },
  {
   "cell_type": "markdown",
   "id": "02af445a",
   "metadata": {},
   "source": [
    "Support Vector model test"
   ]
  },
  {
   "cell_type": "code",
   "execution_count": 73,
   "id": "6422f3d3",
   "metadata": {},
   "outputs": [
    {
     "name": "stdout",
     "output_type": "stream",
     "text": [
      "count    5.000000\n",
      "mean     0.827186\n",
      "std      0.025620\n",
      "min      0.803371\n",
      "25%      0.804469\n",
      "50%      0.825843\n",
      "75%      0.837079\n",
      "max      0.865169\n",
      "dtype: float64\n"
     ]
    }
   ],
   "source": [
    "# Define parameters\n",
    "# They were manualy adjusted after grid search as gave a better leaderboard score\n",
    "params = {'C': 1.0, \n",
    "          'gamma': 'scale', \n",
    "          'kernel': 'rbf'}\n",
    "\n",
    "# Define and fit the model\n",
    "SV_model = SVC(**params)\n",
    "SV_model.fit(X, y)\n",
    "\n",
    "# Check accuracy and features importance\n",
    "SV_rmses = cross_val_score(SV_model, X, y, cv=5)\n",
    "\n",
    "print(pd.Series(SV_rmses).describe())"
   ]
  },
  {
   "cell_type": "markdown",
   "id": "2a8470c9",
   "metadata": {},
   "source": [
    "Comparing ML scores of different ML models"
   ]
  },
  {
   "cell_type": "code",
   "execution_count": 74,
   "id": "7e60565e",
   "metadata": {},
   "outputs": [
    {
     "data": {
      "text/plain": [
       "<BarContainer object of 3 artists>"
      ]
     },
     "execution_count": 74,
     "metadata": {},
     "output_type": "execute_result"
    },
    {
     "data": {
      "image/png": "[encoded data removed]",
      "text/plain": [
       "<Figure size 2000x800 with 1 Axes>"
      ]
     },
     "metadata": {},
     "output_type": "display_data"
    }
   ],
   "source": [
    "a = score_name\n",
    "b = score_list\n",
    "plt.figure(figsize=(20,8))\n",
    "for i in range(len(a)):\n",
    "    height = b[i]\n",
    "    plt.text(a[i], height + 0.25, '%.1f' %height, ha='center', va='bottom', size = 12)\n",
    "    \n",
    "plt.title(\"Compare each ML score\")\n",
    "plt.bar(a,b)"
   ]
  },
  {
   "cell_type": "markdown",
   "id": "756b727c",
   "metadata": {},
   "source": [
    "Use Deep Learning Predict Result"
   ]
  },
  {
   "cell_type": "code",
   "execution_count": 75,
   "id": "6782faf7",
   "metadata": {},
   "outputs": [],
   "source": [
    "import tensorflow as tf"
   ]
  },
  {
   "cell_type": "code",
   "execution_count": 76,
   "id": "31e44869",
   "metadata": {},
   "outputs": [
    {
     "data": {
      "text/html": [
       "<div>\n",
       "<style scoped>\n",
       "    .dataframe tbody tr th:only-of-type {\n",
       "        vertical-align: middle;\n",
       "    }\n",
       "\n",
       "    .dataframe tbody tr th {\n",
       "        vertical-align: top;\n",
       "    }\n",
       "\n",
       "    .dataframe thead th {\n",
       "        text-align: right;\n",
       "    }\n",
       "</style>\n",
       "<table border=\"1\" class=\"dataframe\">\n",
       "  <thead>\n",
       "    <tr style=\"text-align: right;\">\n",
       "      <th></th>\n",
       "      <th>Pclass_1</th>\n",
       "      <th>Pclass_2</th>\n",
       "      <th>Pclass_3</th>\n",
       "      <th>Sex_female</th>\n",
       "      <th>Sex_male</th>\n",
       "      <th>Embarked_C</th>\n",
       "      <th>Embarked_Q</th>\n",
       "      <th>Embarked_S</th>\n",
       "      <th>Title_Master</th>\n",
       "      <th>Title_Miss</th>\n",
       "      <th>...</th>\n",
       "      <th>Age_group_Young</th>\n",
       "      <th>Age_group_Adult</th>\n",
       "      <th>Age_group_Old</th>\n",
       "      <th>Family_group_Single</th>\n",
       "      <th>Family_group_Medium</th>\n",
       "      <th>Family_group_Large</th>\n",
       "      <th>Lucky_family_Low</th>\n",
       "      <th>Lucky_family_Medium</th>\n",
       "      <th>Lucky_family_Very_low</th>\n",
       "      <th>Lucky_family_High</th>\n",
       "    </tr>\n",
       "  </thead>\n",
       "  <tbody>\n",
       "    <tr>\n",
       "      <th>0</th>\n",
       "      <td>-0.572351</td>\n",
       "      <td>-0.518084</td>\n",
       "      <td>0.919925</td>\n",
       "      <td>-0.743497</td>\n",
       "      <td>0.743497</td>\n",
       "      <td>-0.50977</td>\n",
       "      <td>-0.322040</td>\n",
       "      <td>0.655011</td>\n",
       "      <td>-0.258514</td>\n",
       "      <td>-0.241258</td>\n",
       "      <td>...</td>\n",
       "      <td>0.857948</td>\n",
       "      <td>-0.489473</td>\n",
       "      <td>-0.398004</td>\n",
       "      <td>-1.233758</td>\n",
       "      <td>1.412595</td>\n",
       "      <td>-0.258514</td>\n",
       "      <td>-0.092057</td>\n",
       "      <td>-0.130744</td>\n",
       "      <td>0.707917</td>\n",
       "      <td>-0.438369</td>\n",
       "    </tr>\n",
       "    <tr>\n",
       "      <th>1</th>\n",
       "      <td>1.747178</td>\n",
       "      <td>-0.518084</td>\n",
       "      <td>-1.087045</td>\n",
       "      <td>1.344995</td>\n",
       "      <td>-1.344995</td>\n",
       "      <td>1.96167</td>\n",
       "      <td>-0.322040</td>\n",
       "      <td>-1.526692</td>\n",
       "      <td>-0.258514</td>\n",
       "      <td>-0.241258</td>\n",
       "      <td>...</td>\n",
       "      <td>-1.165572</td>\n",
       "      <td>2.043016</td>\n",
       "      <td>-0.398004</td>\n",
       "      <td>-1.233758</td>\n",
       "      <td>1.412595</td>\n",
       "      <td>-0.258514</td>\n",
       "      <td>-0.092057</td>\n",
       "      <td>-0.130744</td>\n",
       "      <td>-1.412595</td>\n",
       "      <td>2.281182</td>\n",
       "    </tr>\n",
       "    <tr>\n",
       "      <th>2</th>\n",
       "      <td>-0.572351</td>\n",
       "      <td>-0.518084</td>\n",
       "      <td>0.919925</td>\n",
       "      <td>1.344995</td>\n",
       "      <td>-1.344995</td>\n",
       "      <td>-0.50977</td>\n",
       "      <td>-0.322040</td>\n",
       "      <td>0.655011</td>\n",
       "      <td>-0.258514</td>\n",
       "      <td>-0.241258</td>\n",
       "      <td>...</td>\n",
       "      <td>0.857948</td>\n",
       "      <td>-0.489473</td>\n",
       "      <td>-0.398004</td>\n",
       "      <td>0.810532</td>\n",
       "      <td>-0.707917</td>\n",
       "      <td>-0.258514</td>\n",
       "      <td>-0.092057</td>\n",
       "      <td>-0.130744</td>\n",
       "      <td>0.707917</td>\n",
       "      <td>-0.438369</td>\n",
       "    </tr>\n",
       "    <tr>\n",
       "      <th>3</th>\n",
       "      <td>1.747178</td>\n",
       "      <td>-0.518084</td>\n",
       "      <td>-1.087045</td>\n",
       "      <td>1.344995</td>\n",
       "      <td>-1.344995</td>\n",
       "      <td>-0.50977</td>\n",
       "      <td>-0.322040</td>\n",
       "      <td>0.655011</td>\n",
       "      <td>-0.258514</td>\n",
       "      <td>-0.241258</td>\n",
       "      <td>...</td>\n",
       "      <td>-1.165572</td>\n",
       "      <td>2.043016</td>\n",
       "      <td>-0.398004</td>\n",
       "      <td>-1.233758</td>\n",
       "      <td>1.412595</td>\n",
       "      <td>-0.258514</td>\n",
       "      <td>-0.092057</td>\n",
       "      <td>-0.130744</td>\n",
       "      <td>0.707917</td>\n",
       "      <td>-0.438369</td>\n",
       "    </tr>\n",
       "    <tr>\n",
       "      <th>4</th>\n",
       "      <td>-0.572351</td>\n",
       "      <td>-0.518084</td>\n",
       "      <td>0.919925</td>\n",
       "      <td>-0.743497</td>\n",
       "      <td>0.743497</td>\n",
       "      <td>-0.50977</td>\n",
       "      <td>-0.322040</td>\n",
       "      <td>0.655011</td>\n",
       "      <td>-0.258514</td>\n",
       "      <td>-0.241258</td>\n",
       "      <td>...</td>\n",
       "      <td>-1.165572</td>\n",
       "      <td>2.043016</td>\n",
       "      <td>-0.398004</td>\n",
       "      <td>0.810532</td>\n",
       "      <td>-0.707917</td>\n",
       "      <td>-0.258514</td>\n",
       "      <td>-0.092057</td>\n",
       "      <td>-0.130744</td>\n",
       "      <td>0.707917</td>\n",
       "      <td>-0.438369</td>\n",
       "    </tr>\n",
       "    <tr>\n",
       "      <th>...</th>\n",
       "      <td>...</td>\n",
       "      <td>...</td>\n",
       "      <td>...</td>\n",
       "      <td>...</td>\n",
       "      <td>...</td>\n",
       "      <td>...</td>\n",
       "      <td>...</td>\n",
       "      <td>...</td>\n",
       "      <td>...</td>\n",
       "      <td>...</td>\n",
       "      <td>...</td>\n",
       "      <td>...</td>\n",
       "      <td>...</td>\n",
       "      <td>...</td>\n",
       "      <td>...</td>\n",
       "      <td>...</td>\n",
       "      <td>...</td>\n",
       "      <td>...</td>\n",
       "      <td>...</td>\n",
       "      <td>...</td>\n",
       "      <td>...</td>\n",
       "    </tr>\n",
       "    <tr>\n",
       "      <th>886</th>\n",
       "      <td>-0.572351</td>\n",
       "      <td>1.930190</td>\n",
       "      <td>-1.087045</td>\n",
       "      <td>-0.743497</td>\n",
       "      <td>0.743497</td>\n",
       "      <td>-0.50977</td>\n",
       "      <td>-0.322040</td>\n",
       "      <td>0.655011</td>\n",
       "      <td>-0.258514</td>\n",
       "      <td>-0.241258</td>\n",
       "      <td>...</td>\n",
       "      <td>0.857948</td>\n",
       "      <td>-0.489473</td>\n",
       "      <td>-0.398004</td>\n",
       "      <td>0.810532</td>\n",
       "      <td>-0.707917</td>\n",
       "      <td>-0.258514</td>\n",
       "      <td>-0.092057</td>\n",
       "      <td>-0.130744</td>\n",
       "      <td>0.707917</td>\n",
       "      <td>-0.438369</td>\n",
       "    </tr>\n",
       "    <tr>\n",
       "      <th>887</th>\n",
       "      <td>1.747178</td>\n",
       "      <td>-0.518084</td>\n",
       "      <td>-1.087045</td>\n",
       "      <td>1.344995</td>\n",
       "      <td>-1.344995</td>\n",
       "      <td>-0.50977</td>\n",
       "      <td>-0.322040</td>\n",
       "      <td>0.655011</td>\n",
       "      <td>-0.258514</td>\n",
       "      <td>-0.241258</td>\n",
       "      <td>...</td>\n",
       "      <td>0.857948</td>\n",
       "      <td>-0.489473</td>\n",
       "      <td>-0.398004</td>\n",
       "      <td>0.810532</td>\n",
       "      <td>-0.707917</td>\n",
       "      <td>-0.258514</td>\n",
       "      <td>-0.092057</td>\n",
       "      <td>-0.130744</td>\n",
       "      <td>0.707917</td>\n",
       "      <td>-0.438369</td>\n",
       "    </tr>\n",
       "    <tr>\n",
       "      <th>888</th>\n",
       "      <td>-0.572351</td>\n",
       "      <td>-0.518084</td>\n",
       "      <td>0.919925</td>\n",
       "      <td>1.344995</td>\n",
       "      <td>-1.344995</td>\n",
       "      <td>-0.50977</td>\n",
       "      <td>-0.322040</td>\n",
       "      <td>0.655011</td>\n",
       "      <td>-0.258514</td>\n",
       "      <td>-0.241258</td>\n",
       "      <td>...</td>\n",
       "      <td>0.857948</td>\n",
       "      <td>-0.489473</td>\n",
       "      <td>-0.398004</td>\n",
       "      <td>-1.233758</td>\n",
       "      <td>1.412595</td>\n",
       "      <td>-0.258514</td>\n",
       "      <td>-0.092057</td>\n",
       "      <td>-0.130744</td>\n",
       "      <td>-1.412595</td>\n",
       "      <td>-0.438369</td>\n",
       "    </tr>\n",
       "    <tr>\n",
       "      <th>889</th>\n",
       "      <td>1.747178</td>\n",
       "      <td>-0.518084</td>\n",
       "      <td>-1.087045</td>\n",
       "      <td>-0.743497</td>\n",
       "      <td>0.743497</td>\n",
       "      <td>1.96167</td>\n",
       "      <td>-0.322040</td>\n",
       "      <td>-1.526692</td>\n",
       "      <td>-0.258514</td>\n",
       "      <td>-0.241258</td>\n",
       "      <td>...</td>\n",
       "      <td>0.857948</td>\n",
       "      <td>-0.489473</td>\n",
       "      <td>-0.398004</td>\n",
       "      <td>0.810532</td>\n",
       "      <td>-0.707917</td>\n",
       "      <td>-0.258514</td>\n",
       "      <td>-0.092057</td>\n",
       "      <td>-0.130744</td>\n",
       "      <td>0.707917</td>\n",
       "      <td>-0.438369</td>\n",
       "    </tr>\n",
       "    <tr>\n",
       "      <th>890</th>\n",
       "      <td>-0.572351</td>\n",
       "      <td>-0.518084</td>\n",
       "      <td>0.919925</td>\n",
       "      <td>-0.743497</td>\n",
       "      <td>0.743497</td>\n",
       "      <td>-0.50977</td>\n",
       "      <td>3.105202</td>\n",
       "      <td>-1.526692</td>\n",
       "      <td>-0.258514</td>\n",
       "      <td>-0.241258</td>\n",
       "      <td>...</td>\n",
       "      <td>0.857948</td>\n",
       "      <td>-0.489473</td>\n",
       "      <td>-0.398004</td>\n",
       "      <td>0.810532</td>\n",
       "      <td>-0.707917</td>\n",
       "      <td>-0.258514</td>\n",
       "      <td>-0.092057</td>\n",
       "      <td>-0.130744</td>\n",
       "      <td>0.707917</td>\n",
       "      <td>-0.438369</td>\n",
       "    </tr>\n",
       "  </tbody>\n",
       "</table>\n",
       "<p>891 rows × 28 columns</p>\n",
       "</div>"
      ],
      "text/plain": [
       "     Pclass_1  Pclass_2  Pclass_3  Sex_female  Sex_male  Embarked_C  \\\n",
       "0   -0.572351 -0.518084  0.919925   -0.743497  0.743497    -0.50977   \n",
       "1    1.747178 -0.518084 -1.087045    1.344995 -1.344995     1.96167   \n",
       "2   -0.572351 -0.518084  0.919925    1.344995 -1.344995    -0.50977   \n",
       "3    1.747178 -0.518084 -1.087045    1.344995 -1.344995    -0.50977   \n",
       "4   -0.572351 -0.518084  0.919925   -0.743497  0.743497    -0.50977   \n",
       "..        ...       ...       ...         ...       ...         ...   \n",
       "886 -0.572351  1.930190 -1.087045   -0.743497  0.743497    -0.50977   \n",
       "887  1.747178 -0.518084 -1.087045    1.344995 -1.344995    -0.50977   \n",
       "888 -0.572351 -0.518084  0.919925    1.344995 -1.344995    -0.50977   \n",
       "889  1.747178 -0.518084 -1.087045   -0.743497  0.743497     1.96167   \n",
       "890 -0.572351 -0.518084  0.919925   -0.743497  0.743497    -0.50977   \n",
       "\n",
       "     Embarked_Q  Embarked_S  Title_Master  Title_Miss  ...  Age_group_Young  \\\n",
       "0     -0.322040    0.655011     -0.258514   -0.241258  ...         0.857948   \n",
       "1     -0.322040   -1.526692     -0.258514   -0.241258  ...        -1.165572   \n",
       "2     -0.322040    0.655011     -0.258514   -0.241258  ...         0.857948   \n",
       "3     -0.322040    0.655011     -0.258514   -0.241258  ...        -1.165572   \n",
       "4     -0.322040    0.655011     -0.258514   -0.241258  ...        -1.165572   \n",
       "..          ...         ...           ...         ...  ...              ...   \n",
       "886   -0.322040    0.655011     -0.258514   -0.241258  ...         0.857948   \n",
       "887   -0.322040    0.655011     -0.258514   -0.241258  ...         0.857948   \n",
       "888   -0.322040    0.655011     -0.258514   -0.241258  ...         0.857948   \n",
       "889   -0.322040   -1.526692     -0.258514   -0.241258  ...         0.857948   \n",
       "890    3.105202   -1.526692     -0.258514   -0.241258  ...         0.857948   \n",
       "\n",
       "     Age_group_Adult  Age_group_Old  Family_group_Single  Family_group_Medium  \\\n",
       "0          -0.489473      -0.398004            -1.233758             1.412595   \n",
       "1           2.043016      -0.398004            -1.233758             1.412595   \n",
       "2          -0.489473      -0.398004             0.810532            -0.707917   \n",
       "3           2.043016      -0.398004            -1.233758             1.412595   \n",
       "4           2.043016      -0.398004             0.810532            -0.707917   \n",
       "..               ...            ...                  ...                  ...   \n",
       "886        -0.489473      -0.398004             0.810532            -0.707917   \n",
       "887        -0.489473      -0.398004             0.810532            -0.707917   \n",
       "888        -0.489473      -0.398004            -1.233758             1.412595   \n",
       "889        -0.489473      -0.398004             0.810532            -0.707917   \n",
       "890        -0.489473      -0.398004             0.810532            -0.707917   \n",
       "\n",
       "     Family_group_Large  Lucky_family_Low  Lucky_family_Medium  \\\n",
       "0             -0.258514         -0.092057            -0.130744   \n",
       "1             -0.258514         -0.092057            -0.130744   \n",
       "2             -0.258514         -0.092057            -0.130744   \n",
       "3             -0.258514         -0.092057            -0.130744   \n",
       "4             -0.258514         -0.092057            -0.130744   \n",
       "..                  ...               ...                  ...   \n",
       "886           -0.258514         -0.092057            -0.130744   \n",
       "887           -0.258514         -0.092057            -0.130744   \n",
       "888           -0.258514         -0.092057            -0.130744   \n",
       "889           -0.258514         -0.092057            -0.130744   \n",
       "890           -0.258514         -0.092057            -0.130744   \n",
       "\n",
       "     Lucky_family_Very_low  Lucky_family_High  \n",
       "0                 0.707917          -0.438369  \n",
       "1                -1.412595           2.281182  \n",
       "2                 0.707917          -0.438369  \n",
       "3                 0.707917          -0.438369  \n",
       "4                 0.707917          -0.438369  \n",
       "..                     ...                ...  \n",
       "886               0.707917          -0.438369  \n",
       "887               0.707917          -0.438369  \n",
       "888              -1.412595          -0.438369  \n",
       "889               0.707917          -0.438369  \n",
       "890               0.707917          -0.438369  \n",
       "\n",
       "[891 rows x 28 columns]"
      ]
     },
     "execution_count": 76,
     "metadata": {},
     "output_type": "execute_result"
    }
   ],
   "source": [
    "X #Train data"
   ]
  },
  {
   "cell_type": "code",
   "execution_count": 77,
   "id": "1a05e6f3",
   "metadata": {},
   "outputs": [
    {
     "data": {
      "text/plain": [
       "0      0\n",
       "1      1\n",
       "2      1\n",
       "3      1\n",
       "4      0\n",
       "      ..\n",
       "886    0\n",
       "887    1\n",
       "888    0\n",
       "889    1\n",
       "890    0\n",
       "Name: Survived, Length: 891, dtype: int64"
      ]
     },
     "execution_count": 77,
     "metadata": {},
     "output_type": "execute_result"
    }
   ],
   "source": [
    "y #Target"
   ]
  },
  {
   "cell_type": "code",
   "execution_count": 78,
   "id": "e3fc1784",
   "metadata": {},
   "outputs": [
    {
     "name": "stdout",
     "output_type": "stream",
     "text": [
      "Epoch 1/50\n",
      "28/28 [==============================] - 1s 2ms/step - loss: 0.6704 - accuracy: 0.6128\n",
      "Epoch 2/50\n",
      "28/28 [==============================] - 0s 2ms/step - loss: 0.6064 - accuracy: 0.6195\n",
      "Epoch 3/50\n",
      "28/28 [==============================] - 0s 2ms/step - loss: 0.5482 - accuracy: 0.7160\n",
      "Epoch 4/50\n",
      "28/28 [==============================] - 0s 2ms/step - loss: 0.5235 - accuracy: 0.7946\n",
      "Epoch 5/50\n",
      "28/28 [==============================] - 0s 2ms/step - loss: 0.4561 - accuracy: 0.8215\n",
      "Epoch 6/50\n",
      "28/28 [==============================] - 0s 2ms/step - loss: 0.4295 - accuracy: 0.8305\n",
      "Epoch 7/50\n",
      "28/28 [==============================] - 0s 2ms/step - loss: 0.4176 - accuracy: 0.8485\n",
      "Epoch 8/50\n",
      "28/28 [==============================] - 0s 2ms/step - loss: 0.3907 - accuracy: 0.8451\n",
      "Epoch 9/50\n",
      "28/28 [==============================] - 0s 2ms/step - loss: 0.3897 - accuracy: 0.8485\n",
      "Epoch 10/50\n",
      "28/28 [==============================] - 0s 2ms/step - loss: 0.3779 - accuracy: 0.8474\n",
      "Epoch 11/50\n",
      "28/28 [==============================] - 0s 2ms/step - loss: 0.3774 - accuracy: 0.8608\n",
      "Epoch 12/50\n",
      "28/28 [==============================] - 0s 2ms/step - loss: 0.3695 - accuracy: 0.8586\n",
      "Epoch 13/50\n",
      "28/28 [==============================] - 0s 2ms/step - loss: 0.3658 - accuracy: 0.8541\n",
      "Epoch 14/50\n",
      "28/28 [==============================] - 0s 1ms/step - loss: 0.3441 - accuracy: 0.8653\n",
      "Epoch 15/50\n",
      "28/28 [==============================] - 0s 1ms/step - loss: 0.3618 - accuracy: 0.8507\n",
      "Epoch 16/50\n",
      "28/28 [==============================] - 0s 2ms/step - loss: 0.3568 - accuracy: 0.8530\n",
      "Epoch 17/50\n",
      "28/28 [==============================] - 0s 1ms/step - loss: 0.3390 - accuracy: 0.8653\n",
      "Epoch 18/50\n",
      "28/28 [==============================] - 0s 2ms/step - loss: 0.3512 - accuracy: 0.8653\n",
      "Epoch 19/50\n",
      "28/28 [==============================] - 0s 2ms/step - loss: 0.3310 - accuracy: 0.8631\n",
      "Epoch 20/50\n",
      "28/28 [==============================] - 0s 2ms/step - loss: 0.3426 - accuracy: 0.8597\n",
      "Epoch 21/50\n",
      "28/28 [==============================] - 0s 2ms/step - loss: 0.3291 - accuracy: 0.8653\n",
      "Epoch 22/50\n",
      "28/28 [==============================] - 0s 2ms/step - loss: 0.3404 - accuracy: 0.8642\n",
      "Epoch 23/50\n",
      "28/28 [==============================] - 0s 2ms/step - loss: 0.3258 - accuracy: 0.8765\n",
      "Epoch 24/50\n",
      "28/28 [==============================] - 0s 2ms/step - loss: 0.3354 - accuracy: 0.8620\n",
      "Epoch 25/50\n",
      "28/28 [==============================] - 0s 2ms/step - loss: 0.3209 - accuracy: 0.8721\n",
      "Epoch 26/50\n",
      "28/28 [==============================] - 0s 1ms/step - loss: 0.3243 - accuracy: 0.8597\n",
      "Epoch 27/50\n",
      "28/28 [==============================] - 0s 1ms/step - loss: 0.3013 - accuracy: 0.8698\n",
      "Epoch 28/50\n",
      "28/28 [==============================] - 0s 2ms/step - loss: 0.3114 - accuracy: 0.8698\n",
      "Epoch 29/50\n",
      "28/28 [==============================] - 0s 1ms/step - loss: 0.2968 - accuracy: 0.8687\n",
      "Epoch 30/50\n",
      "28/28 [==============================] - 0s 2ms/step - loss: 0.3032 - accuracy: 0.8799\n",
      "Epoch 31/50\n",
      "28/28 [==============================] - 0s 1ms/step - loss: 0.3038 - accuracy: 0.8743\n",
      "Epoch 32/50\n",
      "28/28 [==============================] - 0s 2ms/step - loss: 0.3023 - accuracy: 0.8754\n",
      "Epoch 33/50\n",
      "28/28 [==============================] - 0s 2ms/step - loss: 0.2958 - accuracy: 0.8765\n",
      "Epoch 34/50\n",
      "28/28 [==============================] - 0s 2ms/step - loss: 0.3028 - accuracy: 0.8698\n",
      "Epoch 35/50\n",
      "28/28 [==============================] - 0s 1ms/step - loss: 0.3020 - accuracy: 0.8732\n",
      "Epoch 36/50\n",
      "28/28 [==============================] - 0s 1ms/step - loss: 0.3019 - accuracy: 0.8732\n",
      "Epoch 37/50\n",
      "28/28 [==============================] - 0s 2ms/step - loss: 0.3041 - accuracy: 0.8698\n",
      "Epoch 38/50\n",
      "28/28 [==============================] - 0s 1ms/step - loss: 0.2972 - accuracy: 0.8765\n",
      "Epoch 39/50\n",
      "28/28 [==============================] - 0s 2ms/step - loss: 0.2935 - accuracy: 0.8844\n",
      "Epoch 40/50\n",
      "28/28 [==============================] - 0s 2ms/step - loss: 0.2885 - accuracy: 0.8777\n",
      "Epoch 41/50\n",
      "28/28 [==============================] - 0s 2ms/step - loss: 0.2878 - accuracy: 0.8765\n",
      "Epoch 42/50\n",
      "28/28 [==============================] - 0s 1ms/step - loss: 0.2882 - accuracy: 0.8799\n",
      "Epoch 43/50\n",
      "28/28 [==============================] - 0s 2ms/step - loss: 0.2990 - accuracy: 0.8777\n",
      "Epoch 44/50\n",
      "28/28 [==============================] - 0s 2ms/step - loss: 0.3016 - accuracy: 0.8777\n",
      "Epoch 45/50\n",
      "28/28 [==============================] - 0s 1ms/step - loss: 0.2958 - accuracy: 0.8777\n",
      "Epoch 46/50\n",
      "28/28 [==============================] - 0s 2ms/step - loss: 0.2956 - accuracy: 0.8698\n",
      "Epoch 47/50\n",
      "28/28 [==============================] - 0s 2ms/step - loss: 0.2750 - accuracy: 0.8810\n",
      "Epoch 48/50\n",
      "28/28 [==============================] - 0s 2ms/step - loss: 0.2760 - accuracy: 0.8833\n",
      "Epoch 49/50\n",
      "28/28 [==============================] - 0s 2ms/step - loss: 0.2785 - accuracy: 0.8866\n",
      "Epoch 50/50\n",
      "28/28 [==============================] - 0s 2ms/step - loss: 0.2870 - accuracy: 0.8833\n"
     ]
    },
    {
     "data": {
      "text/plain": [
       "<keras.callbacks.History at 0x1d73ede6790>"
      ]
     },
     "execution_count": 78,
     "metadata": {},
     "output_type": "execute_result"
    }
   ],
   "source": [
    "model = tf.keras.models.Sequential(\n",
    "[\n",
    "    tf.keras.layers.Dense(64, activation='relu'),\n",
    "    tf.keras.layers.Dropout(0.2),\n",
    "    tf.keras.layers.Dense(64, activation='relu'),\n",
    "    tf.keras.layers.Dropout(0.2),\n",
    "    tf.keras.layers.Dense(64, activation='relu'),\n",
    "    tf.keras.layers.Dropout(0.2),\n",
    "    tf.keras.layers.Dense(64, activation='relu'),\n",
    "    tf.keras.layers.Dropout(0.2),\n",
    "    tf.keras.layers.Dense(64, activation='relu'),\n",
    "    tf.keras.layers.Dropout(0.2),\n",
    "    tf.keras.layers.Dense(64, activation='relu'),\n",
    "    tf.keras.layers.Dropout(0.2),\n",
    "    tf.keras.layers.Dense(64, activation='relu'),\n",
    "    tf.keras.layers.Dropout(0.2),\n",
    "    tf.keras.layers.Dense(64, activation='relu'),\n",
    "    tf.keras.layers.Dropout(0.2),\n",
    "    tf.keras.layers.Dense(1, activation='sigmoid')\n",
    "])\n",
    "\n",
    "model.compile(optimizer=\"adam\", loss=\"binary_crossentropy\", metrics=[\"accuracy\"])\n",
    "model.fit(np.array(X), np.array(y), epochs=50)"
   ]
  },
  {
   "cell_type": "code",
   "execution_count": 79,
   "id": "d2756742",
   "metadata": {},
   "outputs": [],
   "source": [
    "submission_dl = []"
   ]
  },
  {
   "cell_type": "code",
   "execution_count": 80,
   "id": "3a114a10",
   "metadata": {},
   "outputs": [
    {
     "name": "stdout",
     "output_type": "stream",
     "text": [
      "14/14 [==============================] - 0s 693us/step\n",
      "14/14 [==============================] - 0s 693us/step\n",
      "14/14 [==============================] - 0s 693us/step\n",
      "14/14 [==============================] - 0s 693us/step\n",
      "14/14 [==============================] - 0s 693us/step\n",
      "14/14 [==============================] - 0s 654us/step\n",
      "14/14 [==============================] - 0s 577us/step\n",
      "14/14 [==============================] - 0s 616us/step\n",
      "14/14 [==============================] - 0s 578us/step\n",
      "14/14 [==============================] - 0s 577us/step\n",
      "14/14 [==============================] - 0s 616us/step\n",
      "14/14 [==============================] - 0s 577us/step\n",
      "14/14 [==============================] - 0s 654us/step\n",
      "14/14 [==============================] - 0s 693us/step\n",
      "14/14 [==============================] - 0s 616us/step\n",
      "14/14 [==============================] - 0s 616us/step\n",
      "14/14 [==============================] - 0s 654us/step\n",
      "14/14 [==============================] - 0s 654us/step\n",
      "14/14 [==============================] - 0s 770us/step\n",
      "14/14 [==============================] - 0s 731us/step\n",
      "14/14 [==============================] - 0s 654us/step\n",
      "14/14 [==============================] - 0s 731us/step\n",
      "14/14 [==============================] - 0s 616us/step\n",
      "14/14 [==============================] - 0s 693us/step\n",
      "14/14 [==============================] - 0s 693us/step\n",
      "14/14 [==============================] - 0s 616us/step\n",
      "14/14 [==============================] - 0s 693us/step\n",
      "14/14 [==============================] - 0s 693us/step\n",
      "14/14 [==============================] - 0s 654us/step\n",
      "14/14 [==============================] - 0s 693us/step\n",
      "14/14 [==============================] - 0s 770us/step\n",
      "14/14 [==============================] - 0s 654us/step\n",
      "14/14 [==============================] - 0s 654us/step\n",
      "14/14 [==============================] - 0s 654us/step\n",
      "14/14 [==============================] - 0s 654us/step\n",
      "14/14 [==============================] - 0s 654us/step\n",
      "14/14 [==============================] - 0s 616us/step\n",
      "14/14 [==============================] - 0s 616us/step\n",
      "14/14 [==============================] - 0s 616us/step\n",
      "14/14 [==============================] - 0s 577us/step\n",
      "14/14 [==============================] - 0s 577us/step\n",
      "14/14 [==============================] - 0s 616us/step\n",
      "14/14 [==============================] - 0s 616us/step\n",
      "14/14 [==============================] - 0s 539us/step\n",
      "14/14 [==============================] - 0s 654us/step\n",
      "14/14 [==============================] - 0s 693us/step\n",
      "14/14 [==============================] - 0s 654us/step\n",
      "14/14 [==============================] - 0s 654us/step\n",
      "14/14 [==============================] - 0s 731us/step\n",
      "14/14 [==============================] - 0s 654us/step\n",
      "14/14 [==============================] - 0s 577us/step\n",
      "14/14 [==============================] - 0s 693us/step\n",
      "14/14 [==============================] - 0s 577us/step\n",
      "14/14 [==============================] - 0s 693us/step\n",
      "14/14 [==============================] - 0s 616us/step\n",
      "14/14 [==============================] - 0s 616us/step\n",
      "14/14 [==============================] - 0s 731us/step\n",
      "14/14 [==============================] - 0s 731us/step\n",
      "14/14 [==============================] - 0s 693us/step\n",
      "14/14 [==============================] - 0s 616us/step\n",
      "14/14 [==============================] - 0s 616us/step\n",
      "14/14 [==============================] - 0s 616us/step\n",
      "14/14 [==============================] - 0s 616us/step\n",
      "14/14 [==============================] - 0s 616us/step\n",
      "14/14 [==============================] - 0s 616us/step\n",
      "14/14 [==============================] - 0s 577us/step\n",
      "14/14 [==============================] - 0s 577us/step\n",
      "14/14 [==============================] - 0s 654us/step\n",
      "14/14 [==============================] - 0s 577us/step\n",
      "14/14 [==============================] - 0s 616us/step\n",
      "14/14 [==============================] - 0s 616us/step\n",
      "14/14 [==============================] - 0s 616us/step\n",
      "14/14 [==============================] - 0s 577us/step\n",
      "14/14 [==============================] - 0s 616us/step\n",
      "14/14 [==============================] - 0s 654us/step\n",
      "14/14 [==============================] - 0s 654us/step\n",
      "14/14 [==============================] - 0s 616us/step\n",
      "14/14 [==============================] - 0s 577us/step\n",
      "14/14 [==============================] - 0s 654us/step\n",
      "14/14 [==============================] - 0s 616us/step\n",
      "14/14 [==============================] - 0s 616us/step\n",
      "14/14 [==============================] - 0s 616us/step\n",
      "14/14 [==============================] - 0s 616us/step\n",
      "14/14 [==============================] - 0s 654us/step\n",
      "14/14 [==============================] - 0s 577us/step\n",
      "14/14 [==============================] - 0s 616us/step\n",
      "14/14 [==============================] - 0s 539us/step\n",
      "14/14 [==============================] - 0s 577us/step\n",
      "14/14 [==============================] - 0s 577us/step\n",
      "14/14 [==============================] - 0s 731us/step\n",
      "14/14 [==============================] - 0s 654us/step\n",
      "14/14 [==============================] - 0s 654us/step\n",
      "14/14 [==============================] - 0s 654us/step\n",
      "14/14 [==============================] - 0s 654us/step\n",
      "14/14 [==============================] - 0s 731us/step\n",
      "14/14 [==============================] - 0s 539us/step\n",
      "14/14 [==============================] - 0s 654us/step\n",
      "14/14 [==============================] - 0s 616us/step\n",
      "14/14 [==============================] - 0s 616us/step\n",
      "14/14 [==============================] - 0s 616us/step\n",
      "14/14 [==============================] - 0s 577us/step\n",
      "14/14 [==============================] - 0s 577us/step\n",
      "14/14 [==============================] - 0s 577us/step\n",
      "14/14 [==============================] - 0s 616us/step\n",
      "14/14 [==============================] - 0s 654us/step\n",
      "14/14 [==============================] - 0s 616us/step\n",
      "14/14 [==============================] - 0s 616us/step\n",
      "14/14 [==============================] - 0s 616us/step\n",
      "14/14 [==============================] - 0s 577us/step\n",
      "14/14 [==============================] - 0s 539us/step\n",
      "14/14 [==============================] - 0s 577us/step\n",
      "14/14 [==============================] - 0s 616us/step\n",
      "14/14 [==============================] - 0s 577us/step\n",
      "14/14 [==============================] - 0s 577us/step\n",
      "14/14 [==============================] - 0s 654us/step\n",
      "14/14 [==============================] - 0s 616us/step\n",
      "14/14 [==============================] - 0s 616us/step\n",
      "14/14 [==============================] - 0s 616us/step\n",
      "14/14 [==============================] - 0s 731us/step\n",
      "14/14 [==============================] - 0s 731us/step\n",
      "14/14 [==============================] - 0s 693us/step\n",
      "14/14 [==============================] - 0s 577us/step\n",
      "14/14 [==============================] - 0s 616us/step\n",
      "14/14 [==============================] - 0s 577us/step\n",
      "14/14 [==============================] - 0s 577us/step\n",
      "14/14 [==============================] - 0s 654us/step\n",
      "14/14 [==============================] - 0s 577us/step\n",
      "14/14 [==============================] - 0s 616us/step\n",
      "14/14 [==============================] - 0s 616us/step\n",
      "14/14 [==============================] - 0s 616us/step\n",
      "14/14 [==============================] - 0s 577us/step\n",
      "14/14 [==============================] - 0s 577us/step\n",
      "14/14 [==============================] - 0s 616us/step\n",
      "14/14 [==============================] - 0s 577us/step\n",
      "14/14 [==============================] - 0s 654us/step\n",
      "14/14 [==============================] - 0s 731us/step\n",
      "14/14 [==============================] - 0s 693us/step\n",
      "14/14 [==============================] - 0s 654us/step\n",
      "14/14 [==============================] - 0s 654us/step\n",
      "14/14 [==============================] - 0s 693us/step\n",
      "14/14 [==============================] - 0s 654us/step\n",
      "14/14 [==============================] - 0s 616us/step\n",
      "14/14 [==============================] - 0s 616us/step\n",
      "14/14 [==============================] - 0s 616us/step\n",
      "14/14 [==============================] - 0s 654us/step\n",
      "14/14 [==============================] - 0s 577us/step\n",
      "14/14 [==============================] - 0s 577us/step\n",
      "14/14 [==============================] - 0s 616us/step\n",
      "14/14 [==============================] - 0s 577us/step\n"
     ]
    },
    {
     "name": "stdout",
     "output_type": "stream",
     "text": [
      "14/14 [==============================] - 0s 654us/step\n",
      "14/14 [==============================] - 0s 616us/step\n",
      "14/14 [==============================] - 0s 577us/step\n",
      "14/14 [==============================] - 0s 577us/step\n",
      "14/14 [==============================] - 0s 577us/step\n",
      "14/14 [==============================] - 0s 654us/step\n",
      "14/14 [==============================] - 0s 616us/step\n",
      "14/14 [==============================] - 0s 616us/step\n",
      "14/14 [==============================] - 0s 616us/step\n",
      "14/14 [==============================] - 0s 577us/step\n",
      "14/14 [==============================] - 0s 616us/step\n",
      "14/14 [==============================] - 0s 616us/step\n",
      "14/14 [==============================] - 0s 577us/step\n",
      "14/14 [==============================] - 0s 577us/step\n",
      "14/14 [==============================] - 0s 616us/step\n",
      "14/14 [==============================] - 0s 616us/step\n",
      "14/14 [==============================] - 0s 654us/step\n",
      "14/14 [==============================] - 0s 577us/step\n",
      "14/14 [==============================] - 0s 616us/step\n",
      "14/14 [==============================] - 0s 616us/step\n",
      "14/14 [==============================] - 0s 577us/step\n",
      "14/14 [==============================] - 0s 539us/step\n",
      "14/14 [==============================] - 0s 616us/step\n",
      "14/14 [==============================] - 0s 577us/step\n",
      "14/14 [==============================] - 0s 577us/step\n",
      "14/14 [==============================] - 0s 616us/step\n",
      "14/14 [==============================] - 0s 693us/step\n",
      "14/14 [==============================] - 0s 616us/step\n",
      "14/14 [==============================] - 0s 577us/step\n",
      "14/14 [==============================] - 0s 613us/step\n",
      "14/14 [==============================] - 0s 654us/step\n",
      "14/14 [==============================] - 0s 731us/step\n",
      "14/14 [==============================] - 0s 770us/step\n",
      "14/14 [==============================] - 0s 693us/step\n",
      "14/14 [==============================] - 0s 693us/step\n",
      "14/14 [==============================] - 0s 616us/step\n",
      "14/14 [==============================] - 0s 577us/step\n",
      "14/14 [==============================] - 0s 577us/step\n",
      "14/14 [==============================] - 0s 616us/step\n",
      "14/14 [==============================] - 0s 616us/step\n",
      "14/14 [==============================] - 0s 577us/step\n",
      "14/14 [==============================] - 0s 577us/step\n",
      "14/14 [==============================] - 0s 577us/step\n",
      "14/14 [==============================] - 0s 539us/step\n",
      "14/14 [==============================] - 0s 577us/step\n",
      "14/14 [==============================] - 0s 577us/step\n",
      "14/14 [==============================] - 0s 577us/step\n",
      "14/14 [==============================] - 0s 577us/step\n",
      "14/14 [==============================] - 0s 616us/step\n",
      "14/14 [==============================] - 0s 577us/step\n",
      "14/14 [==============================] - 0s 539us/step\n",
      "14/14 [==============================] - 0s 577us/step\n",
      "14/14 [==============================] - 0s 577us/step\n",
      "14/14 [==============================] - 0s 616us/step\n",
      "14/14 [==============================] - 0s 577us/step\n",
      "14/14 [==============================] - 0s 577us/step\n",
      "14/14 [==============================] - 0s 616us/step\n",
      "14/14 [==============================] - 0s 616us/step\n",
      "14/14 [==============================] - 0s 616us/step\n",
      "14/14 [==============================] - 0s 577us/step\n",
      "14/14 [==============================] - 0s 616us/step\n",
      "14/14 [==============================] - 0s 616us/step\n",
      "14/14 [==============================] - 0s 616us/step\n",
      "14/14 [==============================] - 0s 577us/step\n",
      "14/14 [==============================] - 0s 577us/step\n",
      "14/14 [==============================] - 0s 577us/step\n",
      "14/14 [==============================] - 0s 616us/step\n",
      "14/14 [==============================] - 0s 577us/step\n",
      "14/14 [==============================] - 0s 577us/step\n",
      "14/14 [==============================] - 0s 616us/step\n",
      "14/14 [==============================] - 0s 616us/step\n",
      "14/14 [==============================] - 0s 577us/step\n",
      "14/14 [==============================] - 0s 577us/step\n",
      "14/14 [==============================] - 0s 577us/step\n",
      "14/14 [==============================] - 0s 616us/step\n",
      "14/14 [==============================] - 0s 654us/step\n",
      "14/14 [==============================] - 0s 654us/step\n",
      "14/14 [==============================] - 0s 654us/step\n",
      "14/14 [==============================] - 0s 654us/step\n",
      "14/14 [==============================] - 0s 693us/step\n",
      "14/14 [==============================] - 0s 654us/step\n",
      "14/14 [==============================] - 0s 616us/step\n",
      "14/14 [==============================] - 0s 577us/step\n",
      "14/14 [==============================] - 0s 577us/step\n",
      "14/14 [==============================] - 0s 577us/step\n",
      "14/14 [==============================] - 0s 577us/step\n",
      "14/14 [==============================] - 0s 616us/step\n",
      "14/14 [==============================] - 0s 539us/step\n",
      "14/14 [==============================] - 0s 616us/step\n",
      "14/14 [==============================] - 0s 577us/step\n",
      "14/14 [==============================] - 0s 654us/step\n",
      "14/14 [==============================] - 0s 654us/step\n",
      "14/14 [==============================] - 0s 693us/step\n",
      "14/14 [==============================] - 0s 654us/step\n",
      "14/14 [==============================] - 0s 577us/step\n",
      "14/14 [==============================] - 0s 616us/step\n",
      "14/14 [==============================] - 0s 577us/step\n",
      "14/14 [==============================] - 0s 577us/step\n",
      "14/14 [==============================] - 0s 616us/step\n",
      "14/14 [==============================] - 0s 616us/step\n",
      "14/14 [==============================] - 0s 616us/step\n",
      "14/14 [==============================] - 0s 616us/step\n",
      "14/14 [==============================] - 0s 616us/step\n",
      "14/14 [==============================] - 0s 577us/step\n",
      "14/14 [==============================] - 0s 577us/step\n",
      "14/14 [==============================] - 0s 577us/step\n",
      "14/14 [==============================] - 0s 577us/step\n",
      "14/14 [==============================] - 0s 577us/step\n",
      "14/14 [==============================] - 0s 616us/step\n",
      "14/14 [==============================] - 0s 616us/step\n",
      "14/14 [==============================] - 0s 654us/step\n",
      "14/14 [==============================] - 0s 577us/step\n",
      "14/14 [==============================] - 0s 616us/step\n",
      "14/14 [==============================] - 0s 577us/step\n",
      "14/14 [==============================] - 0s 616us/step\n",
      "14/14 [==============================] - 0s 577us/step\n",
      "14/14 [==============================] - 0s 577us/step\n",
      "14/14 [==============================] - 0s 577us/step\n",
      "14/14 [==============================] - 0s 654us/step\n",
      "14/14 [==============================] - 0s 577us/step\n",
      "14/14 [==============================] - 0s 577us/step\n",
      "14/14 [==============================] - 0s 654us/step\n",
      "14/14 [==============================] - 0s 693us/step\n",
      "14/14 [==============================] - 0s 616us/step\n",
      "14/14 [==============================] - 0s 654us/step\n",
      "14/14 [==============================] - 0s 693us/step\n",
      "14/14 [==============================] - 0s 616us/step\n",
      "14/14 [==============================] - 0s 693us/step\n",
      "14/14 [==============================] - 0s 577us/step\n",
      "14/14 [==============================] - 0s 577us/step\n",
      "14/14 [==============================] - 0s 616us/step\n",
      "14/14 [==============================] - 0s 616us/step\n",
      "14/14 [==============================] - 0s 616us/step\n",
      "14/14 [==============================] - 0s 577us/step\n",
      "14/14 [==============================] - 0s 616us/step\n",
      "14/14 [==============================] - 0s 616us/step\n",
      "14/14 [==============================] - 0s 577us/step\n",
      "14/14 [==============================] - 0s 654us/step\n",
      "14/14 [==============================] - 0s 616us/step\n",
      "14/14 [==============================] - 0s 616us/step\n",
      "14/14 [==============================] - 0s 577us/step\n",
      "14/14 [==============================] - 0s 616us/step\n",
      "14/14 [==============================] - 0s 654us/step\n",
      "14/14 [==============================] - 0s 616us/step\n",
      "14/14 [==============================] - 0s 577us/step\n",
      "14/14 [==============================] - 0s 616us/step\n",
      "14/14 [==============================] - 0s 577us/step\n",
      "14/14 [==============================] - 0s 577us/step\n",
      "14/14 [==============================] - 0s 577us/step\n"
     ]
    },
    {
     "name": "stdout",
     "output_type": "stream",
     "text": [
      "14/14 [==============================] - 0s 616us/step\n",
      "14/14 [==============================] - 0s 616us/step\n",
      "14/14 [==============================] - 0s 616us/step\n",
      "14/14 [==============================] - 0s 731us/step\n",
      "14/14 [==============================] - 0s 731us/step\n",
      "14/14 [==============================] - 0s 731us/step\n",
      "14/14 [==============================] - 0s 616us/step\n",
      "14/14 [==============================] - 0s 616us/step\n",
      "14/14 [==============================] - 0s 616us/step\n",
      "14/14 [==============================] - 0s 693us/step\n",
      "14/14 [==============================] - 0s 577us/step\n",
      "14/14 [==============================] - 0s 654us/step\n",
      "14/14 [==============================] - 0s 616us/step\n",
      "14/14 [==============================] - 0s 616us/step\n",
      "14/14 [==============================] - 0s 693us/step\n",
      "14/14 [==============================] - 0s 616us/step\n",
      "14/14 [==============================] - 0s 654us/step\n",
      "14/14 [==============================] - 0s 693us/step\n",
      "14/14 [==============================] - 0s 693us/step\n",
      "14/14 [==============================] - 0s 616us/step\n",
      "14/14 [==============================] - 0s 731us/step\n",
      "14/14 [==============================] - 0s 654us/step\n",
      "14/14 [==============================] - 0s 654us/step\n",
      "14/14 [==============================] - 0s 616us/step\n",
      "14/14 [==============================] - 0s 616us/step\n",
      "14/14 [==============================] - 0s 654us/step\n",
      "14/14 [==============================] - 0s 616us/step\n",
      "14/14 [==============================] - 0s 616us/step\n",
      "14/14 [==============================] - 0s 577us/step\n",
      "14/14 [==============================] - 0s 577us/step\n",
      "14/14 [==============================] - 0s 616us/step\n",
      "14/14 [==============================] - 0s 577us/step\n",
      "14/14 [==============================] - 0s 616us/step\n",
      "14/14 [==============================] - 0s 577us/step\n",
      "14/14 [==============================] - 0s 577us/step\n",
      "14/14 [==============================] - 0s 616us/step\n",
      "14/14 [==============================] - 0s 577us/step\n",
      "14/14 [==============================] - 0s 577us/step\n",
      "14/14 [==============================] - 0s 654us/step\n",
      "14/14 [==============================] - 0s 654us/step\n",
      "14/14 [==============================] - 0s 616us/step\n",
      "14/14 [==============================] - 0s 616us/step\n",
      "14/14 [==============================] - 0s 616us/step\n",
      "14/14 [==============================] - 0s 577us/step\n",
      "14/14 [==============================] - 0s 616us/step\n",
      "14/14 [==============================] - 0s 577us/step\n",
      "14/14 [==============================] - 0s 616us/step\n",
      "14/14 [==============================] - 0s 577us/step\n",
      "14/14 [==============================] - 0s 616us/step\n",
      "14/14 [==============================] - 0s 577us/step\n",
      "14/14 [==============================] - 0s 616us/step\n",
      "14/14 [==============================] - 0s 616us/step\n",
      "14/14 [==============================] - 0s 577us/step\n",
      "14/14 [==============================] - 0s 577us/step\n",
      "14/14 [==============================] - 0s 616us/step\n",
      "14/14 [==============================] - 0s 616us/step\n",
      "14/14 [==============================] - 0s 616us/step\n",
      "14/14 [==============================] - 0s 616us/step\n",
      "14/14 [==============================] - 0s 616us/step\n",
      "14/14 [==============================] - 0s 539us/step\n",
      "14/14 [==============================] - 0s 577us/step\n",
      "14/14 [==============================] - 0s 616us/step\n",
      "14/14 [==============================] - 0s 693us/step\n",
      "14/14 [==============================] - 0s 693us/step\n",
      "14/14 [==============================] - 0s 731us/step\n",
      "14/14 [==============================] - 0s 770us/step\n",
      "14/14 [==============================] - 0s 770us/step\n",
      "14/14 [==============================] - 0s 770us/step\n",
      "14/14 [==============================] - 0s 654us/step\n",
      "14/14 [==============================] - 0s 577us/step\n",
      "14/14 [==============================] - 0s 616us/step\n",
      "14/14 [==============================] - 0s 616us/step\n",
      "14/14 [==============================] - 0s 577us/step\n",
      "14/14 [==============================] - 0s 577us/step\n",
      "14/14 [==============================] - 0s 577us/step\n",
      "14/14 [==============================] - 0s 616us/step\n",
      "14/14 [==============================] - 0s 616us/step\n",
      "14/14 [==============================] - 0s 654us/step\n",
      "14/14 [==============================] - 0s 654us/step\n",
      "14/14 [==============================] - 0s 616us/step\n",
      "14/14 [==============================] - 0s 616us/step\n",
      "14/14 [==============================] - 0s 616us/step\n",
      "14/14 [==============================] - 0s 577us/step\n",
      "14/14 [==============================] - 0s 616us/step\n",
      "14/14 [==============================] - 0s 693us/step\n",
      "14/14 [==============================] - 0s 616us/step\n",
      "14/14 [==============================] - 0s 577us/step\n",
      "14/14 [==============================] - 0s 616us/step\n",
      "14/14 [==============================] - 0s 616us/step\n",
      "14/14 [==============================] - 0s 616us/step\n",
      "14/14 [==============================] - 0s 577us/step\n",
      "14/14 [==============================] - 0s 654us/step\n",
      "14/14 [==============================] - 0s 577us/step\n",
      "14/14 [==============================] - 0s 539us/step\n",
      "14/14 [==============================] - 0s 577us/step\n",
      "14/14 [==============================] - 0s 654us/step\n",
      "14/14 [==============================] - 0s 577us/step\n",
      "14/14 [==============================] - 0s 577us/step\n",
      "14/14 [==============================] - 0s 616us/step\n",
      "14/14 [==============================] - 0s 616us/step\n",
      "14/14 [==============================] - 0s 616us/step\n",
      "14/14 [==============================] - 0s 616us/step\n",
      "14/14 [==============================] - 0s 616us/step\n",
      "14/14 [==============================] - 0s 616us/step\n",
      "14/14 [==============================] - 0s 577us/step\n",
      "14/14 [==============================] - 0s 577us/step\n",
      "14/14 [==============================] - 0s 577us/step\n",
      "14/14 [==============================] - 0s 616us/step\n",
      "14/14 [==============================] - 0s 654us/step\n",
      "14/14 [==============================] - 0s 693us/step\n",
      "14/14 [==============================] - 0s 693us/step\n",
      "14/14 [==============================] - 0s 616us/step\n",
      "14/14 [==============================] - 0s 654us/step\n",
      "14/14 [==============================] - 0s 654us/step\n",
      "14/14 [==============================] - 0s 616us/step\n",
      "14/14 [==============================] - 0s 616us/step\n",
      "14/14 [==============================] - 0s 616us/step\n",
      "14/14 [==============================] - 0s 616us/step\n",
      "14/14 [==============================] - 0s 577us/step\n",
      "14/14 [==============================] - 0s 616us/step\n",
      "14/14 [==============================] - 0s 577us/step\n"
     ]
    }
   ],
   "source": [
    "for i in range(len(model.predict(test_df))):\n",
    "    if model.predict(test_df)[i][0] > 0.5:\n",
    "        submission_dl.append(1)\n",
    "    else:\n",
    "        submission_dl.append(0)"
   ]
  },
  {
   "cell_type": "code",
   "execution_count": 81,
   "id": "75bf0e43",
   "metadata": {},
   "outputs": [],
   "source": [
    "prediction_dl = np.array(submission_dl)"
   ]
  },
  {
   "cell_type": "code",
   "execution_count": 83,
   "id": "9d1cfd9c",
   "metadata": {},
   "outputs": [
    {
     "data": {
      "text/plain": [
       "array([0, 0, 0, 0, 1, 0, 1, 0, 1, 0, 0, 0, 1, 0, 1, 0, 0, 0, 0, 1, 1, 0,\n",
       "       1, 0, 1, 0, 1, 0, 0, 0, 0, 0, 1, 0, 0, 0, 1, 0, 0, 0, 0, 0, 0, 1,\n",
       "       1, 0, 0, 0, 1, 1, 0, 0, 1, 1, 0, 0, 0, 0, 0, 1, 0, 0, 0, 1, 1, 1,\n",
       "       1, 0, 0, 1, 1, 0, 1, 0, 1, 0, 0, 1, 0, 1, 0, 0, 0, 0, 0, 0, 1, 1,\n",
       "       1, 1, 0, 0, 1, 0, 0, 0, 0, 0, 1, 0, 1, 0, 0, 0, 1, 0, 0, 0, 0, 0,\n",
       "       0, 1, 1, 1, 1, 0, 1, 1, 0, 0, 1, 0, 1, 0, 0, 0, 0, 1, 0, 0, 0, 1,\n",
       "       0, 1, 0, 0, 0, 0, 1, 0, 0, 1, 0, 0, 1, 0, 1, 0, 0, 0, 1, 0, 0, 0,\n",
       "       0, 0, 1, 1, 0, 0, 1, 1, 0, 0, 0, 1, 0, 0, 1, 1, 0, 0, 0, 0, 0, 1,\n",
       "       1, 0, 1, 1, 0, 1, 1, 0, 1, 0, 1, 0, 0, 0, 0, 0, 0, 0, 1, 0, 1, 1,\n",
       "       0, 1, 1, 0, 1, 1, 0, 0, 1, 0, 1, 0, 0, 0, 0, 1, 0, 0, 1, 1, 1, 0,\n",
       "       1, 0, 0, 0, 1, 1, 1, 1, 0, 0, 1, 1, 0, 0, 1, 0, 1, 0, 1, 1, 1, 1,\n",
       "       1, 0, 0, 1, 1, 0, 0, 0, 1, 0, 0, 0, 0, 0, 0, 0, 1, 0, 0, 1, 1, 0,\n",
       "       0, 0, 0, 1, 1, 0, 0, 0, 1, 0, 0, 0, 0, 0, 0, 0, 0, 1, 1, 1, 0, 0,\n",
       "       0, 1, 0, 0, 0, 1, 0, 1, 0, 0, 1, 0, 1, 0, 0, 0, 0, 0, 0, 1, 0, 1,\n",
       "       1, 0, 0, 0, 0, 1, 0, 1, 1, 0, 1, 0, 1, 0, 0, 0, 1, 0, 1, 0, 0, 0,\n",
       "       0, 0, 1, 1, 0, 1, 0, 0, 0, 0, 0, 0, 0, 1, 0, 1, 0, 1, 0, 1, 1, 0,\n",
       "       0, 0, 1, 0, 1, 0, 0, 0, 0, 1, 1, 0, 1, 0, 0, 1, 1, 0, 0, 1, 0, 0,\n",
       "       1, 0, 0, 0, 0, 0, 0, 0, 0, 0, 0, 1, 0, 0, 0, 0, 1, 1, 1, 0, 0, 0,\n",
       "       0, 1, 0, 0, 1, 0, 1, 0, 1, 0, 0, 0, 1, 1, 1, 1, 1, 0, 1, 0, 0, 1])"
      ]
     },
     "execution_count": 83,
     "metadata": {},
     "output_type": "execute_result"
    }
   ],
   "source": [
    "prediction_dl"
   ]
  },
  {
   "cell_type": "markdown",
   "id": "d58fe514",
   "metadata": {},
   "source": [
    "Best ML Result"
   ]
  },
  {
   "cell_type": "code",
   "execution_count": 82,
   "id": "558082a6",
   "metadata": {},
   "outputs": [],
   "source": [
    "# Make predictions which we will submit.\n",
    "test_preds = cat_model.predict(test_df)\n",
    "\n",
    "# Save predictions in the format used for competition scoring\n",
    "output = pd.DataFrame({'PassengerId': test_id,\n",
    "                       'Survived': test_preds})\n",
    "output.to_csv('submission.csv', index=False)"
   ]
  },
  {
   "cell_type": "code",
   "execution_count": null,
   "id": "3ca129a4",
   "metadata": {},
   "outputs": [],
   "source": []
  }
 ],
 "metadata": {
  "kernelspec": {
   "display_name": "Python 3 (ipykernel)",
   "language": "python",
   "name": "python3"
  },
  "language_info": {
   "codemirror_mode": {
    "name": "ipython",
    "version": 3
   },
   "file_extension": ".py",
   "mimetype": "text/x-python",
   "name": "python",
   "nbconvert_exporter": "python",
   "pygments_lexer": "ipython3",
   "version": "3.9.13"
  }
 },
 "nbformat": 4,
 "nbformat_minor": 5
}
